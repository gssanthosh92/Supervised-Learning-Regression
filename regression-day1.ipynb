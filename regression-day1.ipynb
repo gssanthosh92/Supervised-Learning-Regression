{
 "cells": [
  {
   "cell_type": "code",
   "execution_count": 1,
   "metadata": {},
   "outputs": [],
   "source": [
    "import pandas as pd\n",
    "import seaborn as sns\n",
    "import numpy as np\n",
    "import matplotlib.pyplot as plt  \n",
    "%matplotlib inline\n",
    "import statsmodels.api as sm\n",
    "import statsmodels.formula.api as smf\n",
    "from scipy import stats\n",
    "from sklearn.linear_model import LinearRegression\n",
    "from sklearn.model_selection import train_test_split\n",
    "from sklearn import linear_model\n",
    "from sklearn import metrics\n",
    "import warnings\n",
    "warnings.filterwarnings('ignore')"
   ]
  },
  {
   "cell_type": "code",
   "execution_count": 5,
   "metadata": {},
   "outputs": [
    {
     "name": "stdout",
     "output_type": "stream",
     "text": [
      "   num_pass  cost\n",
      "0        61  4280\n",
      "1        63  4080\n",
      "2        67  4420\n",
      "3        69  4170\n",
      "4        70  4480\n"
     ]
    }
   ],
   "source": [
    "air = pd.read_csv('airline cost new.csv')\n",
    "print(air.head())\n",
    "x = air['num_pass'].values\n",
    "y = air['cost'].values"
   ]
  },
  {
   "cell_type": "code",
   "execution_count": 6,
   "metadata": {},
   "outputs": [
    {
     "data": {
      "text/plain": [
       "numpy.ndarray"
      ]
     },
     "execution_count": 6,
     "metadata": {},
     "output_type": "execute_result"
    }
   ],
   "source": [
    "type(x)"
   ]
  },
  {
   "cell_type": "code",
   "execution_count": 10,
   "metadata": {},
   "outputs": [],
   "source": [
    "x_mean = np.mean(x)\n",
    "y_mean = np.mean(y)\n",
    "n = len(x)"
   ]
  },
  {
   "cell_type": "code",
   "execution_count": 11,
   "metadata": {},
   "outputs": [
    {
     "name": "stdout",
     "output_type": "stream",
     "text": [
      "39.89413456928241 1612.9763145277288\n"
     ]
    }
   ],
   "source": [
    "numerator = 0\n",
    "denominator = 0\n",
    "\n",
    "for i in range(n):\n",
    "    numerator += (x[i]-x_mean)*(y[i]-y_mean)\n",
    "    denominator += (x[i]-x_mean)**2\n",
    "\n",
    "b1 = numerator/denominator\n",
    "b0 = y_mean - (b1*x_mean)\n",
    "\n",
    "print(b1, b0)"
   ]
  },
  {
   "cell_type": "markdown",
   "metadata": {},
   "source": [
    "OLS Approach"
   ]
  },
  {
   "cell_type": "code",
   "execution_count": 14,
   "metadata": {},
   "outputs": [
    {
     "name": "stdout",
     "output_type": "stream",
     "text": [
      "                            OLS Regression Results                            \n",
      "==============================================================================\n",
      "Dep. Variable:                      y   R-squared:                       0.865\n",
      "Model:                            OLS   Adj. R-squared:                  0.863\n",
      "Method:                 Least Squares   F-statistic:                     302.2\n",
      "Date:                Mon, 21 Oct 2019   Prob (F-statistic):           4.23e-22\n",
      "Time:                        13:57:28   Log-Likelihood:                -323.87\n",
      "No. Observations:                  49   AIC:                             651.7\n",
      "Df Residuals:                      47   BIC:                             655.5\n",
      "Df Model:                           1                                         \n",
      "Covariance Type:            nonrobust                                         \n",
      "==============================================================================\n",
      "                 coef    std err          t      P>|t|      [0.025      0.975]\n",
      "------------------------------------------------------------------------------\n",
      "const       1612.9763    185.831      8.680      0.000    1239.133    1986.820\n",
      "x1            39.8941      2.295     17.383      0.000      35.277      44.511\n",
      "==============================================================================\n",
      "Omnibus:                        3.612   Durbin-Watson:                   2.624\n",
      "Prob(Omnibus):                  0.164   Jarque-Bera (JB):                2.700\n",
      "Skew:                           0.556   Prob(JB):                        0.259\n",
      "Kurtosis:                       3.296   Cond. No.                         574.\n",
      "==============================================================================\n",
      "\n",
      "Warnings:\n",
      "[1] Standard Errors assume that the covariance matrix of the errors is correctly specified.\n"
     ]
    }
   ],
   "source": [
    "xc = sm.add_constant(x)\n",
    "model = sm.OLS(y, xc)\n",
    "results = model.fit()\n",
    "print(results.summary())"
   ]
  },
  {
   "cell_type": "code",
   "execution_count": 15,
   "metadata": {},
   "outputs": [
    {
     "data": {
      "text/html": [
       "<div>\n",
       "<style scoped>\n",
       "    .dataframe tbody tr th:only-of-type {\n",
       "        vertical-align: middle;\n",
       "    }\n",
       "\n",
       "    .dataframe tbody tr th {\n",
       "        vertical-align: top;\n",
       "    }\n",
       "\n",
       "    .dataframe thead th {\n",
       "        text-align: right;\n",
       "    }\n",
       "</style>\n",
       "<table border=\"1\" class=\"dataframe\">\n",
       "  <thead>\n",
       "    <tr style=\"text-align: right;\">\n",
       "      <th></th>\n",
       "      <th>Size_of_Purchase</th>\n",
       "      <th>Company_Size</th>\n",
       "      <th>%Imports</th>\n",
       "      <th>Distance</th>\n",
       "      <th>Central_Purchaser</th>\n",
       "    </tr>\n",
       "  </thead>\n",
       "  <tbody>\n",
       "    <tr>\n",
       "      <th>0</th>\n",
       "      <td>27.9</td>\n",
       "      <td>25.6</td>\n",
       "      <td>41</td>\n",
       "      <td>18</td>\n",
       "      <td>0</td>\n",
       "    </tr>\n",
       "    <tr>\n",
       "      <th>1</th>\n",
       "      <td>89.6</td>\n",
       "      <td>109.8</td>\n",
       "      <td>16</td>\n",
       "      <td>75</td>\n",
       "      <td>0</td>\n",
       "    </tr>\n",
       "    <tr>\n",
       "      <th>2</th>\n",
       "      <td>12.8</td>\n",
       "      <td>39.4</td>\n",
       "      <td>29</td>\n",
       "      <td>14</td>\n",
       "      <td>0</td>\n",
       "    </tr>\n",
       "    <tr>\n",
       "      <th>3</th>\n",
       "      <td>34.9</td>\n",
       "      <td>16.7</td>\n",
       "      <td>31</td>\n",
       "      <td>117</td>\n",
       "      <td>0</td>\n",
       "    </tr>\n",
       "    <tr>\n",
       "      <th>4</th>\n",
       "      <td>408.6</td>\n",
       "      <td>278.4</td>\n",
       "      <td>14</td>\n",
       "      <td>209</td>\n",
       "      <td>1</td>\n",
       "    </tr>\n",
       "  </tbody>\n",
       "</table>\n",
       "</div>"
      ],
      "text/plain": [
       "   Size_of_Purchase  Company_Size  %Imports  Distance  Central_Purchaser\n",
       "0              27.9          25.6        41        18                  0\n",
       "1              89.6         109.8        16        75                  0\n",
       "2              12.8          39.4        29        14                  0\n",
       "3              34.9          16.7        31       117                  0\n",
       "4             408.6         278.4        14       209                  1"
      ]
     },
     "execution_count": 15,
     "metadata": {},
     "output_type": "execute_result"
    }
   ],
   "source": [
    "vs = pd.read_csv('virginia semiconductors.csv')\n",
    "vs.head()"
   ]
  },
  {
   "cell_type": "code",
   "execution_count": 16,
   "metadata": {},
   "outputs": [],
   "source": [
    "y = vs['Size_of_Purchase']\n",
    "x = vs.drop('Size_of_Purchase', axis=1)\n",
    "xc = sm.add_constant(x)"
   ]
  },
  {
   "cell_type": "code",
   "execution_count": 18,
   "metadata": {},
   "outputs": [
    {
     "name": "stdout",
     "output_type": "stream",
     "text": [
      "                            OLS Regression Results                            \n",
      "==============================================================================\n",
      "Dep. Variable:       Size_of_Purchase   R-squared:                       0.948\n",
      "Model:                            OLS   Adj. R-squared:                  0.931\n",
      "Method:                 Least Squares   F-statistic:                     55.00\n",
      "Date:                Mon, 21 Oct 2019   Prob (F-statistic):           1.28e-07\n",
      "Time:                        14:44:02   Log-Likelihood:                -82.436\n",
      "No. Observations:                  17   AIC:                             174.9\n",
      "Df Residuals:                      12   BIC:                             179.0\n",
      "Df Model:                           4                                         \n",
      "Covariance Type:            nonrobust                                         \n",
      "=====================================================================================\n",
      "                        coef    std err          t      P>|t|      [0.025      0.975]\n",
      "-------------------------------------------------------------------------------------\n",
      "const                -3.6686     30.107     -0.122      0.905     -69.266      61.929\n",
      "Company_Size          1.2687      0.200      6.355      0.000       0.834       1.704\n",
      "%Imports              0.0508      0.865      0.059      0.954      -1.834       1.936\n",
      "Distance             -0.2204      0.256     -0.860      0.407      -0.779       0.338\n",
      "Central_Purchaser   127.3502     23.880      5.333      0.000      75.321     179.380\n",
      "==============================================================================\n",
      "Omnibus:                        2.223   Durbin-Watson:                   1.586\n",
      "Prob(Omnibus):                  0.329   Jarque-Bera (JB):                1.588\n",
      "Skew:                          -0.727   Prob(JB):                        0.452\n",
      "Kurtosis:                       2.640   Cond. No.                         542.\n",
      "==============================================================================\n",
      "\n",
      "Warnings:\n",
      "[1] Standard Errors assume that the covariance matrix of the errors is correctly specified.\n"
     ]
    }
   ],
   "source": [
    "model = sm.OLS(y, xc)\n",
    "result = model.fit()\n",
    "print(result.summary())"
   ]
  },
  {
   "cell_type": "code",
   "execution_count": 23,
   "metadata": {},
   "outputs": [
    {
     "name": "stdout",
     "output_type": "stream",
     "text": [
      "                                 OLS Regression Results                                \n",
      "=======================================================================================\n",
      "Dep. Variable:       Size_of_Purchase   R-squared (uncentered):                   0.980\n",
      "Model:                            OLS   Adj. R-squared (uncentered):              0.977\n",
      "Method:                 Least Squares   F-statistic:                              369.2\n",
      "Date:                Mon, 21 Oct 2019   Prob (F-statistic):                    1.75e-13\n",
      "Time:                        15:04:27   Log-Likelihood:                         -83.518\n",
      "No. Observations:                  17   AIC:                                      171.0\n",
      "Df Residuals:                      15   BIC:                                      172.7\n",
      "Df Model:                           2                                                  \n",
      "Covariance Type:            nonrobust                                                  \n",
      "=====================================================================================\n",
      "                        coef    std err          t      P>|t|      [0.025      0.975]\n",
      "-------------------------------------------------------------------------------------\n",
      "Company_Size          1.1558      0.123      9.408      0.000       0.894       1.418\n",
      "Central_Purchaser   123.8984     20.170      6.143      0.000      80.907     166.890\n",
      "==============================================================================\n",
      "Omnibus:                        2.485   Durbin-Watson:                   1.353\n",
      "Prob(Omnibus):                  0.289   Jarque-Bera (JB):                1.974\n",
      "Skew:                          -0.758   Prob(JB):                        0.373\n",
      "Kurtosis:                       2.303   Cond. No.                         299.\n",
      "==============================================================================\n",
      "\n",
      "Warnings:\n",
      "[1] Standard Errors assume that the covariance matrix of the errors is correctly specified.\n"
     ]
    }
   ],
   "source": [
    "y = vs['Size_of_Purchase']\n",
    "x = vs.drop(['Size_of_Purchase','%Imports','Distance'], axis=1)\n",
    "model = sm.OLS(y, x)\n",
    "result = model.fit()\n",
    "print(result.summary())"
   ]
  },
  {
   "cell_type": "code",
   "execution_count": 25,
   "metadata": {},
   "outputs": [
    {
     "data": {
      "image/png": "[encoded data removed]",
      "text/plain": [
       "<Figure size 432x288 with 1 Axes>"
      ]
     },
     "metadata": {
      "needs_background": "light"
     },
     "output_type": "display_data"
    }
   ],
   "source": [
    "y_pred = result.predict(x)\n",
    "plt.plot(y, y, 'r')\n",
    "plt.scatter(y, y_pred)\n",
    "plt.show()"
   ]
  },
  {
   "cell_type": "code",
   "execution_count": null,
   "metadata": {},
   "outputs": [],
   "source": []
  }
 ],
 "metadata": {
  "kernelspec": {
   "display_name": "Python 3",
   "language": "python",
   "name": "python3"
  },
  "language_info": {
   "codemirror_mode": {
    "name": "ipython",
    "version": 3
   },
   "file_extension": ".py",
   "mimetype": "text/x-python",
   "name": "python",
   "nbconvert_exporter": "python",
   "pygments_lexer": "ipython3",
   "version": "3.7.3"
  }
 },
 "nbformat": 4,
 "nbformat_minor": 2
}
