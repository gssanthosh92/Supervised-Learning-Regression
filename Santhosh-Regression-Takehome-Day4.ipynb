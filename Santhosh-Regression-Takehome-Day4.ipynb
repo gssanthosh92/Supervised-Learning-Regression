{
 "cells": [
  {
   "cell_type": "markdown",
   "metadata": {},
   "source": [
    "In class Assignment Expectations/Steps -\n",
    "\n",
    "Part 1: \n",
    "\n",
    "●\tLoad the data using Python Pandas library.\n",
    "\n",
    "●\tDo Exploratory Data Analysis of the data and state your insights.\n",
    "\n",
    "Part 2: \n",
    "\n",
    "●\tCheck the linear regression assumptions are satisfied.\n",
    "\n",
    "●\tPerform All the various feature selection techniques.\n",
    "\n",
    "●\tProvide the inferences for various methods.\n",
    "\n",
    "●\tPerform All the various data transformation techniques. \n",
    "\n",
    "●\tProvide the inferences for various methods.\n",
    "\n",
    "●\tPerform all the regularization techniques.\n",
    "\n",
    "●\tProvide the inference from the regularization techniques.\n"
   ]
  },
  {
   "cell_type": "code",
   "execution_count": 94,
   "metadata": {},
   "outputs": [],
   "source": [
    "import pandas as pd\n",
    "import numpy as np\n",
    "import matplotlib.pyplot as plt\n",
    "%matplotlib inline\n",
    "import warnings \n",
    "warnings.filterwarnings('ignore')\n",
    "import statsmodels.api as sm\n",
    "import seaborn as sns\n",
    "import scipy.stats as stats\n",
    "import statsmodels.stats.api as sms\n",
    "import statsmodels.formula.api as smf\n",
    "import statsmodels.tsa.api as smt\n",
    "from statsmodels.stats.outliers_influence import variance_inflation_factor\n",
    "from statsmodels.graphics.gofplots import ProbPlot\n",
    "from sklearn import linear_model\n",
    "from sklearn import metrics\n",
    "from sklearn.preprocessing import PolynomialFeatures\n",
    "from sklearn.model_selection import train_test_split\n",
    "from sklearn.metrics import r2_score,mean_squared_error\n",
    "from sklearn.linear_model import LinearRegression\n",
    "from sklearn.feature_selection import RFE\n",
    "from mlxtend.feature_selection import SequentialFeatureSelector as sfs\n",
    "from sklearn.datasets import load_boston"
   ]
  },
  {
   "cell_type": "markdown",
   "metadata": {},
   "source": [
    "### Part 1"
   ]
  },
  {
   "cell_type": "code",
   "execution_count": 2,
   "metadata": {},
   "outputs": [
    {
     "data": {
      "text/html": [
       "<div>\n",
       "<style scoped>\n",
       "    .dataframe tbody tr th:only-of-type {\n",
       "        vertical-align: middle;\n",
       "    }\n",
       "\n",
       "    .dataframe tbody tr th {\n",
       "        vertical-align: top;\n",
       "    }\n",
       "\n",
       "    .dataframe thead th {\n",
       "        text-align: right;\n",
       "    }\n",
       "</style>\n",
       "<table border=\"1\" class=\"dataframe\">\n",
       "  <thead>\n",
       "    <tr style=\"text-align: right;\">\n",
       "      <th></th>\n",
       "      <th>mpg</th>\n",
       "      <th>cyl</th>\n",
       "      <th>disp</th>\n",
       "      <th>hp</th>\n",
       "      <th>wt</th>\n",
       "      <th>acc</th>\n",
       "      <th>yr</th>\n",
       "      <th>origin</th>\n",
       "      <th>car_name</th>\n",
       "    </tr>\n",
       "  </thead>\n",
       "  <tbody>\n",
       "    <tr>\n",
       "      <th>0</th>\n",
       "      <td>18.0</td>\n",
       "      <td>8</td>\n",
       "      <td>307.0</td>\n",
       "      <td>130</td>\n",
       "      <td>3504</td>\n",
       "      <td>12.0</td>\n",
       "      <td>70</td>\n",
       "      <td>1</td>\n",
       "      <td>chevrolet chevelle malibu</td>\n",
       "    </tr>\n",
       "    <tr>\n",
       "      <th>1</th>\n",
       "      <td>15.0</td>\n",
       "      <td>8</td>\n",
       "      <td>350.0</td>\n",
       "      <td>165</td>\n",
       "      <td>3693</td>\n",
       "      <td>11.5</td>\n",
       "      <td>70</td>\n",
       "      <td>1</td>\n",
       "      <td>buick skylark 320</td>\n",
       "    </tr>\n",
       "    <tr>\n",
       "      <th>2</th>\n",
       "      <td>18.0</td>\n",
       "      <td>8</td>\n",
       "      <td>318.0</td>\n",
       "      <td>150</td>\n",
       "      <td>3436</td>\n",
       "      <td>11.0</td>\n",
       "      <td>70</td>\n",
       "      <td>1</td>\n",
       "      <td>plymouth satellite</td>\n",
       "    </tr>\n",
       "    <tr>\n",
       "      <th>3</th>\n",
       "      <td>16.0</td>\n",
       "      <td>8</td>\n",
       "      <td>304.0</td>\n",
       "      <td>150</td>\n",
       "      <td>3433</td>\n",
       "      <td>12.0</td>\n",
       "      <td>70</td>\n",
       "      <td>1</td>\n",
       "      <td>amc rebel sst</td>\n",
       "    </tr>\n",
       "    <tr>\n",
       "      <th>4</th>\n",
       "      <td>17.0</td>\n",
       "      <td>8</td>\n",
       "      <td>302.0</td>\n",
       "      <td>140</td>\n",
       "      <td>3449</td>\n",
       "      <td>10.5</td>\n",
       "      <td>70</td>\n",
       "      <td>1</td>\n",
       "      <td>ford torino</td>\n",
       "    </tr>\n",
       "  </tbody>\n",
       "</table>\n",
       "</div>"
      ],
      "text/plain": [
       "    mpg  cyl   disp   hp    wt   acc  yr  origin                   car_name\n",
       "0  18.0    8  307.0  130  3504  12.0  70       1  chevrolet chevelle malibu\n",
       "1  15.0    8  350.0  165  3693  11.5  70       1          buick skylark 320\n",
       "2  18.0    8  318.0  150  3436  11.0  70       1         plymouth satellite\n",
       "3  16.0    8  304.0  150  3433  12.0  70       1              amc rebel sst\n",
       "4  17.0    8  302.0  140  3449  10.5  70       1                ford torino"
      ]
     },
     "execution_count": 2,
     "metadata": {},
     "output_type": "execute_result"
    }
   ],
   "source": [
    "df=pd.read_csv('car-mpg.csv')\n",
    "df.head()"
   ]
  },
  {
   "cell_type": "code",
   "execution_count": 3,
   "metadata": {},
   "outputs": [
    {
     "name": "stdout",
     "output_type": "stream",
     "text": [
      "<class 'pandas.core.frame.DataFrame'>\n",
      "RangeIndex: 398 entries, 0 to 397\n",
      "Data columns (total 9 columns):\n",
      "mpg         398 non-null float64\n",
      "cyl         398 non-null int64\n",
      "disp        398 non-null float64\n",
      "hp          398 non-null object\n",
      "wt          398 non-null int64\n",
      "acc         398 non-null float64\n",
      "yr          398 non-null int64\n",
      "origin      398 non-null int64\n",
      "car_name    398 non-null object\n",
      "dtypes: float64(3), int64(4), object(2)\n",
      "memory usage: 28.1+ KB\n"
     ]
    }
   ],
   "source": [
    "df.info()"
   ]
  },
  {
   "cell_type": "code",
   "execution_count": 4,
   "metadata": {},
   "outputs": [],
   "source": [
    "df=df.drop(['car_name'],axis=1)"
   ]
  },
  {
   "cell_type": "code",
   "execution_count": 5,
   "metadata": {},
   "outputs": [
    {
     "data": {
      "text/plain": [
       "array(['130', '165', '150', '140', '198', '220', '215', '225', '190',\n",
       "       '170', '160', '95', '97', '85', '88', '46', '87', '90', '113',\n",
       "       '200', '210', '193', '?', '100', '105', '175', '153', '180', '110',\n",
       "       '72', '86', '70', '76', '65', '69', '60', '80', '54', '208', '155',\n",
       "       '112', '92', '145', '137', '158', '167', '94', '107', '230', '49',\n",
       "       '75', '91', '122', '67', '83', '78', '52', '61', '93', '148',\n",
       "       '129', '96', '71', '98', '115', '53', '81', '79', '120', '152',\n",
       "       '102', '108', '68', '58', '149', '89', '63', '48', '66', '139',\n",
       "       '103', '125', '133', '138', '135', '142', '77', '62', '132', '84',\n",
       "       '64', '74', '116', '82'], dtype=object)"
      ]
     },
     "execution_count": 5,
     "metadata": {},
     "output_type": "execute_result"
    }
   ],
   "source": [
    "df['hp'].unique()"
   ]
  },
  {
   "cell_type": "code",
   "execution_count": 6,
   "metadata": {},
   "outputs": [],
   "source": [
    "df['hp'] = df[df.hp != '?']"
   ]
  },
  {
   "cell_type": "code",
   "execution_count": 7,
   "metadata": {},
   "outputs": [
    {
     "data": {
      "text/plain": [
       "array([18.0, 15.0, 16.0, 17.0, 14.0, 24.0, 22.0, 21.0, 27.0, 26.0, 25.0,\n",
       "       10.0, 11.0, 9.0, 28.0, nan, 19.0, 12.0, 13.0, 23.0, 30.0, 31.0,\n",
       "       35.0, 20.0, 29.0, 32.0, 33.0, 17.5, 15.5, 14.5, 22.5, 24.5, 18.5,\n",
       "       29.5, 26.5, 16.5, 31.5, 36.0, 25.5, 33.5, 20.5, 30.5, 21.5, 43.1,\n",
       "       36.1, 32.8, 39.4, 19.9, 19.4, 20.2, 19.2, 25.1, 20.6, 20.8, 18.6,\n",
       "       18.1, 17.7, 27.5, 27.2, 30.9, 21.1, 23.2, 23.8, 23.9, 20.3, 21.6,\n",
       "       16.2, 19.8, 22.3, 17.6, 18.2, 16.9, 31.9, 34.1, 35.7, 27.4, 25.4,\n",
       "       34.2, 34.5, 31.8, 37.3, 28.4, 28.8, 26.8, 41.5, 38.1, 32.1, 37.2,\n",
       "       26.4, 24.3, 19.1, 34.3, 29.8, 31.3, 37.0, 32.2, 46.6, 27.9, 40.8,\n",
       "       44.3, 43.4, 36.4, 44.6, 33.8, 32.7, 23.7, 32.4, 26.6, 25.8, 23.5,\n",
       "       39.1, 39.0, 35.1, 32.3, 37.7, 34.7, 34.4, 29.9, 33.7, 32.9, 31.6,\n",
       "       28.1, 30.7, 24.2, 22.4, 34.0, 38.0, 44.0], dtype=object)"
      ]
     },
     "execution_count": 7,
     "metadata": {},
     "output_type": "execute_result"
    }
   ],
   "source": [
    "df['hp'].unique()"
   ]
  },
  {
   "cell_type": "code",
   "execution_count": 8,
   "metadata": {},
   "outputs": [
    {
     "name": "stdout",
     "output_type": "stream",
     "text": [
      "<class 'pandas.core.frame.DataFrame'>\n",
      "RangeIndex: 398 entries, 0 to 397\n",
      "Data columns (total 8 columns):\n",
      "mpg       398 non-null float64\n",
      "cyl       398 non-null int64\n",
      "disp      398 non-null float64\n",
      "hp        398 non-null float64\n",
      "wt        398 non-null int64\n",
      "acc       398 non-null float64\n",
      "yr        398 non-null int64\n",
      "origin    398 non-null int64\n",
      "dtypes: float64(4), int64(4)\n",
      "memory usage: 25.0 KB\n"
     ]
    }
   ],
   "source": [
    "df.hp=df['hp'].fillna(method='ffill')\n",
    "df.info()"
   ]
  },
  {
   "cell_type": "code",
   "execution_count": 9,
   "metadata": {},
   "outputs": [
    {
     "data": {
      "text/plain": [
       "<matplotlib.axes._subplots.AxesSubplot at 0x4c7f1d0>"
      ]
     },
     "execution_count": 9,
     "metadata": {},
     "output_type": "execute_result"
    },
    {
     "data": {
      "image/png": "[encoded data removed]",
      "text/plain": [
       "<Figure size 432x288 with 1 Axes>"
      ]
     },
     "metadata": {
      "needs_background": "light"
     },
     "output_type": "display_data"
    }
   ],
   "source": [
    "sns.distplot(df['mpg'])"
   ]
  },
  {
   "cell_type": "code",
   "execution_count": 10,
   "metadata": {},
   "outputs": [
    {
     "data": {
      "text/plain": [
       "<matplotlib.axes._subplots.AxesSubplot at 0xc1cccf8>"
      ]
     },
     "execution_count": 10,
     "metadata": {},
     "output_type": "execute_result"
    },
    {
     "data": {
      "image/png": "[encoded data removed]",
      "text/plain": [
       "<Figure size 432x288 with 1 Axes>"
      ]
     },
     "metadata": {
      "needs_background": "light"
     },
     "output_type": "display_data"
    }
   ],
   "source": [
    "sns.boxplot(df['mpg'])"
   ]
  },
  {
   "cell_type": "code",
   "execution_count": 11,
   "metadata": {},
   "outputs": [],
   "source": [
    "q1=df['mpg'].quantile(0.25)\n",
    "q3=df['mpg'].quantile(0.75)\n",
    "iqr=q3-q1\n",
    "df=df[df['mpg']<(q3+1.5*iqr)]"
   ]
  },
  {
   "cell_type": "code",
   "execution_count": 12,
   "metadata": {},
   "outputs": [
    {
     "data": {
      "text/plain": [
       "<matplotlib.axes._subplots.AxesSubplot at 0xc243898>"
      ]
     },
     "execution_count": 12,
     "metadata": {},
     "output_type": "execute_result"
    },
    {
     "data": {
      "image/png": "[encoded data removed]",
      "text/plain": [
       "<Figure size 432x288 with 1 Axes>"
      ]
     },
     "metadata": {
      "needs_background": "light"
     },
     "output_type": "display_data"
    }
   ],
   "source": [
    "sns.boxplot(df['mpg'])"
   ]
  },
  {
   "cell_type": "code",
   "execution_count": 13,
   "metadata": {},
   "outputs": [],
   "source": [
    "df.sort_index(axis=0,inplace=True)"
   ]
  },
  {
   "cell_type": "code",
   "execution_count": 14,
   "metadata": {
    "scrolled": true
   },
   "outputs": [
    {
     "data": {
      "text/plain": [
       "mpg       0\n",
       "cyl       0\n",
       "disp      0\n",
       "hp        0\n",
       "wt        0\n",
       "acc       0\n",
       "yr        0\n",
       "origin    0\n",
       "dtype: int64"
      ]
     },
     "execution_count": 14,
     "metadata": {},
     "output_type": "execute_result"
    }
   ],
   "source": [
    "df.isnull().sum()"
   ]
  },
  {
   "cell_type": "code",
   "execution_count": 15,
   "metadata": {},
   "outputs": [
    {
     "data": {
      "text/plain": [
       "0.4272986284782642"
      ]
     },
     "execution_count": 15,
     "metadata": {},
     "output_type": "execute_result"
    }
   ],
   "source": [
    "df['mpg'].skew()"
   ]
  },
  {
   "cell_type": "markdown",
   "metadata": {},
   "source": [
    "### Part 2"
   ]
  },
  {
   "cell_type": "code",
   "execution_count": 16,
   "metadata": {},
   "outputs": [
    {
     "name": "stdout",
     "output_type": "stream",
     "text": [
      "                            OLS Regression Results                            \n",
      "==============================================================================\n",
      "Dep. Variable:                    mpg   R-squared:                       0.994\n",
      "Model:                            OLS   Adj. R-squared:                  0.994\n",
      "Method:                 Least Squares   F-statistic:                     9324.\n",
      "Date:                Thu, 24 Oct 2019   Prob (F-statistic):               0.00\n",
      "Time:                        18:00:29   Log-Likelihood:                -357.16\n",
      "No. Observations:                 397   AIC:                             730.3\n",
      "Df Residuals:                     389   BIC:                             762.2\n",
      "Df Model:                           7                                         \n",
      "Covariance Type:            nonrobust                                         \n",
      "==============================================================================\n",
      "                 coef    std err          t      P>|t|      [0.025      0.975]\n",
      "------------------------------------------------------------------------------\n",
      "const         -0.3761      0.767     -0.490      0.624      -1.884       1.132\n",
      "cyl            0.0507      0.058      0.878      0.380      -0.063       0.164\n",
      "disp           0.0010      0.001      0.769      0.442      -0.002       0.004\n",
      "hp             0.9679      0.009    105.753      0.000       0.950       0.986\n",
      "wt            -0.0003      0.000     -2.742      0.006      -0.001   -9.42e-05\n",
      "acc            0.0213      0.014      1.525      0.128      -0.006       0.049\n",
      "yr             0.0147      0.011      1.300      0.194      -0.008       0.037\n",
      "origin         0.1034      0.050      2.071      0.039       0.005       0.202\n",
      "==============================================================================\n",
      "Omnibus:                      854.056   Durbin-Watson:                   2.032\n",
      "Prob(Omnibus):                  0.000   Jarque-Bera (JB):          1311216.144\n",
      "Skew:                         -15.715   Prob(JB):                         0.00\n",
      "Kurtosis:                     282.785   Cond. No.                     7.88e+04\n",
      "==============================================================================\n",
      "\n",
      "Warnings:\n",
      "[1] Standard Errors assume that the covariance matrix of the errors is correctly specified.\n",
      "[2] The condition number is large, 7.88e+04. This might indicate that there are\n",
      "strong multicollinearity or other numerical problems.\n"
     ]
    },
    {
     "name": "stderr",
     "output_type": "stream",
     "text": [
      "C:\\Users\\Hari\\Anaconda_3\\lib\\site-packages\\numpy\\core\\fromnumeric.py:2389: FutureWarning: Method .ptp is deprecated and will be removed in a future version. Use numpy.ptp instead.\n",
      "  return ptp(axis=axis, out=out, **kwargs)\n"
     ]
    }
   ],
   "source": [
    "y=df['mpg']\n",
    "X=df.drop(['mpg'],axis=1)\n",
    "Xc=sm.add_constant(X)\n",
    "lin_reg=sm.OLS(y,Xc)\n",
    "result=lin_reg.fit()\n",
    "print(result.summary())"
   ]
  },
  {
   "cell_type": "markdown",
   "metadata": {},
   "source": [
    "## Assumption 1-Normality Residuals"
   ]
  },
  {
   "cell_type": "code",
   "execution_count": 17,
   "metadata": {},
   "outputs": [
    {
     "data": {
      "image/png": "[encoded data removed]",
      "text/plain": [
       "<Figure size 432x288 with 1 Axes>"
      ]
     },
     "metadata": {
      "needs_background": "light"
     },
     "output_type": "display_data"
    }
   ],
   "source": [
    "residuals=result.resid\n",
    "sns.distplot(residuals)\n",
    "plt.show()"
   ]
  },
  {
   "cell_type": "code",
   "execution_count": 18,
   "metadata": {},
   "outputs": [
    {
     "data": {
      "text/plain": [
       "8.362300496612414e-14"
      ]
     },
     "execution_count": 18,
     "metadata": {},
     "output_type": "execute_result"
    }
   ],
   "source": [
    "residuals.mean()"
   ]
  },
  {
   "cell_type": "code",
   "execution_count": 19,
   "metadata": {},
   "outputs": [
    {
     "data": {
      "image/png": "[encoded data removed]",
      "text/plain": [
       "<Figure size 432x288 with 1 Axes>"
      ]
     },
     "metadata": {
      "needs_background": "light"
     },
     "output_type": "display_data"
    }
   ],
   "source": [
    "stats.probplot(residuals,plot=plt)\n",
    "plt.show()"
   ]
  },
  {
   "cell_type": "code",
   "execution_count": 20,
   "metadata": {},
   "outputs": [
    {
     "name": "stdout",
     "output_type": "stream",
     "text": [
      "(1311216.144026077, 0.0)\n"
     ]
    }
   ],
   "source": [
    "## Jarque-Berra Test\n",
    "print(stats.jarque_bera(residuals))"
   ]
  },
  {
   "cell_type": "code",
   "execution_count": 21,
   "metadata": {},
   "outputs": [
    {
     "name": "stdout",
     "output_type": "stream",
     "text": [
      "                            OLS Regression Results                            \n",
      "==============================================================================\n",
      "Dep. Variable:                    mpg   R-squared:                       0.979\n",
      "Model:                            OLS   Adj. R-squared:                  0.978\n",
      "Method:                 Least Squares   F-statistic:                     2562.\n",
      "Date:                Thu, 24 Oct 2019   Prob (F-statistic):          6.23e-321\n",
      "Time:                        18:00:30   Log-Likelihood:                 632.42\n",
      "No. Observations:                 397   AIC:                            -1249.\n",
      "Df Residuals:                     389   BIC:                            -1217.\n",
      "Df Model:                           7                                         \n",
      "Covariance Type:            nonrobust                                         \n",
      "==============================================================================\n",
      "                 coef    std err          t      P>|t|      [0.025      0.975]\n",
      "------------------------------------------------------------------------------\n",
      "const          2.1799      0.063     34.363      0.000       2.055       2.305\n",
      "cyl           -0.0070      0.005     -1.458      0.146      -0.016       0.002\n",
      "disp          -0.0001      0.000     -1.333      0.183      -0.000    6.83e-05\n",
      "hp             0.0325      0.001     43.004      0.000       0.031       0.034\n",
      "wt         -6.777e-05      1e-05     -6.752      0.000   -8.75e-05    -4.8e-05\n",
      "acc            0.0008      0.001      0.655      0.513      -0.002       0.003\n",
      "yr             0.0056      0.001      5.929      0.000       0.004       0.007\n",
      "origin        -0.0074      0.004     -1.790      0.074      -0.016       0.001\n",
      "==============================================================================\n",
      "Omnibus:                      207.831   Durbin-Watson:                   1.374\n",
      "Prob(Omnibus):                  0.000   Jarque-Bera (JB):             1921.464\n",
      "Skew:                          -2.030   Prob(JB):                         0.00\n",
      "Kurtosis:                      12.984   Cond. No.                     7.88e+04\n",
      "==============================================================================\n",
      "\n",
      "Warnings:\n",
      "[1] Standard Errors assume that the covariance matrix of the errors is correctly specified.\n",
      "[2] The condition number is large, 7.88e+04. This might indicate that there are\n",
      "strong multicollinearity or other numerical problems.\n"
     ]
    }
   ],
   "source": [
    "# transformation of y using log transform\n",
    "\n",
    "lny=np.log(y)\n",
    "lin_reg=sm.OLS(lny,Xc)\n",
    "result=lin_reg.fit()\n",
    "print(result.summary())"
   ]
  },
  {
   "cell_type": "code",
   "execution_count": 22,
   "metadata": {},
   "outputs": [
    {
     "name": "stdout",
     "output_type": "stream",
     "text": [
      "(1921.4642866766771, 0.0)\n"
     ]
    }
   ],
   "source": [
    "# Test for normality of residuals after transform y\n",
    "residuals=result.resid\n",
    "print(stats.jarque_bera(residuals))"
   ]
  },
  {
   "cell_type": "code",
   "execution_count": 23,
   "metadata": {},
   "outputs": [
    {
     "data": {
      "image/png": "[encoded data removed]",
      "text/plain": [
       "<Figure size 432x288 with 1 Axes>"
      ]
     },
     "metadata": {
      "needs_background": "light"
     },
     "output_type": "display_data"
    }
   ],
   "source": [
    "# see the distplot after transform y\n",
    "sns.distplot(residuals)\n",
    "plt.show()"
   ]
  },
  {
   "cell_type": "code",
   "execution_count": 24,
   "metadata": {},
   "outputs": [
    {
     "data": {
      "image/png": "[encoded data removed]",
      "text/plain": [
       "<Figure size 432x288 with 1 Axes>"
      ]
     },
     "metadata": {
      "needs_background": "light"
     },
     "output_type": "display_data"
    }
   ],
   "source": [
    "stats.probplot(residuals,plot=plt)\n",
    "plt.show()"
   ]
  },
  {
   "cell_type": "markdown",
   "metadata": {},
   "source": [
    "## Assumption-2 Multicollinearity"
   ]
  },
  {
   "cell_type": "code",
   "execution_count": 25,
   "metadata": {},
   "outputs": [
    {
     "data": {
      "text/html": [
       "<div>\n",
       "<style scoped>\n",
       "    .dataframe tbody tr th:only-of-type {\n",
       "        vertical-align: middle;\n",
       "    }\n",
       "\n",
       "    .dataframe tbody tr th {\n",
       "        vertical-align: top;\n",
       "    }\n",
       "\n",
       "    .dataframe thead th {\n",
       "        text-align: right;\n",
       "    }\n",
       "</style>\n",
       "<table border=\"1\" class=\"dataframe\">\n",
       "  <thead>\n",
       "    <tr style=\"text-align: right;\">\n",
       "      <th></th>\n",
       "      <th>mpg</th>\n",
       "      <th>cyl</th>\n",
       "      <th>disp</th>\n",
       "      <th>hp</th>\n",
       "      <th>wt</th>\n",
       "      <th>acc</th>\n",
       "      <th>yr</th>\n",
       "      <th>origin</th>\n",
       "    </tr>\n",
       "  </thead>\n",
       "  <tbody>\n",
       "    <tr>\n",
       "      <th>mpg</th>\n",
       "      <td>1.000000</td>\n",
       "      <td>-0.778350</td>\n",
       "      <td>-0.806521</td>\n",
       "      <td>0.996922</td>\n",
       "      <td>-0.834482</td>\n",
       "      <td>0.418997</td>\n",
       "      <td>0.578468</td>\n",
       "      <td>0.558579</td>\n",
       "    </tr>\n",
       "    <tr>\n",
       "      <th>cyl</th>\n",
       "      <td>-0.778350</td>\n",
       "      <td>1.000000</td>\n",
       "      <td>0.950648</td>\n",
       "      <td>-0.778434</td>\n",
       "      <td>0.895817</td>\n",
       "      <td>-0.504515</td>\n",
       "      <td>-0.347247</td>\n",
       "      <td>-0.561466</td>\n",
       "    </tr>\n",
       "    <tr>\n",
       "      <th>disp</th>\n",
       "      <td>-0.806521</td>\n",
       "      <td>0.950648</td>\n",
       "      <td>1.000000</td>\n",
       "      <td>-0.805166</td>\n",
       "      <td>0.932646</td>\n",
       "      <td>-0.542701</td>\n",
       "      <td>-0.368392</td>\n",
       "      <td>-0.608028</td>\n",
       "    </tr>\n",
       "    <tr>\n",
       "      <th>hp</th>\n",
       "      <td>0.996922</td>\n",
       "      <td>-0.778434</td>\n",
       "      <td>-0.805166</td>\n",
       "      <td>1.000000</td>\n",
       "      <td>-0.831579</td>\n",
       "      <td>0.416234</td>\n",
       "      <td>0.580782</td>\n",
       "      <td>0.553401</td>\n",
       "    </tr>\n",
       "    <tr>\n",
       "      <th>wt</th>\n",
       "      <td>-0.834482</td>\n",
       "      <td>0.895817</td>\n",
       "      <td>0.932646</td>\n",
       "      <td>-0.831579</td>\n",
       "      <td>1.000000</td>\n",
       "      <td>-0.416206</td>\n",
       "      <td>-0.304641</td>\n",
       "      <td>-0.579533</td>\n",
       "    </tr>\n",
       "    <tr>\n",
       "      <th>acc</th>\n",
       "      <td>0.418997</td>\n",
       "      <td>-0.504515</td>\n",
       "      <td>-0.542701</td>\n",
       "      <td>0.416234</td>\n",
       "      <td>-0.416206</td>\n",
       "      <td>1.000000</td>\n",
       "      <td>0.286513</td>\n",
       "      <td>0.203070</td>\n",
       "    </tr>\n",
       "    <tr>\n",
       "      <th>yr</th>\n",
       "      <td>0.578468</td>\n",
       "      <td>-0.347247</td>\n",
       "      <td>-0.368392</td>\n",
       "      <td>0.580782</td>\n",
       "      <td>-0.304641</td>\n",
       "      <td>0.286513</td>\n",
       "      <td>1.000000</td>\n",
       "      <td>0.176781</td>\n",
       "    </tr>\n",
       "    <tr>\n",
       "      <th>origin</th>\n",
       "      <td>0.558579</td>\n",
       "      <td>-0.561466</td>\n",
       "      <td>-0.608028</td>\n",
       "      <td>0.553401</td>\n",
       "      <td>-0.579533</td>\n",
       "      <td>0.203070</td>\n",
       "      <td>0.176781</td>\n",
       "      <td>1.000000</td>\n",
       "    </tr>\n",
       "  </tbody>\n",
       "</table>\n",
       "</div>"
      ],
      "text/plain": [
       "             mpg       cyl      disp        hp        wt       acc        yr  \\\n",
       "mpg     1.000000 -0.778350 -0.806521  0.996922 -0.834482  0.418997  0.578468   \n",
       "cyl    -0.778350  1.000000  0.950648 -0.778434  0.895817 -0.504515 -0.347247   \n",
       "disp   -0.806521  0.950648  1.000000 -0.805166  0.932646 -0.542701 -0.368392   \n",
       "hp      0.996922 -0.778434 -0.805166  1.000000 -0.831579  0.416234  0.580782   \n",
       "wt     -0.834482  0.895817  0.932646 -0.831579  1.000000 -0.416206 -0.304641   \n",
       "acc     0.418997 -0.504515 -0.542701  0.416234 -0.416206  1.000000  0.286513   \n",
       "yr      0.578468 -0.347247 -0.368392  0.580782 -0.304641  0.286513  1.000000   \n",
       "origin  0.558579 -0.561466 -0.608028  0.553401 -0.579533  0.203070  0.176781   \n",
       "\n",
       "          origin  \n",
       "mpg     0.558579  \n",
       "cyl    -0.561466  \n",
       "disp   -0.608028  \n",
       "hp      0.553401  \n",
       "wt     -0.579533  \n",
       "acc     0.203070  \n",
       "yr      0.176781  \n",
       "origin  1.000000  "
      ]
     },
     "execution_count": 25,
     "metadata": {},
     "output_type": "execute_result"
    }
   ],
   "source": [
    "df.corr()"
   ]
  },
  {
   "cell_type": "code",
   "execution_count": 26,
   "metadata": {},
   "outputs": [
    {
     "data": {
      "image/png": "[encoded data removed]",
      "text/plain": [
       "<Figure size 1440x720 with 2 Axes>"
      ]
     },
     "metadata": {
      "needs_background": "light"
     },
     "output_type": "display_data"
    }
   ],
   "source": [
    "plt.figure(figsize=(20,10))\n",
    "sns.heatmap(df.corr(),annot=True)\n",
    "plt.show()"
   ]
  },
  {
   "cell_type": "code",
   "execution_count": 45,
   "metadata": {},
   "outputs": [
    {
     "data": {
      "text/html": [
       "<div>\n",
       "<style scoped>\n",
       "    .dataframe tbody tr th:only-of-type {\n",
       "        vertical-align: middle;\n",
       "    }\n",
       "\n",
       "    .dataframe tbody tr th {\n",
       "        vertical-align: top;\n",
       "    }\n",
       "\n",
       "    .dataframe thead th {\n",
       "        text-align: right;\n",
       "    }\n",
       "</style>\n",
       "<table border=\"1\" class=\"dataframe\">\n",
       "  <thead>\n",
       "    <tr style=\"text-align: right;\">\n",
       "      <th></th>\n",
       "      <th>vif</th>\n",
       "    </tr>\n",
       "  </thead>\n",
       "  <tbody>\n",
       "    <tr>\n",
       "      <th>disp</th>\n",
       "      <td>2.057024</td>\n",
       "    </tr>\n",
       "    <tr>\n",
       "      <th>hp</th>\n",
       "      <td>8.140621</td>\n",
       "    </tr>\n",
       "    <tr>\n",
       "      <th>origin</th>\n",
       "      <td>6.927367</td>\n",
       "    </tr>\n",
       "  </tbody>\n",
       "</table>\n",
       "</div>"
      ],
      "text/plain": [
       "             vif\n",
       "disp    2.057024\n",
       "hp      8.140621\n",
       "origin  6.927367"
      ]
     },
     "execution_count": 45,
     "metadata": {},
     "output_type": "execute_result"
    }
   ],
   "source": [
    "y=df['mpg']\n",
    "X=df.drop(['mpg','yr','wt','cyl','acc'],axis=1)\n",
    "vif=[variance_inflation_factor(X.values,i) for i in range(X.shape[1])]\n",
    "pd.DataFrame({'vif':vif},index=X.columns)"
   ]
  },
  {
   "cell_type": "code",
   "execution_count": 46,
   "metadata": {},
   "outputs": [
    {
     "name": "stdout",
     "output_type": "stream",
     "text": [
      "                                 OLS Regression Results                                \n",
      "=======================================================================================\n",
      "Dep. Variable:                    mpg   R-squared (uncentered):                   0.999\n",
      "Model:                            OLS   Adj. R-squared (uncentered):              0.999\n",
      "Method:                 Least Squares   F-statistic:                          2.198e+05\n",
      "Date:                Thu, 24 Oct 2019   Prob (F-statistic):                        0.00\n",
      "Time:                        18:07:39   Log-Likelihood:                         -362.82\n",
      "No. Observations:                 397   AIC:                                      731.6\n",
      "Df Residuals:                     394   BIC:                                      743.6\n",
      "Df Model:                           3                                                  \n",
      "Covariance Type:            nonrobust                                                  \n",
      "==============================================================================\n",
      "                 coef    std err          t      P>|t|      [0.025      0.975]\n",
      "------------------------------------------------------------------------------\n",
      "disp           0.0002      0.000      0.931      0.352      -0.000       0.001\n",
      "hp             0.9898      0.004    282.325      0.000       0.983       0.997\n",
      "origin         0.1044      0.045      2.297      0.022       0.015       0.194\n",
      "==============================================================================\n",
      "Omnibus:                      871.613   Durbin-Watson:                   2.003\n",
      "Prob(Omnibus):                  0.000   Jarque-Bera (JB):          1472960.557\n",
      "Skew:                         -16.438   Prob(JB):                         0.00\n",
      "Kurtosis:                     299.588   Cond. No.                         331.\n",
      "==============================================================================\n",
      "\n",
      "Warnings:\n",
      "[1] Standard Errors assume that the covariance matrix of the errors is correctly specified.\n"
     ]
    }
   ],
   "source": [
    "y=df['mpg']\n",
    "X=df.drop(['mpg','yr','wt','cyl','acc'],axis=1)\n",
    "Xc=sm.add_constant(X)\n",
    "lin_reg=sm.OLS(y,X)\n",
    "result=lin_reg.fit()\n",
    "print(result.summary())"
   ]
  },
  {
   "cell_type": "markdown",
   "metadata": {},
   "source": [
    "## Assumption-3 Homoscedsticity(Constant variance of residuals)"
   ]
  },
  {
   "cell_type": "code",
   "execution_count": 48,
   "metadata": {},
   "outputs": [
    {
     "name": "stdout",
     "output_type": "stream",
     "text": [
      "                            OLS Regression Results                            \n",
      "==============================================================================\n",
      "Dep. Variable:                    mpg   R-squared:                       0.994\n",
      "Model:                            OLS   Adj. R-squared:                  0.994\n",
      "Method:                 Least Squares   F-statistic:                     9324.\n",
      "Date:                Thu, 24 Oct 2019   Prob (F-statistic):               0.00\n",
      "Time:                        18:09:12   Log-Likelihood:                -357.16\n",
      "No. Observations:                 397   AIC:                             730.3\n",
      "Df Residuals:                     389   BIC:                             762.2\n",
      "Df Model:                           7                                         \n",
      "Covariance Type:            nonrobust                                         \n",
      "==============================================================================\n",
      "                 coef    std err          t      P>|t|      [0.025      0.975]\n",
      "------------------------------------------------------------------------------\n",
      "const         -0.3761      0.767     -0.490      0.624      -1.884       1.132\n",
      "cyl            0.0507      0.058      0.878      0.380      -0.063       0.164\n",
      "disp           0.0010      0.001      0.769      0.442      -0.002       0.004\n",
      "hp             0.9679      0.009    105.753      0.000       0.950       0.986\n",
      "wt            -0.0003      0.000     -2.742      0.006      -0.001   -9.42e-05\n",
      "acc            0.0213      0.014      1.525      0.128      -0.006       0.049\n",
      "yr             0.0147      0.011      1.300      0.194      -0.008       0.037\n",
      "origin         0.1034      0.050      2.071      0.039       0.005       0.202\n",
      "==============================================================================\n",
      "Omnibus:                      854.056   Durbin-Watson:                   2.032\n",
      "Prob(Omnibus):                  0.000   Jarque-Bera (JB):          1311216.144\n",
      "Skew:                         -15.715   Prob(JB):                         0.00\n",
      "Kurtosis:                     282.785   Cond. No.                     7.88e+04\n",
      "==============================================================================\n",
      "\n",
      "Warnings:\n",
      "[1] Standard Errors assume that the covariance matrix of the errors is correctly specified.\n",
      "[2] The condition number is large, 7.88e+04. This might indicate that there are\n",
      "strong multicollinearity or other numerical problems.\n"
     ]
    }
   ],
   "source": [
    "y=df['mpg']\n",
    "X=df.drop(['mpg'],axis=1)\n",
    "Xc=sm.add_constant(X)\n",
    "lin_reg=sm.OLS(y,Xc)\n",
    "result=lin_reg.fit()\n",
    "print(result.summary())"
   ]
  },
  {
   "cell_type": "code",
   "execution_count": 49,
   "metadata": {},
   "outputs": [
    {
     "data": {
      "image/png": "[encoded data removed]",
      "text/plain": [
       "<Figure size 432x288 with 1 Axes>"
      ]
     },
     "metadata": {
      "needs_background": "light"
     },
     "output_type": "display_data"
    }
   ],
   "source": [
    "residuals=result.resid\n",
    "y_pred=result.predict(Xc)\n",
    "sns.regplot(x=y_pred,y=residuals,lowess=True,line_kws={'color':'red'})\n",
    "plt.xlabel('Predicted values')\n",
    "plt.show()"
   ]
  },
  {
   "cell_type": "code",
   "execution_count": 50,
   "metadata": {},
   "outputs": [
    {
     "data": {
      "text/plain": [
       "(136.50818793186073, 3.2698799788066155e-149, 'increasing')"
      ]
     },
     "execution_count": 50,
     "metadata": {},
     "output_type": "execute_result"
    }
   ],
   "source": [
    "name=['F statistic','p-value']\n",
    "test=sms.het_goldfeldquandt(y=result.resid,x=Xc)\n",
    "test"
   ]
  },
  {
   "cell_type": "markdown",
   "metadata": {},
   "source": [
    "## Assumption-4 Auto Correlation"
   ]
  },
  {
   "cell_type": "code",
   "execution_count": 51,
   "metadata": {},
   "outputs": [
    {
     "name": "stderr",
     "output_type": "stream",
     "text": [
      "C:\\Users\\Hari\\Anaconda_3\\lib\\site-packages\\ipykernel_launcher.py:2: UserWarning: Matplotlib is currently using module://ipykernel.pylab.backend_inline, which is a non-GUI backend, so cannot show the figure.\n",
      "  \n"
     ]
    },
    {
     "data": {
      "image/png": "[encoded data removed]",
      "text/plain": [
       "<Figure size 432x288 with 1 Axes>"
      ]
     },
     "metadata": {
      "needs_background": "light"
     },
     "output_type": "display_data"
    }
   ],
   "source": [
    "acf=smt.graphics.plot_acf(residuals,lags=8)\n",
    "acf.show()"
   ]
  },
  {
   "cell_type": "markdown",
   "metadata": {},
   "source": [
    "The ACF chart shows moderate correlation with errors of lag 1.This indicate mild autocorrelation also supported by DW-statistics of 1.01"
   ]
  },
  {
   "cell_type": "markdown",
   "metadata": {},
   "source": [
    "## Assumption-5 Linearity of relationship"
   ]
  },
  {
   "cell_type": "code",
   "execution_count": 52,
   "metadata": {},
   "outputs": [
    {
     "name": "stdout",
     "output_type": "stream",
     "text": [
      "                            OLS Regression Results                            \n",
      "==============================================================================\n",
      "Dep. Variable:                    mpg   R-squared:                       0.994\n",
      "Model:                            OLS   Adj. R-squared:                  0.994\n",
      "Method:                 Least Squares   F-statistic:                     9324.\n",
      "Date:                Thu, 24 Oct 2019   Prob (F-statistic):               0.00\n",
      "Time:                        18:12:18   Log-Likelihood:                -357.16\n",
      "No. Observations:                 397   AIC:                             730.3\n",
      "Df Residuals:                     389   BIC:                             762.2\n",
      "Df Model:                           7                                         \n",
      "Covariance Type:            nonrobust                                         \n",
      "==============================================================================\n",
      "                 coef    std err          t      P>|t|      [0.025      0.975]\n",
      "------------------------------------------------------------------------------\n",
      "const         -0.3761      0.767     -0.490      0.624      -1.884       1.132\n",
      "cyl            0.0507      0.058      0.878      0.380      -0.063       0.164\n",
      "disp           0.0010      0.001      0.769      0.442      -0.002       0.004\n",
      "hp             0.9679      0.009    105.753      0.000       0.950       0.986\n",
      "wt            -0.0003      0.000     -2.742      0.006      -0.001   -9.42e-05\n",
      "acc            0.0213      0.014      1.525      0.128      -0.006       0.049\n",
      "yr             0.0147      0.011      1.300      0.194      -0.008       0.037\n",
      "origin         0.1034      0.050      2.071      0.039       0.005       0.202\n",
      "==============================================================================\n",
      "Omnibus:                      854.056   Durbin-Watson:                   2.032\n",
      "Prob(Omnibus):                  0.000   Jarque-Bera (JB):          1311216.144\n",
      "Skew:                         -15.715   Prob(JB):                         0.00\n",
      "Kurtosis:                     282.785   Cond. No.                     7.88e+04\n",
      "==============================================================================\n",
      "\n",
      "Warnings:\n",
      "[1] Standard Errors assume that the covariance matrix of the errors is correctly specified.\n",
      "[2] The condition number is large, 7.88e+04. This might indicate that there are\n",
      "strong multicollinearity or other numerical problems.\n"
     ]
    }
   ],
   "source": [
    "Xc=sm.add_constant(X)\n",
    "lin_reg=sm.OLS(y,Xc)\n",
    "result=lin_reg.fit()\n",
    "print(result.summary())"
   ]
  },
  {
   "cell_type": "code",
   "execution_count": 53,
   "metadata": {},
   "outputs": [],
   "source": [
    "y_pred=result.predict(Xc)"
   ]
  },
  {
   "cell_type": "code",
   "execution_count": 54,
   "metadata": {},
   "outputs": [
    {
     "data": {
      "image/png": "[encoded data removed]",
      "text/plain": [
       "<Figure size 432x288 with 1 Axes>"
      ]
     },
     "metadata": {
      "needs_background": "light"
     },
     "output_type": "display_data"
    }
   ],
   "source": [
    "sns.regplot(x=y_pred,y=y,lowess=True,line_kws={'color':'red'})\n",
    "plt.show()"
   ]
  },
  {
   "cell_type": "markdown",
   "metadata": {},
   "source": [
    "## Feature selection techniques"
   ]
  },
  {
   "cell_type": "code",
   "execution_count": 55,
   "metadata": {},
   "outputs": [
    {
     "name": "stdout",
     "output_type": "stream",
     "text": [
      "[ True  True  True  True  True  True  True]\n",
      "[1 1 1 1 1 1 1]\n",
      "Index(['cyl', 'disp', 'hp', 'wt', 'acc', 'yr', 'origin'], dtype='object')\n"
     ]
    }
   ],
   "source": [
    "# RFE-Recursive Feature Elimination\n",
    "\n",
    "y=df['mpg']\n",
    "X=df.drop(['mpg'],axis=1)\n",
    "model=LinearRegression()\n",
    "rfe=RFE(model,10)\n",
    "X_rfe=rfe.fit_transform(X,y)\n",
    "model.fit(X_rfe,y)\n",
    "print(rfe.support_)\n",
    "print(rfe.ranking_)\n",
    "print(X.columns)"
   ]
  },
  {
   "cell_type": "code",
   "execution_count": 61,
   "metadata": {},
   "outputs": [],
   "source": [
    "#Select  the best number to keep in RFE\n",
    "\n",
    "noof_cols=8\n",
    "score_list=[]\n",
    "\n",
    "for n in range(noof_cols):\n",
    "    X_train,X_test,y_train,y_test=train_test_split(X,y,test_size=0.3,random_state=42)\n",
    "    model=LinearRegression()\n",
    "    rfe=RFE(model,n+1)\n",
    "    X_train_rfe=rfe.fit_transform(X_train,y_train)\n",
    "    X_test_rfe=rfe.transform(X_test)\n",
    "    model.fit(X_train_rfe,y_train)\n",
    "    score=model.score(X_test_rfe,y_test)\n",
    "    score_list.append(score)"
   ]
  },
  {
   "cell_type": "code",
   "execution_count": 62,
   "metadata": {},
   "outputs": [
    {
     "data": {
      "text/plain": [
       "[<matplotlib.lines.Line2D at 0xf0121d0>]"
      ]
     },
     "execution_count": 62,
     "metadata": {},
     "output_type": "execute_result"
    },
    {
     "data": {
      "image/png": "[encoded data removed]",
      "text/plain": [
       "<Figure size 432x288 with 1 Axes>"
      ]
     },
     "metadata": {
      "needs_background": "light"
     },
     "output_type": "display_data"
    }
   ],
   "source": [
    "plt.plot(score_list)"
   ]
  },
  {
   "cell_type": "code",
   "execution_count": 63,
   "metadata": {},
   "outputs": [
    {
     "data": {
      "text/plain": [
       "[0.9997877456011404,\n",
       " 0.9997264268601818,\n",
       " 0.9997437235634687,\n",
       " 0.9997371924279667,\n",
       " 0.9997386113499043,\n",
       " 0.9996636731129622,\n",
       " 0.9994898578813449,\n",
       " 0.9994898578813449]"
      ]
     },
     "execution_count": 63,
     "metadata": {},
     "output_type": "execute_result"
    }
   ],
   "source": [
    "score_list"
   ]
  },
  {
   "cell_type": "code",
   "execution_count": 64,
   "metadata": {},
   "outputs": [
    {
     "name": "stdout",
     "output_type": "stream",
     "text": [
      "Index(['cyl', 'disp', 'hp', 'wt', 'acc', 'yr', 'origin'], dtype='object')\n"
     ]
    }
   ],
   "source": [
    "cols=X.columns\n",
    "model=LinearRegression()\n",
    "rfe=RFE(model,8)\n",
    "X_rfe=rfe.fit_transform(X,y)\n",
    "model.fit(X_rfe,y)\n",
    "temp=pd.Series(rfe.support_,index=cols)\n",
    "selected_feature_rfe=temp[temp==True].index\n",
    "print(selected_feature_rfe)"
   ]
  },
  {
   "cell_type": "code",
   "execution_count": 70,
   "metadata": {},
   "outputs": [
    {
     "name": "stderr",
     "output_type": "stream",
     "text": [
      "[Parallel(n_jobs=1)]: Using backend SequentialBackend with 1 concurrent workers.\n",
      "[Parallel(n_jobs=1)]: Done   1 out of   1 | elapsed:    0.0s remaining:    0.0s\n",
      "[Parallel(n_jobs=1)]: Done   7 out of   7 | elapsed:    0.0s finished\n",
      "\n",
      "[2019-10-24 18:18:07] Features: 1/7 -- score: 0.9898575830681168[Parallel(n_jobs=1)]: Using backend SequentialBackend with 1 concurrent workers.\n",
      "[Parallel(n_jobs=1)]: Done   1 out of   1 | elapsed:    0.0s remaining:    0.0s\n",
      "[Parallel(n_jobs=1)]: Done   6 out of   6 | elapsed:    0.0s finished\n",
      "\n",
      "[2019-10-24 18:18:07] Features: 2/7 -- score: 0.9898610634933583[Parallel(n_jobs=1)]: Using backend SequentialBackend with 1 concurrent workers.\n",
      "[Parallel(n_jobs=1)]: Done   1 out of   1 | elapsed:    0.0s remaining:    0.0s\n",
      "[Parallel(n_jobs=1)]: Done   5 out of   5 | elapsed:    0.0s finished\n",
      "\n",
      "[2019-10-24 18:18:07] Features: 3/7 -- score: 0.9898524461587629[Parallel(n_jobs=1)]: Using backend SequentialBackend with 1 concurrent workers.\n",
      "[Parallel(n_jobs=1)]: Done   1 out of   1 | elapsed:    0.0s remaining:    0.0s\n",
      "[Parallel(n_jobs=1)]: Done   4 out of   4 | elapsed:    0.0s finished\n",
      "\n",
      "[2019-10-24 18:18:07] Features: 4/7 -- score: 0.9898012127409043[Parallel(n_jobs=1)]: Using backend SequentialBackend with 1 concurrent workers.\n",
      "[Parallel(n_jobs=1)]: Done   1 out of   1 | elapsed:    0.0s remaining:    0.0s\n",
      "[Parallel(n_jobs=1)]: Done   3 out of   3 | elapsed:    0.0s finished\n",
      "\n",
      "[2019-10-24 18:18:07] Features: 5/7 -- score: 0.9897511056901469[Parallel(n_jobs=1)]: Using backend SequentialBackend with 1 concurrent workers.\n",
      "[Parallel(n_jobs=1)]: Done   1 out of   1 | elapsed:    0.0s remaining:    0.0s\n",
      "[Parallel(n_jobs=1)]: Done   2 out of   2 | elapsed:    0.0s finished\n",
      "\n",
      "[2019-10-24 18:18:07] Features: 6/7 -- score: 0.9896678838775007[Parallel(n_jobs=1)]: Using backend SequentialBackend with 1 concurrent workers.\n",
      "[Parallel(n_jobs=1)]: Done   1 out of   1 | elapsed:    0.0s remaining:    0.0s\n",
      "[Parallel(n_jobs=1)]: Done   1 out of   1 | elapsed:    0.0s finished\n",
      "\n",
      "[2019-10-24 18:18:07] Features: 7/7 -- score: 0.9893411937081842"
     ]
    }
   ],
   "source": [
    "# Step forward selection\n",
    "\n",
    "y=df['mpg']\n",
    "X=df.drop(['mpg'],axis=1)\n",
    "\n",
    "lr=LinearRegression()\n",
    "\n",
    "X_train,X_test,y_train,y_test=train_test_split(X,y,test_size=0.33,random_state=42)\n",
    "\n",
    "sfs1=sfs(lr,k_features=7,forward=True,cv=3,verbose=2)\n",
    "result=sfs1.fit(X_train,y_train)"
   ]
  },
  {
   "cell_type": "code",
   "execution_count": 72,
   "metadata": {},
   "outputs": [
    {
     "data": {
      "text/plain": [
       "Index(['cyl', 'disp', 'hp', 'wt', 'acc', 'yr', 'origin'], dtype='object')"
      ]
     },
     "execution_count": 72,
     "metadata": {},
     "output_type": "execute_result"
    }
   ],
   "source": [
    "sel_cols=list(result.k_feature_names_)\n",
    "cols"
   ]
  },
  {
   "cell_type": "code",
   "execution_count": 73,
   "metadata": {},
   "outputs": [
    {
     "name": "stdout",
     "output_type": "stream",
     "text": [
      "R2 on the test dataset:  0.9993484367498269\n"
     ]
    }
   ],
   "source": [
    "lr=LinearRegression()\n",
    "lr.fit(X_train[sel_cols],y_train)\n",
    "y_pred=lr.predict(X_test[sel_cols])\n",
    "\n",
    "print('R2 on the test dataset: ',r2_score(y_test,y_pred))"
   ]
  },
  {
   "cell_type": "code",
   "execution_count": 74,
   "metadata": {},
   "outputs": [
    {
     "name": "stderr",
     "output_type": "stream",
     "text": [
      "[Parallel(n_jobs=1)]: Using backend SequentialBackend with 1 concurrent workers.\n",
      "[Parallel(n_jobs=1)]: Done   1 out of   1 | elapsed:    0.0s remaining:    0.0s\n",
      "[Parallel(n_jobs=1)]: Done   7 out of   7 | elapsed:    0.0s finished\n",
      "\n",
      "[2019-10-24 18:20:14] Features: 6/1 -- score: 0.9896678838775007[Parallel(n_jobs=1)]: Using backend SequentialBackend with 1 concurrent workers.\n",
      "[Parallel(n_jobs=1)]: Done   1 out of   1 | elapsed:    0.0s remaining:    0.0s\n",
      "[Parallel(n_jobs=1)]: Done   6 out of   6 | elapsed:    0.0s finished\n",
      "\n",
      "[2019-10-24 18:20:14] Features: 5/1 -- score: 0.9897511056901469[Parallel(n_jobs=1)]: Using backend SequentialBackend with 1 concurrent workers.\n",
      "[Parallel(n_jobs=1)]: Done   1 out of   1 | elapsed:    0.0s remaining:    0.0s\n",
      "[Parallel(n_jobs=1)]: Done   5 out of   5 | elapsed:    0.0s finished\n",
      "\n",
      "[2019-10-24 18:20:14] Features: 4/1 -- score: 0.9898012127409043[Parallel(n_jobs=1)]: Using backend SequentialBackend with 1 concurrent workers.\n",
      "[Parallel(n_jobs=1)]: Done   1 out of   1 | elapsed:    0.0s remaining:    0.0s\n",
      "[Parallel(n_jobs=1)]: Done   4 out of   4 | elapsed:    0.0s finished\n",
      "\n",
      "[2019-10-24 18:20:14] Features: 3/1 -- score: 0.9898524461587629[Parallel(n_jobs=1)]: Using backend SequentialBackend with 1 concurrent workers.\n",
      "[Parallel(n_jobs=1)]: Done   1 out of   1 | elapsed:    0.0s remaining:    0.0s\n",
      "[Parallel(n_jobs=1)]: Done   3 out of   3 | elapsed:    0.0s finished\n",
      "\n",
      "[2019-10-24 18:20:14] Features: 2/1 -- score: 0.9898610634933583[Parallel(n_jobs=1)]: Using backend SequentialBackend with 1 concurrent workers.\n",
      "[Parallel(n_jobs=1)]: Done   1 out of   1 | elapsed:    0.0s remaining:    0.0s\n",
      "[Parallel(n_jobs=1)]: Done   2 out of   2 | elapsed:    0.0s finished\n",
      "\n",
      "[2019-10-24 18:20:14] Features: 1/1 -- score: 0.9898575830681168"
     ]
    }
   ],
   "source": [
    "# Sted backward selection\n",
    "\n",
    "lr=LinearRegression()\n",
    "\n",
    "X_train,X_test,y_train,y_test=train_test_split(X,y,test_size=0.33,random_state=42)\n",
    "\n",
    "sfs1=sfs(lr,k_features=1,forward=False,cv=3,verbose=2)\n",
    "result=sfs1.fit(X_train,y_train)"
   ]
  },
  {
   "cell_type": "code",
   "execution_count": 75,
   "metadata": {},
   "outputs": [
    {
     "name": "stdout",
     "output_type": "stream",
     "text": [
      "R2 on the test dataset:  0.9993484367498269\n"
     ]
    }
   ],
   "source": [
    "lr=LinearRegression()\n",
    "lr.fit(X_train[sel_cols],y_train)\n",
    "y_pred=lr.predict(X_test[sel_cols])\n",
    "\n",
    "print('R2 on the test dataset: ',r2_score(y_test,y_pred))"
   ]
  },
  {
   "cell_type": "markdown",
   "metadata": {},
   "source": [
    "### Transformation techniques"
   ]
  },
  {
   "cell_type": "code",
   "execution_count": 77,
   "metadata": {},
   "outputs": [
    {
     "data": {
      "text/html": [
       "<div>\n",
       "<style scoped>\n",
       "    .dataframe tbody tr th:only-of-type {\n",
       "        vertical-align: middle;\n",
       "    }\n",
       "\n",
       "    .dataframe tbody tr th {\n",
       "        vertical-align: top;\n",
       "    }\n",
       "\n",
       "    .dataframe thead th {\n",
       "        text-align: right;\n",
       "    }\n",
       "</style>\n",
       "<table border=\"1\" class=\"dataframe\">\n",
       "  <thead>\n",
       "    <tr style=\"text-align: right;\">\n",
       "      <th></th>\n",
       "      <th>mpg</th>\n",
       "      <th>cyl</th>\n",
       "      <th>disp</th>\n",
       "      <th>hp</th>\n",
       "      <th>wt</th>\n",
       "      <th>acc</th>\n",
       "      <th>yr</th>\n",
       "      <th>origin</th>\n",
       "    </tr>\n",
       "  </thead>\n",
       "  <tbody>\n",
       "    <tr>\n",
       "      <th>0</th>\n",
       "      <td>2.890372</td>\n",
       "      <td>2.079442</td>\n",
       "      <td>5.726848</td>\n",
       "      <td>2.890372</td>\n",
       "      <td>8.161660</td>\n",
       "      <td>2.484907</td>\n",
       "      <td>4.248495</td>\n",
       "      <td>0.0</td>\n",
       "    </tr>\n",
       "    <tr>\n",
       "      <th>1</th>\n",
       "      <td>2.708050</td>\n",
       "      <td>2.079442</td>\n",
       "      <td>5.857933</td>\n",
       "      <td>2.708050</td>\n",
       "      <td>8.214194</td>\n",
       "      <td>2.442347</td>\n",
       "      <td>4.248495</td>\n",
       "      <td>0.0</td>\n",
       "    </tr>\n",
       "    <tr>\n",
       "      <th>2</th>\n",
       "      <td>2.890372</td>\n",
       "      <td>2.079442</td>\n",
       "      <td>5.762051</td>\n",
       "      <td>2.890372</td>\n",
       "      <td>8.142063</td>\n",
       "      <td>2.397895</td>\n",
       "      <td>4.248495</td>\n",
       "      <td>0.0</td>\n",
       "    </tr>\n",
       "    <tr>\n",
       "      <th>3</th>\n",
       "      <td>2.772589</td>\n",
       "      <td>2.079442</td>\n",
       "      <td>5.717028</td>\n",
       "      <td>2.772589</td>\n",
       "      <td>8.141190</td>\n",
       "      <td>2.484907</td>\n",
       "      <td>4.248495</td>\n",
       "      <td>0.0</td>\n",
       "    </tr>\n",
       "    <tr>\n",
       "      <th>4</th>\n",
       "      <td>2.833213</td>\n",
       "      <td>2.079442</td>\n",
       "      <td>5.710427</td>\n",
       "      <td>2.833213</td>\n",
       "      <td>8.145840</td>\n",
       "      <td>2.351375</td>\n",
       "      <td>4.248495</td>\n",
       "      <td>0.0</td>\n",
       "    </tr>\n",
       "  </tbody>\n",
       "</table>\n",
       "</div>"
      ],
      "text/plain": [
       "        mpg       cyl      disp        hp        wt       acc        yr  \\\n",
       "0  2.890372  2.079442  5.726848  2.890372  8.161660  2.484907  4.248495   \n",
       "1  2.708050  2.079442  5.857933  2.708050  8.214194  2.442347  4.248495   \n",
       "2  2.890372  2.079442  5.762051  2.890372  8.142063  2.397895  4.248495   \n",
       "3  2.772589  2.079442  5.717028  2.772589  8.141190  2.484907  4.248495   \n",
       "4  2.833213  2.079442  5.710427  2.833213  8.145840  2.351375  4.248495   \n",
       "\n",
       "   origin  \n",
       "0     0.0  \n",
       "1     0.0  \n",
       "2     0.0  \n",
       "3     0.0  \n",
       "4     0.0  "
      ]
     },
     "execution_count": 77,
     "metadata": {},
     "output_type": "execute_result"
    }
   ],
   "source": [
    "# log transform\n",
    "df2 = df.copy()\n",
    "df_final1 = df2.transform(lambda X: np.log(X))\n",
    "df_final1.head()"
   ]
  },
  {
   "cell_type": "markdown",
   "metadata": {},
   "source": [
    "There are no infinity values so the data is  so good."
   ]
  },
  {
   "cell_type": "code",
   "execution_count": 79,
   "metadata": {},
   "outputs": [
    {
     "data": {
      "text/html": [
       "<div>\n",
       "<style scoped>\n",
       "    .dataframe tbody tr th:only-of-type {\n",
       "        vertical-align: middle;\n",
       "    }\n",
       "\n",
       "    .dataframe tbody tr th {\n",
       "        vertical-align: top;\n",
       "    }\n",
       "\n",
       "    .dataframe thead th {\n",
       "        text-align: right;\n",
       "    }\n",
       "</style>\n",
       "<table border=\"1\" class=\"dataframe\">\n",
       "  <thead>\n",
       "    <tr style=\"text-align: right;\">\n",
       "      <th></th>\n",
       "      <th>mpg</th>\n",
       "      <th>cyl</th>\n",
       "      <th>disp</th>\n",
       "      <th>hp</th>\n",
       "      <th>wt</th>\n",
       "      <th>acc</th>\n",
       "      <th>yr</th>\n",
       "      <th>origin</th>\n",
       "    </tr>\n",
       "  </thead>\n",
       "  <tbody>\n",
       "    <tr>\n",
       "      <th>0</th>\n",
       "      <td>0.055556</td>\n",
       "      <td>0.125</td>\n",
       "      <td>0.003257</td>\n",
       "      <td>0.055556</td>\n",
       "      <td>0.000285</td>\n",
       "      <td>0.083333</td>\n",
       "      <td>0.014286</td>\n",
       "      <td>1.0</td>\n",
       "    </tr>\n",
       "    <tr>\n",
       "      <th>1</th>\n",
       "      <td>0.066667</td>\n",
       "      <td>0.125</td>\n",
       "      <td>0.002857</td>\n",
       "      <td>0.066667</td>\n",
       "      <td>0.000271</td>\n",
       "      <td>0.086957</td>\n",
       "      <td>0.014286</td>\n",
       "      <td>1.0</td>\n",
       "    </tr>\n",
       "    <tr>\n",
       "      <th>2</th>\n",
       "      <td>0.055556</td>\n",
       "      <td>0.125</td>\n",
       "      <td>0.003145</td>\n",
       "      <td>0.055556</td>\n",
       "      <td>0.000291</td>\n",
       "      <td>0.090909</td>\n",
       "      <td>0.014286</td>\n",
       "      <td>1.0</td>\n",
       "    </tr>\n",
       "    <tr>\n",
       "      <th>3</th>\n",
       "      <td>0.062500</td>\n",
       "      <td>0.125</td>\n",
       "      <td>0.003289</td>\n",
       "      <td>0.062500</td>\n",
       "      <td>0.000291</td>\n",
       "      <td>0.083333</td>\n",
       "      <td>0.014286</td>\n",
       "      <td>1.0</td>\n",
       "    </tr>\n",
       "    <tr>\n",
       "      <th>4</th>\n",
       "      <td>0.058824</td>\n",
       "      <td>0.125</td>\n",
       "      <td>0.003311</td>\n",
       "      <td>0.058824</td>\n",
       "      <td>0.000290</td>\n",
       "      <td>0.095238</td>\n",
       "      <td>0.014286</td>\n",
       "      <td>1.0</td>\n",
       "    </tr>\n",
       "  </tbody>\n",
       "</table>\n",
       "</div>"
      ],
      "text/plain": [
       "        mpg    cyl      disp        hp        wt       acc        yr  origin\n",
       "0  0.055556  0.125  0.003257  0.055556  0.000285  0.083333  0.014286     1.0\n",
       "1  0.066667  0.125  0.002857  0.066667  0.000271  0.086957  0.014286     1.0\n",
       "2  0.055556  0.125  0.003145  0.055556  0.000291  0.090909  0.014286     1.0\n",
       "3  0.062500  0.125  0.003289  0.062500  0.000291  0.083333  0.014286     1.0\n",
       "4  0.058824  0.125  0.003311  0.058824  0.000290  0.095238  0.014286     1.0"
      ]
     },
     "execution_count": 79,
     "metadata": {},
     "output_type": "execute_result"
    }
   ],
   "source": [
    "# inverse transform\n",
    "df_final1 = df2.transform(lambda X: 1/X)\n",
    "df_final1.head()"
   ]
  },
  {
   "cell_type": "markdown",
   "metadata": {},
   "source": [
    "There are no infinity values so the dats is so good. "
   ]
  },
  {
   "cell_type": "code",
   "execution_count": 81,
   "metadata": {},
   "outputs": [
    {
     "data": {
      "text/html": [
       "<div>\n",
       "<style scoped>\n",
       "    .dataframe tbody tr th:only-of-type {\n",
       "        vertical-align: middle;\n",
       "    }\n",
       "\n",
       "    .dataframe tbody tr th {\n",
       "        vertical-align: top;\n",
       "    }\n",
       "\n",
       "    .dataframe thead th {\n",
       "        text-align: right;\n",
       "    }\n",
       "</style>\n",
       "<table border=\"1\" class=\"dataframe\">\n",
       "  <thead>\n",
       "    <tr style=\"text-align: right;\">\n",
       "      <th></th>\n",
       "      <th>mpg</th>\n",
       "      <th>cyl</th>\n",
       "      <th>disp</th>\n",
       "      <th>hp</th>\n",
       "      <th>wt</th>\n",
       "      <th>acc</th>\n",
       "      <th>yr</th>\n",
       "      <th>origin</th>\n",
       "    </tr>\n",
       "  </thead>\n",
       "  <tbody>\n",
       "    <tr>\n",
       "      <th>0</th>\n",
       "      <td>6.565997e+07</td>\n",
       "      <td>2980.957987</td>\n",
       "      <td>2.130129e+133</td>\n",
       "      <td>6.565997e+07</td>\n",
       "      <td>inf</td>\n",
       "      <td>162754.791419</td>\n",
       "      <td>2.515439e+30</td>\n",
       "      <td>2.718282</td>\n",
       "    </tr>\n",
       "    <tr>\n",
       "      <th>1</th>\n",
       "      <td>3.269017e+06</td>\n",
       "      <td>2980.957987</td>\n",
       "      <td>1.007091e+152</td>\n",
       "      <td>3.269017e+06</td>\n",
       "      <td>inf</td>\n",
       "      <td>98715.771011</td>\n",
       "      <td>2.515439e+30</td>\n",
       "      <td>2.718282</td>\n",
       "    </tr>\n",
       "    <tr>\n",
       "      <th>2</th>\n",
       "      <td>6.565997e+07</td>\n",
       "      <td>2980.957987</td>\n",
       "      <td>1.275397e+138</td>\n",
       "      <td>6.565997e+07</td>\n",
       "      <td>inf</td>\n",
       "      <td>59874.141715</td>\n",
       "      <td>2.515439e+30</td>\n",
       "      <td>2.718282</td>\n",
       "    </tr>\n",
       "    <tr>\n",
       "      <th>3</th>\n",
       "      <td>8.886111e+06</td>\n",
       "      <td>2980.957987</td>\n",
       "      <td>1.060529e+132</td>\n",
       "      <td>8.886111e+06</td>\n",
       "      <td>inf</td>\n",
       "      <td>162754.791419</td>\n",
       "      <td>2.515439e+30</td>\n",
       "      <td>2.718282</td>\n",
       "    </tr>\n",
       "    <tr>\n",
       "      <th>4</th>\n",
       "      <td>2.415495e+07</td>\n",
       "      <td>2980.957987</td>\n",
       "      <td>1.435270e+131</td>\n",
       "      <td>2.415495e+07</td>\n",
       "      <td>inf</td>\n",
       "      <td>36315.502674</td>\n",
       "      <td>2.515439e+30</td>\n",
       "      <td>2.718282</td>\n",
       "    </tr>\n",
       "  </tbody>\n",
       "</table>\n",
       "</div>"
      ],
      "text/plain": [
       "            mpg          cyl           disp            hp   wt            acc  \\\n",
       "0  6.565997e+07  2980.957987  2.130129e+133  6.565997e+07  inf  162754.791419   \n",
       "1  3.269017e+06  2980.957987  1.007091e+152  3.269017e+06  inf   98715.771011   \n",
       "2  6.565997e+07  2980.957987  1.275397e+138  6.565997e+07  inf   59874.141715   \n",
       "3  8.886111e+06  2980.957987  1.060529e+132  8.886111e+06  inf  162754.791419   \n",
       "4  2.415495e+07  2980.957987  1.435270e+131  2.415495e+07  inf   36315.502674   \n",
       "\n",
       "             yr    origin  \n",
       "0  2.515439e+30  2.718282  \n",
       "1  2.515439e+30  2.718282  \n",
       "2  2.515439e+30  2.718282  \n",
       "3  2.515439e+30  2.718282  \n",
       "4  2.515439e+30  2.718282  "
      ]
     },
     "execution_count": 81,
     "metadata": {},
     "output_type": "execute_result"
    }
   ],
   "source": [
    "# exponential transform\n",
    "df2 = df.copy()\n",
    "df_final1 = df2.transform(lambda X: np.exp(X))\n",
    "df_final1.head()"
   ]
  },
  {
   "cell_type": "markdown",
   "metadata": {},
   "source": [
    "X = df_final1.drop('Price',axis=1)\n",
    "y = df_final1.Price\n",
    "X_constant = sm.add_constant(X)\n",
    "model = sm.OLS(y, X_constant).fit()\n",
    "predictions = model.predict(X_constant)\n",
    "model.summary()\n",
    "\n",
    "Model building will not work here as because there are few infinite values after transformation."
   ]
  },
  {
   "cell_type": "code",
   "execution_count": 82,
   "metadata": {},
   "outputs": [
    {
     "data": {
      "text/html": [
       "<div>\n",
       "<style scoped>\n",
       "    .dataframe tbody tr th:only-of-type {\n",
       "        vertical-align: middle;\n",
       "    }\n",
       "\n",
       "    .dataframe tbody tr th {\n",
       "        vertical-align: top;\n",
       "    }\n",
       "\n",
       "    .dataframe thead th {\n",
       "        text-align: right;\n",
       "    }\n",
       "</style>\n",
       "<table border=\"1\" class=\"dataframe\">\n",
       "  <thead>\n",
       "    <tr style=\"text-align: right;\">\n",
       "      <th></th>\n",
       "      <th>mpg</th>\n",
       "      <th>cyl</th>\n",
       "      <th>disp</th>\n",
       "      <th>hp</th>\n",
       "      <th>wt</th>\n",
       "      <th>acc</th>\n",
       "      <th>yr</th>\n",
       "      <th>origin</th>\n",
       "    </tr>\n",
       "  </thead>\n",
       "  <tbody>\n",
       "    <tr>\n",
       "      <th>0</th>\n",
       "      <td>4.242641</td>\n",
       "      <td>2.828427</td>\n",
       "      <td>17.521415</td>\n",
       "      <td>4.242641</td>\n",
       "      <td>59.194594</td>\n",
       "      <td>3.464102</td>\n",
       "      <td>8.3666</td>\n",
       "      <td>1.0</td>\n",
       "    </tr>\n",
       "    <tr>\n",
       "      <th>1</th>\n",
       "      <td>3.872983</td>\n",
       "      <td>2.828427</td>\n",
       "      <td>18.708287</td>\n",
       "      <td>3.872983</td>\n",
       "      <td>60.770058</td>\n",
       "      <td>3.391165</td>\n",
       "      <td>8.3666</td>\n",
       "      <td>1.0</td>\n",
       "    </tr>\n",
       "    <tr>\n",
       "      <th>2</th>\n",
       "      <td>4.242641</td>\n",
       "      <td>2.828427</td>\n",
       "      <td>17.832555</td>\n",
       "      <td>4.242641</td>\n",
       "      <td>58.617404</td>\n",
       "      <td>3.316625</td>\n",
       "      <td>8.3666</td>\n",
       "      <td>1.0</td>\n",
       "    </tr>\n",
       "    <tr>\n",
       "      <th>3</th>\n",
       "      <td>4.000000</td>\n",
       "      <td>2.828427</td>\n",
       "      <td>17.435596</td>\n",
       "      <td>4.000000</td>\n",
       "      <td>58.591808</td>\n",
       "      <td>3.464102</td>\n",
       "      <td>8.3666</td>\n",
       "      <td>1.0</td>\n",
       "    </tr>\n",
       "    <tr>\n",
       "      <th>4</th>\n",
       "      <td>4.123106</td>\n",
       "      <td>2.828427</td>\n",
       "      <td>17.378147</td>\n",
       "      <td>4.123106</td>\n",
       "      <td>58.728187</td>\n",
       "      <td>3.240370</td>\n",
       "      <td>8.3666</td>\n",
       "      <td>1.0</td>\n",
       "    </tr>\n",
       "  </tbody>\n",
       "</table>\n",
       "</div>"
      ],
      "text/plain": [
       "        mpg       cyl       disp        hp         wt       acc      yr  \\\n",
       "0  4.242641  2.828427  17.521415  4.242641  59.194594  3.464102  8.3666   \n",
       "1  3.872983  2.828427  18.708287  3.872983  60.770058  3.391165  8.3666   \n",
       "2  4.242641  2.828427  17.832555  4.242641  58.617404  3.316625  8.3666   \n",
       "3  4.000000  2.828427  17.435596  4.000000  58.591808  3.464102  8.3666   \n",
       "4  4.123106  2.828427  17.378147  4.123106  58.728187  3.240370  8.3666   \n",
       "\n",
       "   origin  \n",
       "0     1.0  \n",
       "1     1.0  \n",
       "2     1.0  \n",
       "3     1.0  \n",
       "4     1.0  "
      ]
     },
     "execution_count": 82,
     "metadata": {},
     "output_type": "execute_result"
    }
   ],
   "source": [
    "# Square root transform\n",
    "df=df.copy()\n",
    "df_sqrt=df.transform(lambda x:x**(0.5))\n",
    "df_sqrt.head()"
   ]
  },
  {
   "cell_type": "code",
   "execution_count": 83,
   "metadata": {},
   "outputs": [
    {
     "data": {
      "text/plain": [
       "mpg       0.427299\n",
       "cyl       0.522818\n",
       "disp      0.716598\n",
       "hp        0.435250\n",
       "wt        0.527426\n",
       "acc       0.284072\n",
       "yr        0.016577\n",
       "origin    0.932935\n",
       "dtype: float64"
      ]
     },
     "execution_count": 83,
     "metadata": {},
     "output_type": "execute_result"
    }
   ],
   "source": [
    "df.skew()"
   ]
  },
  {
   "cell_type": "markdown",
   "metadata": {},
   "source": [
    "The skewness values of all variables are small.so the data is good"
   ]
  },
  {
   "cell_type": "markdown",
   "metadata": {},
   "source": [
    "## Regularization Techniques"
   ]
  },
  {
   "cell_type": "code",
   "execution_count": 85,
   "metadata": {},
   "outputs": [
    {
     "data": {
      "text/html": [
       "<div>\n",
       "<style scoped>\n",
       "    .dataframe tbody tr th:only-of-type {\n",
       "        vertical-align: middle;\n",
       "    }\n",
       "\n",
       "    .dataframe tbody tr th {\n",
       "        vertical-align: top;\n",
       "    }\n",
       "\n",
       "    .dataframe thead th {\n",
       "        text-align: right;\n",
       "    }\n",
       "</style>\n",
       "<table border=\"1\" class=\"dataframe\">\n",
       "  <thead>\n",
       "    <tr style=\"text-align: right;\">\n",
       "      <th></th>\n",
       "      <th>coefs</th>\n",
       "    </tr>\n",
       "  </thead>\n",
       "  <tbody>\n",
       "    <tr>\n",
       "      <th>cyl</th>\n",
       "      <td>0.000000</td>\n",
       "    </tr>\n",
       "    <tr>\n",
       "      <th>disp</th>\n",
       "      <td>0.000369</td>\n",
       "    </tr>\n",
       "    <tr>\n",
       "      <th>hp</th>\n",
       "      <td>0.970127</td>\n",
       "    </tr>\n",
       "    <tr>\n",
       "      <th>wt</th>\n",
       "      <td>-0.000251</td>\n",
       "    </tr>\n",
       "    <tr>\n",
       "      <th>acc</th>\n",
       "      <td>0.000000</td>\n",
       "    </tr>\n",
       "    <tr>\n",
       "      <th>yr</th>\n",
       "      <td>0.004219</td>\n",
       "    </tr>\n",
       "    <tr>\n",
       "      <th>origin</th>\n",
       "      <td>0.000000</td>\n",
       "    </tr>\n",
       "  </tbody>\n",
       "</table>\n",
       "</div>"
      ],
      "text/plain": [
       "           coefs\n",
       "cyl     0.000000\n",
       "disp    0.000369\n",
       "hp      0.970127\n",
       "wt     -0.000251\n",
       "acc     0.000000\n",
       "yr      0.004219\n",
       "origin  0.000000"
      ]
     },
     "execution_count": 85,
     "metadata": {},
     "output_type": "execute_result"
    }
   ],
   "source": [
    "# Lasso\n",
    "from sklearn.linear_model import Lasso,Ridge,LassoCV,RidgeCV\n",
    "\n",
    "lasso=Lasso(alpha=0.1)\n",
    "lasso.fit(X,y)\n",
    "pd.DataFrame(lasso.coef_,X.columns,columns=['coefs'])"
   ]
  },
  {
   "cell_type": "code",
   "execution_count": 95,
   "metadata": {},
   "outputs": [
    {
     "data": {
      "image/png": "[encoded data removed]",
      "text/plain": [
       "<Figure size 432x288 with 1 Axes>"
      ]
     },
     "metadata": {
      "needs_background": "light"
     },
     "output_type": "display_data"
    }
   ],
   "source": [
    "n_alphas=50\n",
    "alphas=np.linspace(-1,0,n_alphas)\n",
    "coefs=[]\n",
    "model=Lasso()\n",
    "\n",
    "for a in alphas:\n",
    "    model.set_params(alpha=a)\n",
    "    model.fit(X,y)\n",
    "    coefs.append(model.coef_)\n",
    "\n",
    "plt.plot(alphas,coefs)\n",
    "plt.xlabel('alphas')\n",
    "plt.ylabel('coefs')\n",
    "plt.show()"
   ]
  },
  {
   "cell_type": "markdown",
   "metadata": {},
   "source": [
    "The Chart shows that as alpha increases it is setting many coefficients is zero.However, we dont know optimal alpha."
   ]
  },
  {
   "cell_type": "code",
   "execution_count": 105,
   "metadata": {},
   "outputs": [
    {
     "data": {
      "text/plain": [
       "LassoCV(alphas=array([0.        , 0.0005005 , 0.001001  , 0.0015015 , 0.002002  ,\n",
       "       0.0025025 , 0.003003  , 0.0035035 , 0.004004  , 0.0045045 ,\n",
       "       0.00500501, 0.00550551, 0.00600601, 0.00650651, 0.00700701,\n",
       "       0.00750751, 0.00800801, 0.00850851, 0.00900901, 0.00950951,\n",
       "       0.01001001, 0.01051051, 0.01101101, 0.01151151, 0.01201201,\n",
       "       0.01251251, 0.01301301, 0.01351351, 0.01401401, 0.01451451,\n",
       "       0.01501502, 0.015515...\n",
       "       0.49049049, 0.49099099, 0.49149149, 0.49199199, 0.49249249,\n",
       "       0.49299299, 0.49349349, 0.49399399, 0.49449449, 0.49499499,\n",
       "       0.4954955 , 0.495996  , 0.4964965 , 0.496997  , 0.4974975 ,\n",
       "       0.497998  , 0.4984985 , 0.498999  , 0.4994995 , 0.5       ]),\n",
       "        copy_X=True, cv=3, eps=0.001, fit_intercept=True, max_iter=1000,\n",
       "        n_alphas=100, n_jobs=None, normalize=False, positive=False,\n",
       "        precompute='auto', random_state=22, selection='cyclic', tol=0.0001,\n",
       "        verbose=False)"
      ]
     },
     "execution_count": 105,
     "metadata": {},
     "output_type": "execute_result"
    }
   ],
   "source": [
    "# Let's tune the Lasso regresion and find the optimal alpha\n",
    "n_alphas=1000\n",
    "alphas=np.linspace(0,0.5,n_alphas)\n",
    "\n",
    "lasso_cv=LassoCV(alphas=alphas,cv=3,random_state=22)\n",
    "lasso_cv.fit(X,y)"
   ]
  },
  {
   "cell_type": "code",
   "execution_count": 106,
   "metadata": {},
   "outputs": [
    {
     "data": {
      "text/plain": [
       "0.15665665665665665"
      ]
     },
     "execution_count": 106,
     "metadata": {},
     "output_type": "execute_result"
    }
   ],
   "source": [
    "lasso_cv.alpha_"
   ]
  },
  {
   "cell_type": "code",
   "execution_count": 107,
   "metadata": {},
   "outputs": [
    {
     "data": {
      "text/html": [
       "<div>\n",
       "<style scoped>\n",
       "    .dataframe tbody tr th:only-of-type {\n",
       "        vertical-align: middle;\n",
       "    }\n",
       "\n",
       "    .dataframe tbody tr th {\n",
       "        vertical-align: top;\n",
       "    }\n",
       "\n",
       "    .dataframe thead th {\n",
       "        text-align: right;\n",
       "    }\n",
       "</style>\n",
       "<table border=\"1\" class=\"dataframe\">\n",
       "  <thead>\n",
       "    <tr style=\"text-align: right;\">\n",
       "      <th></th>\n",
       "      <th>coefs</th>\n",
       "    </tr>\n",
       "  </thead>\n",
       "  <tbody>\n",
       "    <tr>\n",
       "      <th>cyl</th>\n",
       "      <td>-0.000000</td>\n",
       "    </tr>\n",
       "    <tr>\n",
       "      <th>disp</th>\n",
       "      <td>-0.002428</td>\n",
       "    </tr>\n",
       "    <tr>\n",
       "      <th>hp</th>\n",
       "      <td>0.433036</td>\n",
       "    </tr>\n",
       "    <tr>\n",
       "      <th>wt</th>\n",
       "      <td>-0.004025</td>\n",
       "    </tr>\n",
       "    <tr>\n",
       "      <th>acc</th>\n",
       "      <td>0.000000</td>\n",
       "    </tr>\n",
       "    <tr>\n",
       "      <th>yr</th>\n",
       "      <td>0.000000</td>\n",
       "    </tr>\n",
       "    <tr>\n",
       "      <th>origin</th>\n",
       "      <td>0.000000</td>\n",
       "    </tr>\n",
       "  </tbody>\n",
       "</table>\n",
       "</div>"
      ],
      "text/plain": [
       "           coefs\n",
       "cyl    -0.000000\n",
       "disp   -0.002428\n",
       "hp      0.433036\n",
       "wt     -0.004025\n",
       "acc     0.000000\n",
       "yr      0.000000\n",
       "origin  0.000000"
      ]
     },
     "execution_count": 107,
     "metadata": {},
     "output_type": "execute_result"
    }
   ],
   "source": [
    "lasso=Lasso(alpha=10.15665665665665665)\n",
    "lasso.fit(X,y)\n",
    "pd.DataFrame(lasso.coef_,X.columns,columns=['coefs'])"
   ]
  },
  {
   "cell_type": "code",
   "execution_count": 108,
   "metadata": {},
   "outputs": [
    {
     "data": {
      "text/html": [
       "<div>\n",
       "<style scoped>\n",
       "    .dataframe tbody tr th:only-of-type {\n",
       "        vertical-align: middle;\n",
       "    }\n",
       "\n",
       "    .dataframe tbody tr th {\n",
       "        vertical-align: top;\n",
       "    }\n",
       "\n",
       "    .dataframe thead th {\n",
       "        text-align: right;\n",
       "    }\n",
       "</style>\n",
       "<table border=\"1\" class=\"dataframe\">\n",
       "  <thead>\n",
       "    <tr style=\"text-align: right;\">\n",
       "      <th></th>\n",
       "      <th>coefs</th>\n",
       "    </tr>\n",
       "  </thead>\n",
       "  <tbody>\n",
       "    <tr>\n",
       "      <th>cyl</th>\n",
       "      <td>0.050449</td>\n",
       "    </tr>\n",
       "    <tr>\n",
       "      <th>disp</th>\n",
       "      <td>0.001005</td>\n",
       "    </tr>\n",
       "    <tr>\n",
       "      <th>hp</th>\n",
       "      <td>0.967832</td>\n",
       "    </tr>\n",
       "    <tr>\n",
       "      <th>wt</th>\n",
       "      <td>-0.000333</td>\n",
       "    </tr>\n",
       "    <tr>\n",
       "      <th>acc</th>\n",
       "      <td>0.021320</td>\n",
       "    </tr>\n",
       "    <tr>\n",
       "      <th>yr</th>\n",
       "      <td>0.014800</td>\n",
       "    </tr>\n",
       "    <tr>\n",
       "      <th>origin</th>\n",
       "      <td>0.103161</td>\n",
       "    </tr>\n",
       "  </tbody>\n",
       "</table>\n",
       "</div>"
      ],
      "text/plain": [
       "           coefs\n",
       "cyl     0.050449\n",
       "disp    0.001005\n",
       "hp      0.967832\n",
       "wt     -0.000333\n",
       "acc     0.021320\n",
       "yr      0.014800\n",
       "origin  0.103161"
      ]
     },
     "execution_count": 108,
     "metadata": {},
     "output_type": "execute_result"
    }
   ],
   "source": [
    "# Ridge\n",
    "ridge=Ridge(alpha=0.5)\n",
    "ridge.fit(X,y)\n",
    "pd.DataFrame(ridge.coef_,X.columns,columns=['coefs'])"
   ]
  },
  {
   "cell_type": "code",
   "execution_count": 117,
   "metadata": {},
   "outputs": [
    {
     "data": {
      "image/png": "[encoded data removed]",
      "text/plain": [
       "<Figure size 432x288 with 1 Axes>"
      ]
     },
     "metadata": {
      "needs_background": "light"
     },
     "output_type": "display_data"
    }
   ],
   "source": [
    "n_alphas=50\n",
    "alphas=np.logspace(-3,3,n_alphas)\n",
    "coefs=[]\n",
    "model=Ridge()\n",
    "\n",
    "for a in alphas:\n",
    "    model.set_params(alpha=a)\n",
    "    model.fit(X,y)\n",
    "    coefs.append(model.coef_)\n",
    "\n",
    "plt.plot(alphas,coefs)\n",
    "plt.xlabel('alphas')\n",
    "plt.ylabel('coefs')\n",
    "plt.show()"
   ]
  },
  {
   "cell_type": "code",
   "execution_count": 120,
   "metadata": {},
   "outputs": [
    {
     "data": {
      "text/plain": [
       "1.0"
      ]
     },
     "execution_count": 120,
     "metadata": {},
     "output_type": "execute_result"
    }
   ],
   "source": [
    "n_alphas=1000\n",
    "alphas=np.logspace(-1,0)\n",
    "\n",
    "ridge_cv=RidgeCV(alphas=alphas,store_cv_values=True)\n",
    "ridge_cv.fit(X,y)\n",
    "\n",
    "ridge_cv.alpha_"
   ]
  },
  {
   "cell_type": "code",
   "execution_count": 121,
   "metadata": {},
   "outputs": [
    {
     "data": {
      "text/html": [
       "<div>\n",
       "<style scoped>\n",
       "    .dataframe tbody tr th:only-of-type {\n",
       "        vertical-align: middle;\n",
       "    }\n",
       "\n",
       "    .dataframe tbody tr th {\n",
       "        vertical-align: top;\n",
       "    }\n",
       "\n",
       "    .dataframe thead th {\n",
       "        text-align: right;\n",
       "    }\n",
       "</style>\n",
       "<table border=\"1\" class=\"dataframe\">\n",
       "  <thead>\n",
       "    <tr style=\"text-align: right;\">\n",
       "      <th></th>\n",
       "      <th>coefs</th>\n",
       "    </tr>\n",
       "  </thead>\n",
       "  <tbody>\n",
       "    <tr>\n",
       "      <th>cyl</th>\n",
       "      <td>0.050204</td>\n",
       "    </tr>\n",
       "    <tr>\n",
       "      <th>disp</th>\n",
       "      <td>0.001008</td>\n",
       "    </tr>\n",
       "    <tr>\n",
       "      <th>hp</th>\n",
       "      <td>0.967733</td>\n",
       "    </tr>\n",
       "    <tr>\n",
       "      <th>wt</th>\n",
       "      <td>-0.000334</td>\n",
       "    </tr>\n",
       "    <tr>\n",
       "      <th>acc</th>\n",
       "      <td>0.021311</td>\n",
       "    </tr>\n",
       "    <tr>\n",
       "      <th>yr</th>\n",
       "      <td>0.014872</td>\n",
       "    </tr>\n",
       "    <tr>\n",
       "      <th>origin</th>\n",
       "      <td>0.102956</td>\n",
       "    </tr>\n",
       "  </tbody>\n",
       "</table>\n",
       "</div>"
      ],
      "text/plain": [
       "           coefs\n",
       "cyl     0.050204\n",
       "disp    0.001008\n",
       "hp      0.967733\n",
       "wt     -0.000334\n",
       "acc     0.021311\n",
       "yr      0.014872\n",
       "origin  0.102956"
      ]
     },
     "execution_count": 121,
     "metadata": {},
     "output_type": "execute_result"
    }
   ],
   "source": [
    "ridge=Ridge(alpha=1)\n",
    "ridge.fit(X,y)\n",
    "pd.DataFrame(ridge.coef_,X.columns,columns=['coefs'])"
   ]
  },
  {
   "cell_type": "code",
   "execution_count": 123,
   "metadata": {},
   "outputs": [
    {
     "data": {
      "text/plain": [
       "ElasticNet(alpha=0.1, copy_X=True, fit_intercept=True, l1_ratio=0.5,\n",
       "           max_iter=1000, normalize=False, positive=False, precompute=False,\n",
       "           random_state=None, selection='cyclic', tol=0.0001, warm_start=False)"
      ]
     },
     "execution_count": 123,
     "metadata": {},
     "output_type": "execute_result"
    }
   ],
   "source": [
    "# Elastic net\n",
    "from sklearn.linear_model import ElasticNet,ElasticNetCV\n",
    "\n",
    "enet=ElasticNet(alpha=0.1)\n",
    "enet.fit(X,y)"
   ]
  },
  {
   "cell_type": "code",
   "execution_count": 124,
   "metadata": {},
   "outputs": [
    {
     "data": {
      "text/html": [
       "<div>\n",
       "<style scoped>\n",
       "    .dataframe tbody tr th:only-of-type {\n",
       "        vertical-align: middle;\n",
       "    }\n",
       "\n",
       "    .dataframe tbody tr th {\n",
       "        vertical-align: top;\n",
       "    }\n",
       "\n",
       "    .dataframe thead th {\n",
       "        text-align: right;\n",
       "    }\n",
       "</style>\n",
       "<table border=\"1\" class=\"dataframe\">\n",
       "  <thead>\n",
       "    <tr style=\"text-align: right;\">\n",
       "      <th></th>\n",
       "      <th>coefs</th>\n",
       "    </tr>\n",
       "  </thead>\n",
       "  <tbody>\n",
       "    <tr>\n",
       "      <th>cyl</th>\n",
       "      <td>0.000000</td>\n",
       "    </tr>\n",
       "    <tr>\n",
       "      <th>disp</th>\n",
       "      <td>0.000700</td>\n",
       "    </tr>\n",
       "    <tr>\n",
       "      <th>hp</th>\n",
       "      <td>0.966938</td>\n",
       "    </tr>\n",
       "    <tr>\n",
       "      <th>wt</th>\n",
       "      <td>-0.000297</td>\n",
       "    </tr>\n",
       "    <tr>\n",
       "      <th>acc</th>\n",
       "      <td>0.006112</td>\n",
       "    </tr>\n",
       "    <tr>\n",
       "      <th>yr</th>\n",
       "      <td>0.010695</td>\n",
       "    </tr>\n",
       "    <tr>\n",
       "      <th>origin</th>\n",
       "      <td>0.000000</td>\n",
       "    </tr>\n",
       "  </tbody>\n",
       "</table>\n",
       "</div>"
      ],
      "text/plain": [
       "           coefs\n",
       "cyl     0.000000\n",
       "disp    0.000700\n",
       "hp      0.966938\n",
       "wt     -0.000297\n",
       "acc     0.006112\n",
       "yr      0.010695\n",
       "origin  0.000000"
      ]
     },
     "execution_count": 124,
     "metadata": {},
     "output_type": "execute_result"
    }
   ],
   "source": [
    "pd.DataFrame(enet.coef_,X.columns,columns=['coefs'])"
   ]
  },
  {
   "cell_type": "code",
   "execution_count": 125,
   "metadata": {},
   "outputs": [
    {
     "data": {
      "image/png": "[encoded data removed]",
      "text/plain": [
       "<Figure size 432x288 with 1 Axes>"
      ]
     },
     "metadata": {
      "needs_background": "light"
     },
     "output_type": "display_data"
    }
   ],
   "source": [
    "n_alphas=200\n",
    "alphas=np.logspace(-3,-2,n_alphas)\n",
    "coefs=[]\n",
    "model=ElasticNet()\n",
    "\n",
    "for a in alphas:\n",
    "    model.set_params(alpha=a)\n",
    "    model.fit(X,y)\n",
    "    coefs.append(model.coef_)\n",
    "\n",
    "plt.plot(alphas,coefs)\n",
    "plt.xlabel('alphas')\n",
    "plt.ylabel('coefs')\n",
    "plt.show()"
   ]
  },
  {
   "cell_type": "code",
   "execution_count": 130,
   "metadata": {},
   "outputs": [
    {
     "data": {
      "text/plain": [
       "0.15585865003950258"
      ]
     },
     "execution_count": 130,
     "metadata": {},
     "output_type": "execute_result"
    }
   ],
   "source": [
    "n_alphas=3000\n",
    "alphas=np.logspace(-1,1,n_alphas)\n",
    "\n",
    "en_cv=ElasticNetCV(alphas=alphas,cv=3)\n",
    "en_cv.fit(X,y)\n",
    "en_cv.alpha_"
   ]
  },
  {
   "cell_type": "code",
   "execution_count": 131,
   "metadata": {},
   "outputs": [
    {
     "data": {
      "text/html": [
       "<div>\n",
       "<style scoped>\n",
       "    .dataframe tbody tr th:only-of-type {\n",
       "        vertical-align: middle;\n",
       "    }\n",
       "\n",
       "    .dataframe tbody tr th {\n",
       "        vertical-align: top;\n",
       "    }\n",
       "\n",
       "    .dataframe thead th {\n",
       "        text-align: right;\n",
       "    }\n",
       "</style>\n",
       "<table border=\"1\" class=\"dataframe\">\n",
       "  <thead>\n",
       "    <tr style=\"text-align: right;\">\n",
       "      <th></th>\n",
       "      <th>coefs</th>\n",
       "    </tr>\n",
       "  </thead>\n",
       "  <tbody>\n",
       "    <tr>\n",
       "      <th>cyl</th>\n",
       "      <td>0.000000</td>\n",
       "    </tr>\n",
       "    <tr>\n",
       "      <th>disp</th>\n",
       "      <td>0.000452</td>\n",
       "    </tr>\n",
       "    <tr>\n",
       "      <th>hp</th>\n",
       "      <td>0.964051</td>\n",
       "    </tr>\n",
       "    <tr>\n",
       "      <th>wt</th>\n",
       "      <td>-0.000298</td>\n",
       "    </tr>\n",
       "    <tr>\n",
       "      <th>acc</th>\n",
       "      <td>0.000642</td>\n",
       "    </tr>\n",
       "    <tr>\n",
       "      <th>yr</th>\n",
       "      <td>0.010680</td>\n",
       "    </tr>\n",
       "    <tr>\n",
       "      <th>origin</th>\n",
       "      <td>0.000000</td>\n",
       "    </tr>\n",
       "  </tbody>\n",
       "</table>\n",
       "</div>"
      ],
      "text/plain": [
       "           coefs\n",
       "cyl     0.000000\n",
       "disp    0.000452\n",
       "hp      0.964051\n",
       "wt     -0.000298\n",
       "acc     0.000642\n",
       "yr      0.010680\n",
       "origin  0.000000"
      ]
     },
     "execution_count": 131,
     "metadata": {},
     "output_type": "execute_result"
    }
   ],
   "source": [
    "enet=ElasticNet(alpha=0.15585865003950258)\n",
    "enet.fit(X,y)\n",
    "pd.DataFrame(enet.coef_,X.columns,columns=['coefs'])"
   ]
  },
  {
   "cell_type": "code",
   "execution_count": null,
   "metadata": {},
   "outputs": [],
   "source": []
  }
 ],
 "metadata": {
  "kernelspec": {
   "display_name": "Python 3",
   "language": "python",
   "name": "python3"
  },
  "language_info": {
   "codemirror_mode": {
    "name": "ipython",
    "version": 3
   },
   "file_extension": ".py",
   "mimetype": "text/x-python",
   "name": "python",
   "nbconvert_exporter": "python",
   "pygments_lexer": "ipython3",
   "version": "3.7.3"
  }
 },
 "nbformat": 4,
 "nbformat_minor": 2
}
