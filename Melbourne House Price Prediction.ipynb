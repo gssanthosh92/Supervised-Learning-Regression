{
 "cells": [
  {
   "cell_type": "code",
   "execution_count": 377,
   "metadata": {},
   "outputs": [],
   "source": [
    "import pandas as pd\n",
    "import numpy as np\n",
    "import matplotlib.pyplot as plt\n",
    "import seaborn as sns\n",
    "\n",
    "from sklearn.model_selection import train_test_split"
   ]
  },
  {
   "cell_type": "code",
   "execution_count": 378,
   "metadata": {},
   "outputs": [
    {
     "data": {
      "text/html": [
       "<div>\n",
       "<style scoped>\n",
       "    .dataframe tbody tr th:only-of-type {\n",
       "        vertical-align: middle;\n",
       "    }\n",
       "\n",
       "    .dataframe tbody tr th {\n",
       "        vertical-align: top;\n",
       "    }\n",
       "\n",
       "    .dataframe thead th {\n",
       "        text-align: right;\n",
       "    }\n",
       "</style>\n",
       "<table border=\"1\" class=\"dataframe\">\n",
       "  <thead>\n",
       "    <tr style=\"text-align: right;\">\n",
       "      <th></th>\n",
       "      <th>Suburb</th>\n",
       "      <th>Address</th>\n",
       "      <th>Rooms</th>\n",
       "      <th>Type</th>\n",
       "      <th>Price</th>\n",
       "      <th>Method</th>\n",
       "      <th>SellerG</th>\n",
       "      <th>Date</th>\n",
       "      <th>Distance</th>\n",
       "      <th>Postcode</th>\n",
       "      <th>...</th>\n",
       "      <th>Bathroom</th>\n",
       "      <th>Car</th>\n",
       "      <th>Landsize</th>\n",
       "      <th>BuildingArea</th>\n",
       "      <th>YearBuilt</th>\n",
       "      <th>CouncilArea</th>\n",
       "      <th>Lattitude</th>\n",
       "      <th>Longtitude</th>\n",
       "      <th>Regionname</th>\n",
       "      <th>Propertycount</th>\n",
       "    </tr>\n",
       "  </thead>\n",
       "  <tbody>\n",
       "    <tr>\n",
       "      <th>0</th>\n",
       "      <td>Abbotsford</td>\n",
       "      <td>68 Studley St</td>\n",
       "      <td>2</td>\n",
       "      <td>h</td>\n",
       "      <td>NaN</td>\n",
       "      <td>SS</td>\n",
       "      <td>Jellis</td>\n",
       "      <td>3/09/2016</td>\n",
       "      <td>2.5</td>\n",
       "      <td>3067.0</td>\n",
       "      <td>...</td>\n",
       "      <td>1.0</td>\n",
       "      <td>1.0</td>\n",
       "      <td>126.0</td>\n",
       "      <td>NaN</td>\n",
       "      <td>NaN</td>\n",
       "      <td>Yarra City Council</td>\n",
       "      <td>-37.8014</td>\n",
       "      <td>144.9958</td>\n",
       "      <td>Northern Metropolitan</td>\n",
       "      <td>4019.0</td>\n",
       "    </tr>\n",
       "    <tr>\n",
       "      <th>1</th>\n",
       "      <td>Abbotsford</td>\n",
       "      <td>85 Turner St</td>\n",
       "      <td>2</td>\n",
       "      <td>h</td>\n",
       "      <td>1480000.0</td>\n",
       "      <td>S</td>\n",
       "      <td>Biggin</td>\n",
       "      <td>3/12/2016</td>\n",
       "      <td>2.5</td>\n",
       "      <td>3067.0</td>\n",
       "      <td>...</td>\n",
       "      <td>1.0</td>\n",
       "      <td>1.0</td>\n",
       "      <td>202.0</td>\n",
       "      <td>NaN</td>\n",
       "      <td>NaN</td>\n",
       "      <td>Yarra City Council</td>\n",
       "      <td>-37.7996</td>\n",
       "      <td>144.9984</td>\n",
       "      <td>Northern Metropolitan</td>\n",
       "      <td>4019.0</td>\n",
       "    </tr>\n",
       "    <tr>\n",
       "      <th>2</th>\n",
       "      <td>Abbotsford</td>\n",
       "      <td>25 Bloomburg St</td>\n",
       "      <td>2</td>\n",
       "      <td>h</td>\n",
       "      <td>1035000.0</td>\n",
       "      <td>S</td>\n",
       "      <td>Biggin</td>\n",
       "      <td>4/02/2016</td>\n",
       "      <td>2.5</td>\n",
       "      <td>3067.0</td>\n",
       "      <td>...</td>\n",
       "      <td>1.0</td>\n",
       "      <td>0.0</td>\n",
       "      <td>156.0</td>\n",
       "      <td>79.0</td>\n",
       "      <td>1900.0</td>\n",
       "      <td>Yarra City Council</td>\n",
       "      <td>-37.8079</td>\n",
       "      <td>144.9934</td>\n",
       "      <td>Northern Metropolitan</td>\n",
       "      <td>4019.0</td>\n",
       "    </tr>\n",
       "    <tr>\n",
       "      <th>3</th>\n",
       "      <td>Abbotsford</td>\n",
       "      <td>18/659 Victoria St</td>\n",
       "      <td>3</td>\n",
       "      <td>u</td>\n",
       "      <td>NaN</td>\n",
       "      <td>VB</td>\n",
       "      <td>Rounds</td>\n",
       "      <td>4/02/2016</td>\n",
       "      <td>2.5</td>\n",
       "      <td>3067.0</td>\n",
       "      <td>...</td>\n",
       "      <td>2.0</td>\n",
       "      <td>1.0</td>\n",
       "      <td>0.0</td>\n",
       "      <td>NaN</td>\n",
       "      <td>NaN</td>\n",
       "      <td>Yarra City Council</td>\n",
       "      <td>-37.8114</td>\n",
       "      <td>145.0116</td>\n",
       "      <td>Northern Metropolitan</td>\n",
       "      <td>4019.0</td>\n",
       "    </tr>\n",
       "    <tr>\n",
       "      <th>4</th>\n",
       "      <td>Abbotsford</td>\n",
       "      <td>5 Charles St</td>\n",
       "      <td>3</td>\n",
       "      <td>h</td>\n",
       "      <td>1465000.0</td>\n",
       "      <td>SP</td>\n",
       "      <td>Biggin</td>\n",
       "      <td>4/03/2017</td>\n",
       "      <td>2.5</td>\n",
       "      <td>3067.0</td>\n",
       "      <td>...</td>\n",
       "      <td>2.0</td>\n",
       "      <td>0.0</td>\n",
       "      <td>134.0</td>\n",
       "      <td>150.0</td>\n",
       "      <td>1900.0</td>\n",
       "      <td>Yarra City Council</td>\n",
       "      <td>-37.8093</td>\n",
       "      <td>144.9944</td>\n",
       "      <td>Northern Metropolitan</td>\n",
       "      <td>4019.0</td>\n",
       "    </tr>\n",
       "  </tbody>\n",
       "</table>\n",
       "<p>5 rows × 21 columns</p>\n",
       "</div>"
      ],
      "text/plain": [
       "       Suburb             Address  Rooms Type      Price Method SellerG  \\\n",
       "0  Abbotsford       68 Studley St      2    h        NaN     SS  Jellis   \n",
       "1  Abbotsford        85 Turner St      2    h  1480000.0      S  Biggin   \n",
       "2  Abbotsford     25 Bloomburg St      2    h  1035000.0      S  Biggin   \n",
       "3  Abbotsford  18/659 Victoria St      3    u        NaN     VB  Rounds   \n",
       "4  Abbotsford        5 Charles St      3    h  1465000.0     SP  Biggin   \n",
       "\n",
       "        Date  Distance  Postcode      ...       Bathroom  Car  Landsize  \\\n",
       "0  3/09/2016       2.5    3067.0      ...            1.0  1.0     126.0   \n",
       "1  3/12/2016       2.5    3067.0      ...            1.0  1.0     202.0   \n",
       "2  4/02/2016       2.5    3067.0      ...            1.0  0.0     156.0   \n",
       "3  4/02/2016       2.5    3067.0      ...            2.0  1.0       0.0   \n",
       "4  4/03/2017       2.5    3067.0      ...            2.0  0.0     134.0   \n",
       "\n",
       "   BuildingArea  YearBuilt         CouncilArea Lattitude  Longtitude  \\\n",
       "0           NaN        NaN  Yarra City Council  -37.8014    144.9958   \n",
       "1           NaN        NaN  Yarra City Council  -37.7996    144.9984   \n",
       "2          79.0     1900.0  Yarra City Council  -37.8079    144.9934   \n",
       "3           NaN        NaN  Yarra City Council  -37.8114    145.0116   \n",
       "4         150.0     1900.0  Yarra City Council  -37.8093    144.9944   \n",
       "\n",
       "              Regionname Propertycount  \n",
       "0  Northern Metropolitan        4019.0  \n",
       "1  Northern Metropolitan        4019.0  \n",
       "2  Northern Metropolitan        4019.0  \n",
       "3  Northern Metropolitan        4019.0  \n",
       "4  Northern Metropolitan        4019.0  \n",
       "\n",
       "[5 rows x 21 columns]"
      ]
     },
     "execution_count": 378,
     "metadata": {},
     "output_type": "execute_result"
    }
   ],
   "source": [
    "df = pd.read_csv('Melbourne_housing_FULL.csv')\n",
    "df.head()"
   ]
  },
  {
   "cell_type": "code",
   "execution_count": 379,
   "metadata": {},
   "outputs": [
    {
     "name": "stdout",
     "output_type": "stream",
     "text": [
      "<class 'pandas.core.frame.DataFrame'>\n",
      "RangeIndex: 34857 entries, 0 to 34856\n",
      "Data columns (total 21 columns):\n",
      "Suburb           34857 non-null object\n",
      "Address          34857 non-null object\n",
      "Rooms            34857 non-null int64\n",
      "Type             34857 non-null object\n",
      "Price            27247 non-null float64\n",
      "Method           34857 non-null object\n",
      "SellerG          34857 non-null object\n",
      "Date             34857 non-null object\n",
      "Distance         34856 non-null float64\n",
      "Postcode         34856 non-null float64\n",
      "Bedroom2         26640 non-null float64\n",
      "Bathroom         26631 non-null float64\n",
      "Car              26129 non-null float64\n",
      "Landsize         23047 non-null float64\n",
      "BuildingArea     13742 non-null float64\n",
      "YearBuilt        15551 non-null float64\n",
      "CouncilArea      34854 non-null object\n",
      "Lattitude        26881 non-null float64\n",
      "Longtitude       26881 non-null float64\n",
      "Regionname       34854 non-null object\n",
      "Propertycount    34854 non-null float64\n",
      "dtypes: float64(12), int64(1), object(8)\n",
      "memory usage: 5.6+ MB\n"
     ]
    }
   ],
   "source": [
    "df.info()"
   ]
  },
  {
   "cell_type": "code",
   "execution_count": 380,
   "metadata": {},
   "outputs": [
    {
     "data": {
      "text/html": [
       "<div>\n",
       "<style scoped>\n",
       "    .dataframe tbody tr th:only-of-type {\n",
       "        vertical-align: middle;\n",
       "    }\n",
       "\n",
       "    .dataframe tbody tr th {\n",
       "        vertical-align: top;\n",
       "    }\n",
       "\n",
       "    .dataframe thead th {\n",
       "        text-align: right;\n",
       "    }\n",
       "</style>\n",
       "<table border=\"1\" class=\"dataframe\">\n",
       "  <thead>\n",
       "    <tr style=\"text-align: right;\">\n",
       "      <th></th>\n",
       "      <th>Suburb</th>\n",
       "      <th>Address</th>\n",
       "      <th>Rooms</th>\n",
       "      <th>Type</th>\n",
       "      <th>Price</th>\n",
       "      <th>Method</th>\n",
       "      <th>SellerG</th>\n",
       "      <th>Date</th>\n",
       "      <th>Distance</th>\n",
       "      <th>Postcode</th>\n",
       "      <th>...</th>\n",
       "      <th>Bathroom</th>\n",
       "      <th>Car</th>\n",
       "      <th>Landsize</th>\n",
       "      <th>BuildingArea</th>\n",
       "      <th>YearBuilt</th>\n",
       "      <th>CouncilArea</th>\n",
       "      <th>Lattitude</th>\n",
       "      <th>Longtitude</th>\n",
       "      <th>Regionname</th>\n",
       "      <th>Propertycount</th>\n",
       "    </tr>\n",
       "  </thead>\n",
       "  <tbody>\n",
       "    <tr>\n",
       "      <th>2240</th>\n",
       "      <td>Brunswick</td>\n",
       "      <td>8/705 Park St</td>\n",
       "      <td>2</td>\n",
       "      <td>u</td>\n",
       "      <td>601000.0</td>\n",
       "      <td>S</td>\n",
       "      <td>Brad</td>\n",
       "      <td>18/03/2017</td>\n",
       "      <td>5.2</td>\n",
       "      <td>3056.0</td>\n",
       "      <td>...</td>\n",
       "      <td>1.0</td>\n",
       "      <td>1.0</td>\n",
       "      <td>0.0</td>\n",
       "      <td>57.0</td>\n",
       "      <td>1970.0</td>\n",
       "      <td>Moreland City Council</td>\n",
       "      <td>-37.77780</td>\n",
       "      <td>144.95940</td>\n",
       "      <td>Northern Metropolitan</td>\n",
       "      <td>11918.0</td>\n",
       "    </tr>\n",
       "    <tr>\n",
       "      <th>8751</th>\n",
       "      <td>Richmond</td>\n",
       "      <td>22 Buckingham St</td>\n",
       "      <td>2</td>\n",
       "      <td>h</td>\n",
       "      <td>720000.0</td>\n",
       "      <td>S</td>\n",
       "      <td>Biggin</td>\n",
       "      <td>6/08/2016</td>\n",
       "      <td>2.6</td>\n",
       "      <td>3121.0</td>\n",
       "      <td>...</td>\n",
       "      <td>NaN</td>\n",
       "      <td>NaN</td>\n",
       "      <td>NaN</td>\n",
       "      <td>NaN</td>\n",
       "      <td>NaN</td>\n",
       "      <td>Yarra City Council</td>\n",
       "      <td>-37.81410</td>\n",
       "      <td>145.00110</td>\n",
       "      <td>Northern Metropolitan</td>\n",
       "      <td>14949.0</td>\n",
       "    </tr>\n",
       "    <tr>\n",
       "      <th>24585</th>\n",
       "      <td>Mount Waverley</td>\n",
       "      <td>378 Waverley Rd</td>\n",
       "      <td>3</td>\n",
       "      <td>h</td>\n",
       "      <td>1375000.0</td>\n",
       "      <td>SA</td>\n",
       "      <td>Noel</td>\n",
       "      <td>14/10/2017</td>\n",
       "      <td>14.2</td>\n",
       "      <td>3149.0</td>\n",
       "      <td>...</td>\n",
       "      <td>1.0</td>\n",
       "      <td>1.0</td>\n",
       "      <td>843.0</td>\n",
       "      <td>140.0</td>\n",
       "      <td>1950.0</td>\n",
       "      <td>Monash City Council</td>\n",
       "      <td>-37.88494</td>\n",
       "      <td>145.12807</td>\n",
       "      <td>Eastern Metropolitan</td>\n",
       "      <td>13366.0</td>\n",
       "    </tr>\n",
       "    <tr>\n",
       "      <th>13102</th>\n",
       "      <td>Kew</td>\n",
       "      <td>25/912 Glenferrie Rd</td>\n",
       "      <td>1</td>\n",
       "      <td>u</td>\n",
       "      <td>468000.0</td>\n",
       "      <td>S</td>\n",
       "      <td>hockingstuart</td>\n",
       "      <td>13/05/2017</td>\n",
       "      <td>5.6</td>\n",
       "      <td>3101.0</td>\n",
       "      <td>...</td>\n",
       "      <td>1.0</td>\n",
       "      <td>1.0</td>\n",
       "      <td>0.0</td>\n",
       "      <td>NaN</td>\n",
       "      <td>NaN</td>\n",
       "      <td>Boroondara City Council</td>\n",
       "      <td>-37.80830</td>\n",
       "      <td>145.03820</td>\n",
       "      <td>Southern Metropolitan</td>\n",
       "      <td>10331.0</td>\n",
       "    </tr>\n",
       "    <tr>\n",
       "      <th>33474</th>\n",
       "      <td>Kew East</td>\n",
       "      <td>2/8 Hamilton St</td>\n",
       "      <td>2</td>\n",
       "      <td>u</td>\n",
       "      <td>960000.0</td>\n",
       "      <td>S</td>\n",
       "      <td>Nelson</td>\n",
       "      <td>17/03/2018</td>\n",
       "      <td>7.3</td>\n",
       "      <td>3102.0</td>\n",
       "      <td>...</td>\n",
       "      <td>NaN</td>\n",
       "      <td>NaN</td>\n",
       "      <td>NaN</td>\n",
       "      <td>NaN</td>\n",
       "      <td>NaN</td>\n",
       "      <td>Boroondara City Council</td>\n",
       "      <td>NaN</td>\n",
       "      <td>NaN</td>\n",
       "      <td>Southern Metropolitan</td>\n",
       "      <td>2671.0</td>\n",
       "    </tr>\n",
       "  </tbody>\n",
       "</table>\n",
       "<p>5 rows × 21 columns</p>\n",
       "</div>"
      ],
      "text/plain": [
       "               Suburb               Address  Rooms Type      Price Method  \\\n",
       "2240        Brunswick         8/705 Park St      2    u   601000.0      S   \n",
       "8751         Richmond      22 Buckingham St      2    h   720000.0      S   \n",
       "24585  Mount Waverley       378 Waverley Rd      3    h  1375000.0     SA   \n",
       "13102             Kew  25/912 Glenferrie Rd      1    u   468000.0      S   \n",
       "33474        Kew East       2/8 Hamilton St      2    u   960000.0      S   \n",
       "\n",
       "             SellerG        Date  Distance  Postcode      ...       Bathroom  \\\n",
       "2240            Brad  18/03/2017       5.2    3056.0      ...            1.0   \n",
       "8751          Biggin   6/08/2016       2.6    3121.0      ...            NaN   \n",
       "24585           Noel  14/10/2017      14.2    3149.0      ...            1.0   \n",
       "13102  hockingstuart  13/05/2017       5.6    3101.0      ...            1.0   \n",
       "33474         Nelson  17/03/2018       7.3    3102.0      ...            NaN   \n",
       "\n",
       "       Car  Landsize  BuildingArea  YearBuilt              CouncilArea  \\\n",
       "2240   1.0       0.0          57.0     1970.0    Moreland City Council   \n",
       "8751   NaN       NaN           NaN        NaN       Yarra City Council   \n",
       "24585  1.0     843.0         140.0     1950.0      Monash City Council   \n",
       "13102  1.0       0.0           NaN        NaN  Boroondara City Council   \n",
       "33474  NaN       NaN           NaN        NaN  Boroondara City Council   \n",
       "\n",
       "      Lattitude  Longtitude             Regionname Propertycount  \n",
       "2240  -37.77780   144.95940  Northern Metropolitan       11918.0  \n",
       "8751  -37.81410   145.00110  Northern Metropolitan       14949.0  \n",
       "24585 -37.88494   145.12807   Eastern Metropolitan       13366.0  \n",
       "13102 -37.80830   145.03820  Southern Metropolitan       10331.0  \n",
       "33474       NaN         NaN  Southern Metropolitan        2671.0  \n",
       "\n",
       "[5 rows x 21 columns]"
      ]
     },
     "execution_count": 380,
     "metadata": {},
     "output_type": "execute_result"
    }
   ],
   "source": [
    "df = df.sample(frac=1)\n",
    "df.head()"
   ]
  },
  {
   "cell_type": "code",
   "execution_count": 381,
   "metadata": {},
   "outputs": [
    {
     "data": {
      "text/html": [
       "<div>\n",
       "<style scoped>\n",
       "    .dataframe tbody tr th:only-of-type {\n",
       "        vertical-align: middle;\n",
       "    }\n",
       "\n",
       "    .dataframe tbody tr th {\n",
       "        vertical-align: top;\n",
       "    }\n",
       "\n",
       "    .dataframe thead th {\n",
       "        text-align: right;\n",
       "    }\n",
       "</style>\n",
       "<table border=\"1\" class=\"dataframe\">\n",
       "  <thead>\n",
       "    <tr style=\"text-align: right;\">\n",
       "      <th></th>\n",
       "      <th>Rooms</th>\n",
       "      <th>Price</th>\n",
       "      <th>Distance</th>\n",
       "      <th>Postcode</th>\n",
       "      <th>Bedroom2</th>\n",
       "      <th>Bathroom</th>\n",
       "      <th>Car</th>\n",
       "      <th>Landsize</th>\n",
       "      <th>BuildingArea</th>\n",
       "      <th>YearBuilt</th>\n",
       "      <th>Lattitude</th>\n",
       "      <th>Longtitude</th>\n",
       "      <th>Propertycount</th>\n",
       "    </tr>\n",
       "  </thead>\n",
       "  <tbody>\n",
       "    <tr>\n",
       "      <th>count</th>\n",
       "      <td>34857.000000</td>\n",
       "      <td>2.724700e+04</td>\n",
       "      <td>34856.000000</td>\n",
       "      <td>34856.000000</td>\n",
       "      <td>26640.000000</td>\n",
       "      <td>26631.000000</td>\n",
       "      <td>26129.000000</td>\n",
       "      <td>23047.000000</td>\n",
       "      <td>13742.00000</td>\n",
       "      <td>15551.000000</td>\n",
       "      <td>26881.000000</td>\n",
       "      <td>26881.000000</td>\n",
       "      <td>34854.000000</td>\n",
       "    </tr>\n",
       "    <tr>\n",
       "      <th>mean</th>\n",
       "      <td>3.031012</td>\n",
       "      <td>1.050173e+06</td>\n",
       "      <td>11.184929</td>\n",
       "      <td>3116.062859</td>\n",
       "      <td>3.084647</td>\n",
       "      <td>1.624798</td>\n",
       "      <td>1.728845</td>\n",
       "      <td>593.598993</td>\n",
       "      <td>160.25640</td>\n",
       "      <td>1965.289885</td>\n",
       "      <td>-37.810634</td>\n",
       "      <td>145.001851</td>\n",
       "      <td>7572.888306</td>\n",
       "    </tr>\n",
       "    <tr>\n",
       "      <th>std</th>\n",
       "      <td>0.969933</td>\n",
       "      <td>6.414671e+05</td>\n",
       "      <td>6.788892</td>\n",
       "      <td>109.023903</td>\n",
       "      <td>0.980690</td>\n",
       "      <td>0.724212</td>\n",
       "      <td>1.010771</td>\n",
       "      <td>3398.841946</td>\n",
       "      <td>401.26706</td>\n",
       "      <td>37.328178</td>\n",
       "      <td>0.090279</td>\n",
       "      <td>0.120169</td>\n",
       "      <td>4428.090313</td>\n",
       "    </tr>\n",
       "    <tr>\n",
       "      <th>min</th>\n",
       "      <td>1.000000</td>\n",
       "      <td>8.500000e+04</td>\n",
       "      <td>0.000000</td>\n",
       "      <td>3000.000000</td>\n",
       "      <td>0.000000</td>\n",
       "      <td>0.000000</td>\n",
       "      <td>0.000000</td>\n",
       "      <td>0.000000</td>\n",
       "      <td>0.00000</td>\n",
       "      <td>1196.000000</td>\n",
       "      <td>-38.190430</td>\n",
       "      <td>144.423790</td>\n",
       "      <td>83.000000</td>\n",
       "    </tr>\n",
       "    <tr>\n",
       "      <th>25%</th>\n",
       "      <td>2.000000</td>\n",
       "      <td>6.350000e+05</td>\n",
       "      <td>6.400000</td>\n",
       "      <td>3051.000000</td>\n",
       "      <td>2.000000</td>\n",
       "      <td>1.000000</td>\n",
       "      <td>1.000000</td>\n",
       "      <td>224.000000</td>\n",
       "      <td>102.00000</td>\n",
       "      <td>1940.000000</td>\n",
       "      <td>-37.862950</td>\n",
       "      <td>144.933500</td>\n",
       "      <td>4385.000000</td>\n",
       "    </tr>\n",
       "    <tr>\n",
       "      <th>50%</th>\n",
       "      <td>3.000000</td>\n",
       "      <td>8.700000e+05</td>\n",
       "      <td>10.300000</td>\n",
       "      <td>3103.000000</td>\n",
       "      <td>3.000000</td>\n",
       "      <td>2.000000</td>\n",
       "      <td>2.000000</td>\n",
       "      <td>521.000000</td>\n",
       "      <td>136.00000</td>\n",
       "      <td>1970.000000</td>\n",
       "      <td>-37.807600</td>\n",
       "      <td>145.007800</td>\n",
       "      <td>6763.000000</td>\n",
       "    </tr>\n",
       "    <tr>\n",
       "      <th>75%</th>\n",
       "      <td>4.000000</td>\n",
       "      <td>1.295000e+06</td>\n",
       "      <td>14.000000</td>\n",
       "      <td>3156.000000</td>\n",
       "      <td>4.000000</td>\n",
       "      <td>2.000000</td>\n",
       "      <td>2.000000</td>\n",
       "      <td>670.000000</td>\n",
       "      <td>188.00000</td>\n",
       "      <td>2000.000000</td>\n",
       "      <td>-37.754100</td>\n",
       "      <td>145.071900</td>\n",
       "      <td>10412.000000</td>\n",
       "    </tr>\n",
       "    <tr>\n",
       "      <th>max</th>\n",
       "      <td>16.000000</td>\n",
       "      <td>1.120000e+07</td>\n",
       "      <td>48.100000</td>\n",
       "      <td>3978.000000</td>\n",
       "      <td>30.000000</td>\n",
       "      <td>12.000000</td>\n",
       "      <td>26.000000</td>\n",
       "      <td>433014.000000</td>\n",
       "      <td>44515.00000</td>\n",
       "      <td>2106.000000</td>\n",
       "      <td>-37.390200</td>\n",
       "      <td>145.526350</td>\n",
       "      <td>21650.000000</td>\n",
       "    </tr>\n",
       "  </tbody>\n",
       "</table>\n",
       "</div>"
      ],
      "text/plain": [
       "              Rooms         Price      Distance      Postcode      Bedroom2  \\\n",
       "count  34857.000000  2.724700e+04  34856.000000  34856.000000  26640.000000   \n",
       "mean       3.031012  1.050173e+06     11.184929   3116.062859      3.084647   \n",
       "std        0.969933  6.414671e+05      6.788892    109.023903      0.980690   \n",
       "min        1.000000  8.500000e+04      0.000000   3000.000000      0.000000   \n",
       "25%        2.000000  6.350000e+05      6.400000   3051.000000      2.000000   \n",
       "50%        3.000000  8.700000e+05     10.300000   3103.000000      3.000000   \n",
       "75%        4.000000  1.295000e+06     14.000000   3156.000000      4.000000   \n",
       "max       16.000000  1.120000e+07     48.100000   3978.000000     30.000000   \n",
       "\n",
       "           Bathroom           Car       Landsize  BuildingArea     YearBuilt  \\\n",
       "count  26631.000000  26129.000000   23047.000000   13742.00000  15551.000000   \n",
       "mean       1.624798      1.728845     593.598993     160.25640   1965.289885   \n",
       "std        0.724212      1.010771    3398.841946     401.26706     37.328178   \n",
       "min        0.000000      0.000000       0.000000       0.00000   1196.000000   \n",
       "25%        1.000000      1.000000     224.000000     102.00000   1940.000000   \n",
       "50%        2.000000      2.000000     521.000000     136.00000   1970.000000   \n",
       "75%        2.000000      2.000000     670.000000     188.00000   2000.000000   \n",
       "max       12.000000     26.000000  433014.000000   44515.00000   2106.000000   \n",
       "\n",
       "          Lattitude    Longtitude  Propertycount  \n",
       "count  26881.000000  26881.000000   34854.000000  \n",
       "mean     -37.810634    145.001851    7572.888306  \n",
       "std        0.090279      0.120169    4428.090313  \n",
       "min      -38.190430    144.423790      83.000000  \n",
       "25%      -37.862950    144.933500    4385.000000  \n",
       "50%      -37.807600    145.007800    6763.000000  \n",
       "75%      -37.754100    145.071900   10412.000000  \n",
       "max      -37.390200    145.526350   21650.000000  "
      ]
     },
     "execution_count": 381,
     "metadata": {},
     "output_type": "execute_result"
    }
   ],
   "source": [
    "df.describe()"
   ]
  },
  {
   "cell_type": "code",
   "execution_count": 382,
   "metadata": {},
   "outputs": [
    {
     "data": {
      "text/plain": [
       "count    2.724700e+04\n",
       "mean     1.050173e+06\n",
       "std      6.414671e+05\n",
       "min      8.500000e+04\n",
       "25%      6.350000e+05\n",
       "50%      8.700000e+05\n",
       "75%      1.295000e+06\n",
       "max      1.120000e+07\n",
       "Name: Price, dtype: float64"
      ]
     },
     "execution_count": 382,
     "metadata": {},
     "output_type": "execute_result"
    }
   ],
   "source": [
    "df['Price'].describe()"
   ]
  },
  {
   "cell_type": "code",
   "execution_count": 383,
   "metadata": {},
   "outputs": [],
   "source": [
    "df = df[df['Price']>0]"
   ]
  },
  {
   "cell_type": "code",
   "execution_count": 384,
   "metadata": {},
   "outputs": [
    {
     "name": "stderr",
     "output_type": "stream",
     "text": [
      "C:\\Users\\Classroom\\Anaconda3\\lib\\site-packages\\matplotlib\\axes\\_axes.py:6462: UserWarning: The 'normed' kwarg is deprecated, and has been replaced by the 'density' kwarg.\n",
      "  warnings.warn(\"The 'normed' kwarg is deprecated, and has been \"\n"
     ]
    },
    {
     "data": {
      "text/plain": [
       "<matplotlib.axes._subplots.AxesSubplot at 0x2921f0032e8>"
      ]
     },
     "execution_count": 384,
     "metadata": {},
     "output_type": "execute_result"
    },
    {
     "data": {
      "image/png": "[encoded data removed]",
      "text/plain": [
       "<Figure size 432x288 with 1 Axes>"
      ]
     },
     "metadata": {},
     "output_type": "display_data"
    }
   ],
   "source": [
    "sns.distplot(df['Price'])"
   ]
  },
  {
   "cell_type": "code",
   "execution_count": 385,
   "metadata": {},
   "outputs": [
    {
     "data": {
      "text/plain": [
       "2.58896934105286"
      ]
     },
     "execution_count": 385,
     "metadata": {},
     "output_type": "execute_result"
    }
   ],
   "source": [
    "df['Price'].skew()"
   ]
  },
  {
   "cell_type": "code",
   "execution_count": 386,
   "metadata": {},
   "outputs": [
    {
     "data": {
      "text/plain": [
       "Distance         0.000037\n",
       "Postcode         0.000037\n",
       "Bedroom2         0.236393\n",
       "Bathroom         0.236613\n",
       "Car              0.250450\n",
       "Landsize         0.340037\n",
       "BuildingArea     0.608911\n",
       "YearBuilt        0.556502\n",
       "CouncilArea      0.000110\n",
       "Lattitude        0.229530\n",
       "Longtitude       0.229530\n",
       "Regionname       0.000110\n",
       "Propertycount    0.000110\n",
       "dtype: float64"
      ]
     },
     "execution_count": 386,
     "metadata": {},
     "output_type": "execute_result"
    }
   ],
   "source": [
    "ms=df.isnull().sum()\n",
    "ms[ms>0]/len(df)"
   ]
  },
  {
   "cell_type": "code",
   "execution_count": 387,
   "metadata": {},
   "outputs": [],
   "source": [
    "df = df.drop(['YearBuilt', 'BuildingArea', 'Postcode'], axis=1)\n",
    "\n",
    "## these columns are dropped as more than 50% missing"
   ]
  },
  {
   "cell_type": "code",
   "execution_count": 388,
   "metadata": {},
   "outputs": [
    {
     "data": {
      "image/png": "[encoded data removed]",
      "text/plain": [
       "<Figure size 432x288 with 1 Axes>"
      ]
     },
     "metadata": {},
     "output_type": "display_data"
    }
   ],
   "source": [
    "sns.boxplot(df['Price'])\n",
    "plt.show()"
   ]
  },
  {
   "cell_type": "code",
   "execution_count": 389,
   "metadata": {},
   "outputs": [],
   "source": [
    "q1=df['Price'].quantile(0.25)\n",
    "q3=df['Price'].quantile(0.75)\n",
    "iqr = q3-q1\n",
    "\n",
    "df = df[df['Price']<(q3+1.5*iqr)]"
   ]
  },
  {
   "cell_type": "code",
   "execution_count": 390,
   "metadata": {},
   "outputs": [
    {
     "name": "stderr",
     "output_type": "stream",
     "text": [
      "C:\\Users\\Classroom\\Anaconda3\\lib\\site-packages\\matplotlib\\axes\\_axes.py:6462: UserWarning: The 'normed' kwarg is deprecated, and has been replaced by the 'density' kwarg.\n",
      "  warnings.warn(\"The 'normed' kwarg is deprecated, and has been \"\n"
     ]
    },
    {
     "data": {
      "text/plain": [
       "<matplotlib.axes._subplots.AxesSubplot at 0x29221b08f60>"
      ]
     },
     "execution_count": 390,
     "metadata": {},
     "output_type": "execute_result"
    },
    {
     "data": {
      "image/png": "[encoded data removed]",
      "text/plain": [
       "<Figure size 432x288 with 1 Axes>"
      ]
     },
     "metadata": {},
     "output_type": "display_data"
    }
   ],
   "source": [
    "sns.distplot(df['Price'])"
   ]
  },
  {
   "cell_type": "code",
   "execution_count": 391,
   "metadata": {
    "scrolled": true
   },
   "outputs": [
    {
     "name": "stderr",
     "output_type": "stream",
     "text": [
      "C:\\Users\\Classroom\\Anaconda3\\lib\\site-packages\\matplotlib\\axes\\_axes.py:6462: UserWarning: The 'normed' kwarg is deprecated, and has been replaced by the 'density' kwarg.\n",
      "  warnings.warn(\"The 'normed' kwarg is deprecated, and has been \"\n"
     ]
    },
    {
     "data": {
      "text/plain": [
       "<matplotlib.axes._subplots.AxesSubplot at 0x29221b9cf98>"
      ]
     },
     "execution_count": 391,
     "metadata": {},
     "output_type": "execute_result"
    },
    {
     "data": {
      "image/png": "[encoded data removed]",
      "text/plain": [
       "<Figure size 432x288 with 1 Axes>"
      ]
     },
     "metadata": {},
     "output_type": "display_data"
    }
   ],
   "source": [
    "sns.distplot(df['Landsize'].dropna())"
   ]
  },
  {
   "cell_type": "code",
   "execution_count": 392,
   "metadata": {},
   "outputs": [
    {
     "data": {
      "text/plain": [
       "count     17026.000000\n",
       "mean        559.919182\n",
       "std        1977.411412\n",
       "min           0.000000\n",
       "25%         209.000000\n",
       "50%         492.000000\n",
       "75%         654.000000\n",
       "max      146699.000000\n",
       "Name: Landsize, dtype: float64"
      ]
     },
     "execution_count": 392,
     "metadata": {},
     "output_type": "execute_result"
    }
   ],
   "source": [
    "df['Landsize'].describe()"
   ]
  },
  {
   "cell_type": "code",
   "execution_count": 393,
   "metadata": {},
   "outputs": [],
   "source": [
    "q1=df['Landsize'].quantile(0.25)\n",
    "q3=df['Landsize'].quantile(0.75)\n",
    "iqr = q3-q1\n",
    "\n",
    "df = df[~(df['Landsize']>(q3+1.5*iqr))]"
   ]
  },
  {
   "cell_type": "code",
   "execution_count": 394,
   "metadata": {},
   "outputs": [
    {
     "name": "stderr",
     "output_type": "stream",
     "text": [
      "C:\\Users\\Classroom\\Anaconda3\\lib\\site-packages\\matplotlib\\axes\\_axes.py:6462: UserWarning: The 'normed' kwarg is deprecated, and has been replaced by the 'density' kwarg.\n",
      "  warnings.warn(\"The 'normed' kwarg is deprecated, and has been \"\n"
     ]
    },
    {
     "data": {
      "text/plain": [
       "<matplotlib.axes._subplots.AxesSubplot at 0x29221e7f898>"
      ]
     },
     "execution_count": 394,
     "metadata": {},
     "output_type": "execute_result"
    },
    {
     "data": {
      "image/png": "[encoded data removed]",
      "text/plain": [
       "<Figure size 432x288 with 1 Axes>"
      ]
     },
     "metadata": {},
     "output_type": "display_data"
    }
   ],
   "source": [
    "sns.distplot(df['Landsize'].dropna())"
   ]
  },
  {
   "cell_type": "code",
   "execution_count": 395,
   "metadata": {},
   "outputs": [
    {
     "data": {
      "text/plain": [
       "count    16621.000000\n",
       "mean       438.288851\n",
       "std        275.453882\n",
       "min          0.000000\n",
       "25%        205.000000\n",
       "50%        475.000000\n",
       "75%        649.000000\n",
       "max       1321.000000\n",
       "Name: Landsize, dtype: float64"
      ]
     },
     "execution_count": 395,
     "metadata": {},
     "output_type": "execute_result"
    }
   ],
   "source": [
    "df['Landsize'].describe()"
   ]
  },
  {
   "cell_type": "code",
   "execution_count": 396,
   "metadata": {},
   "outputs": [],
   "source": [
    "#df['Landsize']= df['Landsize'].fillna(df['Landsize'].median())\n",
    "\n",
    "#Filling with median made big change to the distribution of the variable. Hence,\n",
    "#we will adopt a distribution based imputation (ffill/bfill))"
   ]
  },
  {
   "cell_type": "code",
   "execution_count": 397,
   "metadata": {},
   "outputs": [],
   "source": [
    "df['Landsize']= df['Landsize'].fillna(method='ffill')"
   ]
  },
  {
   "cell_type": "code",
   "execution_count": 398,
   "metadata": {},
   "outputs": [
    {
     "name": "stderr",
     "output_type": "stream",
     "text": [
      "C:\\Users\\Classroom\\Anaconda3\\lib\\site-packages\\matplotlib\\axes\\_axes.py:6462: UserWarning: The 'normed' kwarg is deprecated, and has been replaced by the 'density' kwarg.\n",
      "  warnings.warn(\"The 'normed' kwarg is deprecated, and has been \"\n"
     ]
    },
    {
     "data": {
      "text/plain": [
       "<matplotlib.axes._subplots.AxesSubplot at 0x29221afbb70>"
      ]
     },
     "execution_count": 398,
     "metadata": {},
     "output_type": "execute_result"
    },
    {
     "data": {
      "image/png": "[encoded data removed]",
      "text/plain": [
       "<Figure size 432x288 with 1 Axes>"
      ]
     },
     "metadata": {},
     "output_type": "display_data"
    }
   ],
   "source": [
    "sns.distplot(df['Landsize'])"
   ]
  },
  {
   "cell_type": "code",
   "execution_count": 399,
   "metadata": {
    "scrolled": true
   },
   "outputs": [
    {
     "data": {
      "text/plain": [
       "count    25558.000000\n",
       "mean       439.127631\n",
       "std        275.618347\n",
       "min          0.000000\n",
       "25%        206.000000\n",
       "50%        475.000000\n",
       "75%        650.000000\n",
       "max       1321.000000\n",
       "Name: Landsize, dtype: float64"
      ]
     },
     "execution_count": 399,
     "metadata": {},
     "output_type": "execute_result"
    }
   ],
   "source": [
    "df['Landsize'].describe()"
   ]
  },
  {
   "cell_type": "code",
   "execution_count": 400,
   "metadata": {},
   "outputs": [],
   "source": [
    "num_cols = list(df.select_dtypes(exclude=['object']).columns)"
   ]
  },
  {
   "cell_type": "code",
   "execution_count": 401,
   "metadata": {},
   "outputs": [
    {
     "data": {
      "text/plain": [
       "['Rooms',\n",
       " 'Price',\n",
       " 'Distance',\n",
       " 'Bedroom2',\n",
       " 'Bathroom',\n",
       " 'Car',\n",
       " 'Landsize',\n",
       " 'Lattitude',\n",
       " 'Longtitude',\n",
       " 'Propertycount']"
      ]
     },
     "execution_count": 401,
     "metadata": {},
     "output_type": "execute_result"
    }
   ],
   "source": [
    "num_cols"
   ]
  },
  {
   "cell_type": "code",
   "execution_count": 402,
   "metadata": {},
   "outputs": [],
   "source": [
    "df[num_cols]=df[num_cols].fillna(method='ffill')"
   ]
  },
  {
   "cell_type": "code",
   "execution_count": 403,
   "metadata": {},
   "outputs": [
    {
     "data": {
      "text/plain": [
       "'Reservoir'"
      ]
     },
     "execution_count": 403,
     "metadata": {},
     "output_type": "execute_result"
    }
   ],
   "source": [
    "df['Suburb'].mode()[0]"
   ]
  },
  {
   "cell_type": "code",
   "execution_count": 404,
   "metadata": {},
   "outputs": [],
   "source": [
    "cat_cols = list(df.select_dtypes(include=['object']).columns)\n",
    "df[cat_cols]=df[cat_cols].fillna(df[cat_cols].mode())\n",
    "#df[cat_cols]=df[cat_cols].fillna('NA')"
   ]
  },
  {
   "cell_type": "code",
   "execution_count": 405,
   "metadata": {},
   "outputs": [
    {
     "data": {
      "text/plain": [
       "h    17103\n",
       "u     5639\n",
       "t     2816\n",
       "Name: Type, dtype: int64"
      ]
     },
     "execution_count": 405,
     "metadata": {},
     "output_type": "execute_result"
    }
   ],
   "source": [
    "df['Type'].value_counts()"
   ]
  },
  {
   "cell_type": "code",
   "execution_count": 406,
   "metadata": {},
   "outputs": [
    {
     "data": {
      "text/plain": [
       "<matplotlib.axes._subplots.AxesSubplot at 0x29216d28be0>"
      ]
     },
     "execution_count": 406,
     "metadata": {},
     "output_type": "execute_result"
    },
    {
     "data": {
      "image/png": "[encoded data removed]",
      "text/plain": [
       "<Figure size 432x288 with 1 Axes>"
      ]
     },
     "metadata": {},
     "output_type": "display_data"
    }
   ],
   "source": [
    "df.groupby('Type')['Price'].agg(['mean']).plot.bar()"
   ]
  },
  {
   "cell_type": "code",
   "execution_count": 407,
   "metadata": {},
   "outputs": [
    {
     "data": {
      "image/png": "[encoded data removed]",
      "text/plain": [
       "<Figure size 432x288 with 1 Axes>"
      ]
     },
     "metadata": {},
     "output_type": "display_data"
    }
   ],
   "source": [
    "sns.boxplot(x='Type', y='Price', data=df)\n",
    "plt.show()"
   ]
  },
  {
   "cell_type": "code",
   "execution_count": 408,
   "metadata": {},
   "outputs": [],
   "source": [
    "q1 = df['Price'].quantile(0.25)\n",
    "q2 = df['Price'].quantile(0.5)\n",
    "q3 = df['Price'].quantile(0.75)\n",
    "\n",
    "def price_cat(pr):\n",
    "    if pr<q1:\n",
    "        return 1\n",
    "    elif q1<= pr <q2:\n",
    "        return 2\n",
    "    elif q2<= pr <q3:\n",
    "        return 3\n",
    "    else:\n",
    "        return 4\n",
    "    \n",
    "df['price_cat'] = df['Price'].apply(price_cat)"
   ]
  },
  {
   "cell_type": "code",
   "execution_count": 409,
   "metadata": {},
   "outputs": [
    {
     "data": {
      "text/html": [
       "<div>\n",
       "<style scoped>\n",
       "    .dataframe tbody tr th:only-of-type {\n",
       "        vertical-align: middle;\n",
       "    }\n",
       "\n",
       "    .dataframe tbody tr th {\n",
       "        vertical-align: top;\n",
       "    }\n",
       "\n",
       "    .dataframe thead th {\n",
       "        text-align: right;\n",
       "    }\n",
       "</style>\n",
       "<table border=\"1\" class=\"dataframe\">\n",
       "  <thead>\n",
       "    <tr style=\"text-align: right;\">\n",
       "      <th></th>\n",
       "      <th>min</th>\n",
       "      <th>max</th>\n",
       "    </tr>\n",
       "    <tr>\n",
       "      <th>price_cat</th>\n",
       "      <th></th>\n",
       "      <th></th>\n",
       "    </tr>\n",
       "  </thead>\n",
       "  <tbody>\n",
       "    <tr>\n",
       "      <th>1</th>\n",
       "      <td>85000.0</td>\n",
       "      <td>628200.0</td>\n",
       "    </tr>\n",
       "    <tr>\n",
       "      <th>2</th>\n",
       "      <td>629000.0</td>\n",
       "      <td>849500.0</td>\n",
       "    </tr>\n",
       "    <tr>\n",
       "      <th>3</th>\n",
       "      <td>850000.0</td>\n",
       "      <td>1218500.0</td>\n",
       "    </tr>\n",
       "    <tr>\n",
       "      <th>4</th>\n",
       "      <td>1220000.0</td>\n",
       "      <td>2280000.0</td>\n",
       "    </tr>\n",
       "  </tbody>\n",
       "</table>\n",
       "</div>"
      ],
      "text/plain": [
       "                 min        max\n",
       "price_cat                      \n",
       "1            85000.0   628200.0\n",
       "2           629000.0   849500.0\n",
       "3           850000.0  1218500.0\n",
       "4          1220000.0  2280000.0"
      ]
     },
     "execution_count": 409,
     "metadata": {},
     "output_type": "execute_result"
    }
   ],
   "source": [
    "df.groupby('price_cat')['Price'].agg(['min', 'max'])"
   ]
  },
  {
   "cell_type": "code",
   "execution_count": 410,
   "metadata": {},
   "outputs": [
    {
     "data": {
      "text/html": [
       "<div>\n",
       "<style scoped>\n",
       "    .dataframe tbody tr th:only-of-type {\n",
       "        vertical-align: middle;\n",
       "    }\n",
       "\n",
       "    .dataframe tbody tr th {\n",
       "        vertical-align: top;\n",
       "    }\n",
       "\n",
       "    .dataframe thead th {\n",
       "        text-align: right;\n",
       "    }\n",
       "</style>\n",
       "<table border=\"1\" class=\"dataframe\">\n",
       "  <thead>\n",
       "    <tr style=\"text-align: right;\">\n",
       "      <th>Type</th>\n",
       "      <th>h</th>\n",
       "      <th>t</th>\n",
       "      <th>u</th>\n",
       "    </tr>\n",
       "    <tr>\n",
       "      <th>price_cat</th>\n",
       "      <th></th>\n",
       "      <th></th>\n",
       "      <th></th>\n",
       "    </tr>\n",
       "  </thead>\n",
       "  <tbody>\n",
       "    <tr>\n",
       "      <th>1</th>\n",
       "      <td>0.386097</td>\n",
       "      <td>0.089713</td>\n",
       "      <td>0.524190</td>\n",
       "    </tr>\n",
       "    <tr>\n",
       "      <th>2</th>\n",
       "      <td>0.624289</td>\n",
       "      <td>0.131554</td>\n",
       "      <td>0.244157</td>\n",
       "    </tr>\n",
       "    <tr>\n",
       "      <th>3</th>\n",
       "      <td>0.776858</td>\n",
       "      <td>0.138507</td>\n",
       "      <td>0.084635</td>\n",
       "    </tr>\n",
       "    <tr>\n",
       "      <th>4</th>\n",
       "      <td>0.887179</td>\n",
       "      <td>0.081274</td>\n",
       "      <td>0.031546</td>\n",
       "    </tr>\n",
       "  </tbody>\n",
       "</table>\n",
       "</div>"
      ],
      "text/plain": [
       "Type              h         t         u\n",
       "price_cat                              \n",
       "1          0.386097  0.089713  0.524190\n",
       "2          0.624289  0.131554  0.244157\n",
       "3          0.776858  0.138507  0.084635\n",
       "4          0.887179  0.081274  0.031546"
      ]
     },
     "execution_count": 410,
     "metadata": {},
     "output_type": "execute_result"
    }
   ],
   "source": [
    "pd.crosstab(df['price_cat'], df['Type'], normalize=0)"
   ]
  },
  {
   "cell_type": "code",
   "execution_count": 411,
   "metadata": {},
   "outputs": [
    {
     "data": {
      "text/plain": [
       "<matplotlib.axes._subplots.AxesSubplot at 0x2921f0df0f0>"
      ]
     },
     "execution_count": 411,
     "metadata": {},
     "output_type": "execute_result"
    },
    {
     "data": {
      "image/png": "[encoded data removed]",
      "text/plain": [
       "<Figure size 432x288 with 1 Axes>"
      ]
     },
     "metadata": {},
     "output_type": "display_data"
    }
   ],
   "source": [
    "ct=pd.crosstab(df['price_cat'], df['Type'], normalize=0)\n",
    "ct.plot.bar(stacked=True)"
   ]
  },
  {
   "cell_type": "markdown",
   "metadata": {},
   "source": [
    "### Linear Regression Model"
   ]
  },
  {
   "cell_type": "code",
   "execution_count": 412,
   "metadata": {},
   "outputs": [],
   "source": [
    "cat_cols = list(df.select_dtypes(include=['object']).columns)\n",
    "#for col in cat_cols:\n",
    "#    print(col, df[col].nunique())"
   ]
  },
  {
   "cell_type": "code",
   "execution_count": 413,
   "metadata": {},
   "outputs": [],
   "source": [
    "df = df.drop(['Date', 'Suburb', 'SellerG', 'Address', 'price_cat'], axis=1)"
   ]
  },
  {
   "cell_type": "code",
   "execution_count": 414,
   "metadata": {},
   "outputs": [
    {
     "data": {
      "text/plain": [
       "['Type', 'Method', 'CouncilArea', 'Regionname']"
      ]
     },
     "execution_count": 414,
     "metadata": {},
     "output_type": "execute_result"
    }
   ],
   "source": [
    "cat_cols = list(df.select_dtypes(include=['object']).columns)\n",
    "cat_cols"
   ]
  },
  {
   "cell_type": "code",
   "execution_count": 415,
   "metadata": {},
   "outputs": [],
   "source": [
    "df = pd.get_dummies(df, columns=cat_cols, drop_first=True)"
   ]
  },
  {
   "cell_type": "code",
   "execution_count": 416,
   "metadata": {},
   "outputs": [
    {
     "name": "stdout",
     "output_type": "stream",
     "text": [
      "<class 'pandas.core.frame.DataFrame'>\n",
      "Int64Index: 25558 entries, 2240 to 205\n",
      "Data columns (total 55 columns):\n",
      "Rooms                                         25558 non-null int64\n",
      "Price                                         25558 non-null float64\n",
      "Distance                                      25558 non-null float64\n",
      "Bedroom2                                      25558 non-null float64\n",
      "Bathroom                                      25558 non-null float64\n",
      "Car                                           25558 non-null float64\n",
      "Landsize                                      25558 non-null float64\n",
      "Lattitude                                     25558 non-null float64\n",
      "Longtitude                                    25558 non-null float64\n",
      "Propertycount                                 25558 non-null float64\n",
      "Type_t                                        25558 non-null uint8\n",
      "Type_u                                        25558 non-null uint8\n",
      "Method_S                                      25558 non-null uint8\n",
      "Method_SA                                     25558 non-null uint8\n",
      "Method_SP                                     25558 non-null uint8\n",
      "Method_VB                                     25558 non-null uint8\n",
      "CouncilArea_Bayside City Council              25558 non-null uint8\n",
      "CouncilArea_Boroondara City Council           25558 non-null uint8\n",
      "CouncilArea_Brimbank City Council             25558 non-null uint8\n",
      "CouncilArea_Cardinia Shire Council            25558 non-null uint8\n",
      "CouncilArea_Casey City Council                25558 non-null uint8\n",
      "CouncilArea_Darebin City Council              25558 non-null uint8\n",
      "CouncilArea_Frankston City Council            25558 non-null uint8\n",
      "CouncilArea_Glen Eira City Council            25558 non-null uint8\n",
      "CouncilArea_Greater Dandenong City Council    25558 non-null uint8\n",
      "CouncilArea_Hobsons Bay City Council          25558 non-null uint8\n",
      "CouncilArea_Hume City Council                 25558 non-null uint8\n",
      "CouncilArea_Kingston City Council             25558 non-null uint8\n",
      "CouncilArea_Knox City Council                 25558 non-null uint8\n",
      "CouncilArea_Macedon Ranges Shire Council      25558 non-null uint8\n",
      "CouncilArea_Manningham City Council           25558 non-null uint8\n",
      "CouncilArea_Maribyrnong City Council          25558 non-null uint8\n",
      "CouncilArea_Maroondah City Council            25558 non-null uint8\n",
      "CouncilArea_Melbourne City Council            25558 non-null uint8\n",
      "CouncilArea_Melton City Council               25558 non-null uint8\n",
      "CouncilArea_Mitchell Shire Council            25558 non-null uint8\n",
      "CouncilArea_Monash City Council               25558 non-null uint8\n",
      "CouncilArea_Moonee Valley City Council        25558 non-null uint8\n",
      "CouncilArea_Moorabool Shire Council           25558 non-null uint8\n",
      "CouncilArea_Moreland City Council             25558 non-null uint8\n",
      "CouncilArea_Nillumbik Shire Council           25558 non-null uint8\n",
      "CouncilArea_Port Phillip City Council         25558 non-null uint8\n",
      "CouncilArea_Stonnington City Council          25558 non-null uint8\n",
      "CouncilArea_Whitehorse City Council           25558 non-null uint8\n",
      "CouncilArea_Whittlesea City Council           25558 non-null uint8\n",
      "CouncilArea_Wyndham City Council              25558 non-null uint8\n",
      "CouncilArea_Yarra City Council                25558 non-null uint8\n",
      "CouncilArea_Yarra Ranges Shire Council        25558 non-null uint8\n",
      "Regionname_Eastern Victoria                   25558 non-null uint8\n",
      "Regionname_Northern Metropolitan              25558 non-null uint8\n",
      "Regionname_Northern Victoria                  25558 non-null uint8\n",
      "Regionname_South-Eastern Metropolitan         25558 non-null uint8\n",
      "Regionname_Southern Metropolitan              25558 non-null uint8\n",
      "Regionname_Western Metropolitan               25558 non-null uint8\n",
      "Regionname_Western Victoria                   25558 non-null uint8\n",
      "dtypes: float64(9), int64(1), uint8(45)\n",
      "memory usage: 4.5 MB\n"
     ]
    }
   ],
   "source": [
    "df.info()"
   ]
  },
  {
   "cell_type": "code",
   "execution_count": 417,
   "metadata": {},
   "outputs": [],
   "source": [
    "from sklearn.model_selection import train_test_split\n",
    "\n",
    "y = df['Price']\n",
    "X = df.drop('Price', axis=1)"
   ]
  },
  {
   "cell_type": "code",
   "execution_count": 418,
   "metadata": {},
   "outputs": [],
   "source": [
    "import statsmodels.api as sm\n",
    "Xc = sm.add_constant(X)\n",
    "\n",
    "X_train, X_test, y_train, y_test = train_test_split(Xc, y, \n",
    "                                        test_size=0.30, random_state=42)"
   ]
  },
  {
   "cell_type": "code",
   "execution_count": 419,
   "metadata": {},
   "outputs": [
    {
     "name": "stdout",
     "output_type": "stream",
     "text": [
      "                            OLS Regression Results                            \n",
      "==============================================================================\n",
      "Dep. Variable:                  Price   R-squared:                       0.672\n",
      "Model:                            OLS   Adj. R-squared:                  0.671\n",
      "Method:                 Least Squares   F-statistic:                     675.5\n",
      "Date:                Thu, 24 Oct 2019   Prob (F-statistic):               0.00\n",
      "Time:                        15:26:23   Log-Likelihood:            -2.4760e+05\n",
      "No. Observations:               17890   AIC:                         4.953e+05\n",
      "Df Residuals:                   17835   BIC:                         4.957e+05\n",
      "Df Model:                          54                                         \n",
      "Covariance Type:            nonrobust                                         \n",
      "==============================================================================================================\n",
      "                                                 coef    std err          t      P>|t|      [0.025      0.975]\n",
      "--------------------------------------------------------------------------------------------------------------\n",
      "const                                       2.176e+06   3.42e+06      0.636      0.525   -4.53e+06    8.88e+06\n",
      "Rooms                                         1.8e+05   3331.098     54.039      0.000    1.73e+05    1.87e+05\n",
      "Distance                                   -2.923e+04    743.163    -39.334      0.000   -3.07e+04   -2.78e+04\n",
      "Bedroom2                                   -3.111e+04   3323.560     -9.360      0.000   -3.76e+04   -2.46e+04\n",
      "Bathroom                                    6.361e+04   3600.146     17.670      0.000    5.66e+04    7.07e+04\n",
      "Car                                         9888.7648   2139.462      4.622      0.000    5695.212    1.41e+04\n",
      "Landsize                                     103.5836      8.081     12.819      0.000      87.745     119.422\n",
      "Lattitude                                   -1.86e+05   3.23e+04     -5.751      0.000   -2.49e+05   -1.23e+05\n",
      "Longtitude                                 -5.848e+04    2.5e+04     -2.342      0.019   -1.07e+05   -9534.743\n",
      "Propertycount                                 -0.8334      0.511     -1.630      0.103      -1.836       0.169\n",
      "Type_t                                     -2.051e+05   6350.790    -32.289      0.000   -2.18e+05   -1.93e+05\n",
      "Type_u                                     -4.313e+05   5814.752    -74.175      0.000   -4.43e+05    -4.2e+05\n",
      "Method_S                                    5.876e+04   5954.924      9.868      0.000    4.71e+04    7.04e+04\n",
      "Method_SA                                   1.899e+04   2.27e+04      0.836      0.403   -2.55e+04    6.35e+04\n",
      "Method_SP                                   3.291e+04   7556.375      4.356      0.000    1.81e+04    4.77e+04\n",
      "Method_VB                                   2961.9527   8227.555      0.360      0.719   -1.32e+04    1.91e+04\n",
      "CouncilArea_Bayside City Council            5.385e+05   1.81e+04     29.810      0.000    5.03e+05    5.74e+05\n",
      "CouncilArea_Boroondara City Council         4.438e+05   1.61e+04     27.551      0.000    4.12e+05    4.75e+05\n",
      "CouncilArea_Brimbank City Council          -2.428e+05   2.56e+04     -9.497      0.000   -2.93e+05   -1.93e+05\n",
      "CouncilArea_Cardinia Shire Council          4.711e+05   8.97e+04      5.251      0.000    2.95e+05    6.47e+05\n",
      "CouncilArea_Casey City Council              1.925e+05   3.78e+04      5.090      0.000    1.18e+05    2.67e+05\n",
      "CouncilArea_Darebin City Council            1.085e+05   1.49e+04      7.260      0.000    7.92e+04    1.38e+05\n",
      "CouncilArea_Frankston City Council          4.164e+05   3.49e+04     11.922      0.000    3.48e+05    4.85e+05\n",
      "CouncilArea_Glen Eira City Council          3.216e+05    1.7e+04     18.935      0.000    2.88e+05    3.55e+05\n",
      "CouncilArea_Greater Dandenong City Council  1.643e+05   3.05e+04      5.378      0.000    1.04e+05    2.24e+05\n",
      "CouncilArea_Hobsons Bay City Council       -2.274e+04   2.75e+04     -0.827      0.408   -7.66e+04    3.12e+04\n",
      "CouncilArea_Hume City Council              -9.672e+04   1.64e+04     -5.889      0.000   -1.29e+05   -6.45e+04\n",
      "CouncilArea_Kingston City Council           3.258e+05   2.36e+04     13.813      0.000     2.8e+05    3.72e+05\n",
      "CouncilArea_Knox City Council               5.184e+04   2.16e+04      2.404      0.016    9572.216    9.41e+04\n",
      "CouncilArea_Macedon Ranges Shire Council    4.521e+05   7.47e+04      6.054      0.000    3.06e+05    5.98e+05\n",
      "CouncilArea_Manningham City Council         1.809e+05   1.41e+04     12.866      0.000    1.53e+05    2.09e+05\n",
      "CouncilArea_Maribyrnong City Council       -1.335e+05    2.7e+04     -4.942      0.000   -1.87e+05   -8.06e+04\n",
      "CouncilArea_Maroondah City Council          1.322e+05   1.98e+04      6.664      0.000    9.33e+04    1.71e+05\n",
      "CouncilArea_Melbourne City Council          2.153e+05   1.61e+04     13.361      0.000    1.84e+05    2.47e+05\n",
      "CouncilArea_Melton City Council            -2.429e+05   3.55e+04     -6.845      0.000   -3.12e+05   -1.73e+05\n",
      "CouncilArea_Mitchell Shire Council          2.287e+05   1.02e+05      2.247      0.025    2.92e+04    4.28e+05\n",
      "CouncilArea_Monash City Council              2.68e+05   1.54e+04     17.456      0.000    2.38e+05    2.98e+05\n",
      "CouncilArea_Moonee Valley City Council      5.459e+04   2.62e+04      2.080      0.038    3147.947    1.06e+05\n",
      "CouncilArea_Moorabool Shire Council         5.816e+04   1.51e+05      0.385      0.700   -2.38e+05    3.54e+05\n",
      "CouncilArea_Moreland City Council           6.726e+04   1.47e+04      4.563      0.000    3.84e+04    9.61e+04\n",
      "CouncilArea_Nillumbik Shire Council        -1.146e+05   5.73e+04     -2.002      0.045   -2.27e+05   -2418.649\n",
      "CouncilArea_Port Phillip City Council       2.752e+05   1.88e+04     14.602      0.000    2.38e+05    3.12e+05\n",
      "CouncilArea_Stonnington City Council        3.869e+05   1.91e+04     20.244      0.000    3.49e+05    4.24e+05\n",
      "CouncilArea_Whitehorse City Council         1.966e+05   1.76e+04     11.148      0.000    1.62e+05    2.31e+05\n",
      "CouncilArea_Whittlesea City Council         8353.3862   1.73e+04      0.483      0.629   -2.55e+04    4.22e+04\n",
      "CouncilArea_Wyndham City Council           -3.341e+05   2.89e+04    -11.579      0.000   -3.91e+05   -2.78e+05\n",
      "CouncilArea_Yarra City Council              2.363e+05   1.79e+04     13.177      0.000    2.01e+05    2.71e+05\n",
      "CouncilArea_Yarra Ranges Shire Council      1.385e+05   5.81e+04      2.384      0.017    2.46e+04    2.52e+05\n",
      "Regionname_Eastern Victoria                 -3.36e+04    4.5e+04     -0.747      0.455   -1.22e+05    5.46e+04\n",
      "Regionname_Northern Metropolitan           -1.787e+05   1.36e+04    -13.092      0.000   -2.05e+05   -1.52e+05\n",
      "Regionname_Northern Victoria                8.163e+04   5.23e+04      1.561      0.118   -2.09e+04    1.84e+05\n",
      "Regionname_South-Eastern Metropolitan       -8.98e+04   2.11e+04     -4.248      0.000   -1.31e+05   -4.84e+04\n",
      "Regionname_Southern Metropolitan           -9.181e+04   1.41e+04     -6.510      0.000   -1.19e+05   -6.42e+04\n",
      "Regionname_Western Metropolitan            -5.578e+04   2.52e+04     -2.215      0.027   -1.05e+05   -6428.210\n",
      "Regionname_Western Victoria                 1.111e+05   5.02e+04      2.215      0.027    1.28e+04    2.09e+05\n",
      "==============================================================================\n",
      "Omnibus:                     1517.381   Durbin-Watson:                   1.993\n",
      "Prob(Omnibus):                  0.000   Jarque-Bera (JB):             2412.553\n",
      "Skew:                           0.646   Prob(JB):                         0.00\n",
      "Kurtosis:                       4.253   Cond. No.                     1.63e+07\n",
      "==============================================================================\n",
      "\n",
      "Warnings:\n",
      "[1] Standard Errors assume that the covariance matrix of the errors is correctly specified.\n",
      "[2] The condition number is large, 1.63e+07. This might indicate that there are\n",
      "strong multicollinearity or other numerical problems.\n"
     ]
    }
   ],
   "source": [
    "lin_reg=sm.OLS(y_train, X_train)\n",
    "result = lin_reg.fit()\n",
    "print(result.summary())"
   ]
  },
  {
   "cell_type": "code",
   "execution_count": 420,
   "metadata": {},
   "outputs": [
    {
     "name": "stderr",
     "output_type": "stream",
     "text": [
      "C:\\Users\\Classroom\\Anaconda3\\lib\\site-packages\\matplotlib\\axes\\_axes.py:6462: UserWarning: The 'normed' kwarg is deprecated, and has been replaced by the 'density' kwarg.\n",
      "  warnings.warn(\"The 'normed' kwarg is deprecated, and has been \"\n"
     ]
    },
    {
     "data": {
      "image/png": "[encoded data removed]",
      "text/plain": [
       "<Figure size 432x288 with 1 Axes>"
      ]
     },
     "metadata": {},
     "output_type": "display_data"
    }
   ],
   "source": [
    "sns.distplot(result.resid)\n",
    "plt.show()"
   ]
  },
  {
   "cell_type": "code",
   "execution_count": 421,
   "metadata": {},
   "outputs": [
    {
     "data": {
      "text/html": [
       "<div>\n",
       "<style scoped>\n",
       "    .dataframe tbody tr th:only-of-type {\n",
       "        vertical-align: middle;\n",
       "    }\n",
       "\n",
       "    .dataframe tbody tr th {\n",
       "        vertical-align: top;\n",
       "    }\n",
       "\n",
       "    .dataframe thead th {\n",
       "        text-align: right;\n",
       "    }\n",
       "</style>\n",
       "<table border=\"1\" class=\"dataframe\">\n",
       "  <thead>\n",
       "    <tr style=\"text-align: right;\">\n",
       "      <th></th>\n",
       "      <th>vif</th>\n",
       "    </tr>\n",
       "  </thead>\n",
       "  <tbody>\n",
       "    <tr>\n",
       "      <th>const</th>\n",
       "      <td>3.393034e+06</td>\n",
       "    </tr>\n",
       "    <tr>\n",
       "      <th>Rooms</th>\n",
       "      <td>2.718242e+00</td>\n",
       "    </tr>\n",
       "    <tr>\n",
       "      <th>Distance</th>\n",
       "      <td>7.362027e+00</td>\n",
       "    </tr>\n",
       "    <tr>\n",
       "      <th>Bedroom2</th>\n",
       "      <td>2.750636e+00</td>\n",
       "    </tr>\n",
       "    <tr>\n",
       "      <th>Bathroom</th>\n",
       "      <td>1.579285e+00</td>\n",
       "    </tr>\n",
       "    <tr>\n",
       "      <th>Car</th>\n",
       "      <td>1.259088e+00</td>\n",
       "    </tr>\n",
       "    <tr>\n",
       "      <th>Landsize</th>\n",
       "      <td>1.447022e+00</td>\n",
       "    </tr>\n",
       "    <tr>\n",
       "      <th>Lattitude</th>\n",
       "      <td>2.608761e+00</td>\n",
       "    </tr>\n",
       "    <tr>\n",
       "      <th>Longtitude</th>\n",
       "      <td>2.719172e+00</td>\n",
       "    </tr>\n",
       "    <tr>\n",
       "      <th>Propertycount</th>\n",
       "      <td>1.561007e+00</td>\n",
       "    </tr>\n",
       "    <tr>\n",
       "      <th>Type_t</th>\n",
       "      <td>1.151742e+00</td>\n",
       "    </tr>\n",
       "    <tr>\n",
       "      <th>Type_u</th>\n",
       "      <td>1.689978e+00</td>\n",
       "    </tr>\n",
       "    <tr>\n",
       "      <th>Method_S</th>\n",
       "      <td>2.337880e+00</td>\n",
       "    </tr>\n",
       "    <tr>\n",
       "      <th>Method_SA</th>\n",
       "      <td>1.062583e+00</td>\n",
       "    </tr>\n",
       "    <tr>\n",
       "      <th>Method_SP</th>\n",
       "      <td>1.913875e+00</td>\n",
       "    </tr>\n",
       "    <tr>\n",
       "      <th>Method_VB</th>\n",
       "      <td>1.635495e+00</td>\n",
       "    </tr>\n",
       "    <tr>\n",
       "      <th>CouncilArea_Bayside City Council</th>\n",
       "      <td>3.897775e+00</td>\n",
       "    </tr>\n",
       "    <tr>\n",
       "      <th>CouncilArea_Boroondara City Council</th>\n",
       "      <td>5.411152e+00</td>\n",
       "    </tr>\n",
       "    <tr>\n",
       "      <th>CouncilArea_Brimbank City Council</th>\n",
       "      <td>9.556720e+00</td>\n",
       "    </tr>\n",
       "    <tr>\n",
       "      <th>CouncilArea_Cardinia Shire Council</th>\n",
       "      <td>1.434650e+00</td>\n",
       "    </tr>\n",
       "    <tr>\n",
       "      <th>CouncilArea_Casey City Council</th>\n",
       "      <td>2.191352e+00</td>\n",
       "    </tr>\n",
       "    <tr>\n",
       "      <th>CouncilArea_Darebin City Council</th>\n",
       "      <td>5.288790e+00</td>\n",
       "    </tr>\n",
       "    <tr>\n",
       "      <th>CouncilArea_Frankston City Council</th>\n",
       "      <td>3.077143e+00</td>\n",
       "    </tr>\n",
       "    <tr>\n",
       "      <th>CouncilArea_Glen Eira City Council</th>\n",
       "      <td>4.947658e+00</td>\n",
       "    </tr>\n",
       "    <tr>\n",
       "      <th>CouncilArea_Greater Dandenong City Council</th>\n",
       "      <td>2.293164e+00</td>\n",
       "    </tr>\n",
       "    <tr>\n",
       "      <th>CouncilArea_Hobsons Bay City Council</th>\n",
       "      <td>6.260655e+00</td>\n",
       "    </tr>\n",
       "    <tr>\n",
       "      <th>CouncilArea_Hume City Council</th>\n",
       "      <td>2.949294e+00</td>\n",
       "    </tr>\n",
       "    <tr>\n",
       "      <th>CouncilArea_Kingston City Council</th>\n",
       "      <td>4.375336e+00</td>\n",
       "    </tr>\n",
       "    <tr>\n",
       "      <th>CouncilArea_Knox City Council</th>\n",
       "      <td>1.439385e+00</td>\n",
       "    </tr>\n",
       "    <tr>\n",
       "      <th>CouncilArea_Macedon Ranges Shire Council</th>\n",
       "      <td>1.895743e+00</td>\n",
       "    </tr>\n",
       "    <tr>\n",
       "      <th>CouncilArea_Manningham City Council</th>\n",
       "      <td>1.769251e+00</td>\n",
       "    </tr>\n",
       "    <tr>\n",
       "      <th>CouncilArea_Maribyrnong City Council</th>\n",
       "      <td>9.528515e+00</td>\n",
       "    </tr>\n",
       "    <tr>\n",
       "      <th>CouncilArea_Maroondah City Council</th>\n",
       "      <td>1.566554e+00</td>\n",
       "    </tr>\n",
       "    <tr>\n",
       "      <th>CouncilArea_Melbourne City Council</th>\n",
       "      <td>3.784079e+00</td>\n",
       "    </tr>\n",
       "    <tr>\n",
       "      <th>CouncilArea_Melton City Council</th>\n",
       "      <td>3.355881e+00</td>\n",
       "    </tr>\n",
       "    <tr>\n",
       "      <th>CouncilArea_Mitchell Shire Council</th>\n",
       "      <td>1.342693e+00</td>\n",
       "    </tr>\n",
       "    <tr>\n",
       "      <th>CouncilArea_Monash City Council</th>\n",
       "      <td>2.524135e+00</td>\n",
       "    </tr>\n",
       "    <tr>\n",
       "      <th>CouncilArea_Moonee Valley City Council</th>\n",
       "      <td>1.147880e+01</td>\n",
       "    </tr>\n",
       "    <tr>\n",
       "      <th>CouncilArea_Moorabool Shire Council</th>\n",
       "      <td>1.111150e+00</td>\n",
       "    </tr>\n",
       "    <tr>\n",
       "      <th>CouncilArea_Moreland City Council</th>\n",
       "      <td>4.015129e+00</td>\n",
       "    </tr>\n",
       "    <tr>\n",
       "      <th>CouncilArea_Nillumbik Shire Council</th>\n",
       "      <td>2.754956e+00</td>\n",
       "    </tr>\n",
       "    <tr>\n",
       "      <th>CouncilArea_Port Phillip City Council</th>\n",
       "      <td>3.349245e+00</td>\n",
       "    </tr>\n",
       "    <tr>\n",
       "      <th>CouncilArea_Stonnington City Council</th>\n",
       "      <td>2.766501e+00</td>\n",
       "    </tr>\n",
       "    <tr>\n",
       "      <th>CouncilArea_Whitehorse City Council</th>\n",
       "      <td>1.419227e+00</td>\n",
       "    </tr>\n",
       "    <tr>\n",
       "      <th>CouncilArea_Whittlesea City Council</th>\n",
       "      <td>2.347177e+00</td>\n",
       "    </tr>\n",
       "    <tr>\n",
       "      <th>CouncilArea_Wyndham City Council</th>\n",
       "      <td>4.552140e+00</td>\n",
       "    </tr>\n",
       "    <tr>\n",
       "      <th>CouncilArea_Yarra City Council</th>\n",
       "      <td>2.959786e+00</td>\n",
       "    </tr>\n",
       "    <tr>\n",
       "      <th>CouncilArea_Yarra Ranges Shire Council</th>\n",
       "      <td>2.291156e+00</td>\n",
       "    </tr>\n",
       "    <tr>\n",
       "      <th>Regionname_Eastern Victoria</th>\n",
       "      <td>3.196275e+00</td>\n",
       "    </tr>\n",
       "    <tr>\n",
       "      <th>Regionname_Northern Metropolitan</th>\n",
       "      <td>1.129810e+01</td>\n",
       "    </tr>\n",
       "    <tr>\n",
       "      <th>Regionname_Northern Victoria</th>\n",
       "      <td>4.712763e+00</td>\n",
       "    </tr>\n",
       "    <tr>\n",
       "      <th>Regionname_South-Eastern Metropolitan</th>\n",
       "      <td>6.355722e+00</td>\n",
       "    </tr>\n",
       "    <tr>\n",
       "      <th>Regionname_Southern Metropolitan</th>\n",
       "      <td>1.184011e+01</td>\n",
       "    </tr>\n",
       "    <tr>\n",
       "      <th>Regionname_Western Metropolitan</th>\n",
       "      <td>3.198360e+01</td>\n",
       "    </tr>\n",
       "    <tr>\n",
       "      <th>Regionname_Western Victoria</th>\n",
       "      <td>2.722090e+00</td>\n",
       "    </tr>\n",
       "  </tbody>\n",
       "</table>\n",
       "</div>"
      ],
      "text/plain": [
       "                                                     vif\n",
       "const                                       3.393034e+06\n",
       "Rooms                                       2.718242e+00\n",
       "Distance                                    7.362027e+00\n",
       "Bedroom2                                    2.750636e+00\n",
       "Bathroom                                    1.579285e+00\n",
       "Car                                         1.259088e+00\n",
       "Landsize                                    1.447022e+00\n",
       "Lattitude                                   2.608761e+00\n",
       "Longtitude                                  2.719172e+00\n",
       "Propertycount                               1.561007e+00\n",
       "Type_t                                      1.151742e+00\n",
       "Type_u                                      1.689978e+00\n",
       "Method_S                                    2.337880e+00\n",
       "Method_SA                                   1.062583e+00\n",
       "Method_SP                                   1.913875e+00\n",
       "Method_VB                                   1.635495e+00\n",
       "CouncilArea_Bayside City Council            3.897775e+00\n",
       "CouncilArea_Boroondara City Council         5.411152e+00\n",
       "CouncilArea_Brimbank City Council           9.556720e+00\n",
       "CouncilArea_Cardinia Shire Council          1.434650e+00\n",
       "CouncilArea_Casey City Council              2.191352e+00\n",
       "CouncilArea_Darebin City Council            5.288790e+00\n",
       "CouncilArea_Frankston City Council          3.077143e+00\n",
       "CouncilArea_Glen Eira City Council          4.947658e+00\n",
       "CouncilArea_Greater Dandenong City Council  2.293164e+00\n",
       "CouncilArea_Hobsons Bay City Council        6.260655e+00\n",
       "CouncilArea_Hume City Council               2.949294e+00\n",
       "CouncilArea_Kingston City Council           4.375336e+00\n",
       "CouncilArea_Knox City Council               1.439385e+00\n",
       "CouncilArea_Macedon Ranges Shire Council    1.895743e+00\n",
       "CouncilArea_Manningham City Council         1.769251e+00\n",
       "CouncilArea_Maribyrnong City Council        9.528515e+00\n",
       "CouncilArea_Maroondah City Council          1.566554e+00\n",
       "CouncilArea_Melbourne City Council          3.784079e+00\n",
       "CouncilArea_Melton City Council             3.355881e+00\n",
       "CouncilArea_Mitchell Shire Council          1.342693e+00\n",
       "CouncilArea_Monash City Council             2.524135e+00\n",
       "CouncilArea_Moonee Valley City Council      1.147880e+01\n",
       "CouncilArea_Moorabool Shire Council         1.111150e+00\n",
       "CouncilArea_Moreland City Council           4.015129e+00\n",
       "CouncilArea_Nillumbik Shire Council         2.754956e+00\n",
       "CouncilArea_Port Phillip City Council       3.349245e+00\n",
       "CouncilArea_Stonnington City Council        2.766501e+00\n",
       "CouncilArea_Whitehorse City Council         1.419227e+00\n",
       "CouncilArea_Whittlesea City Council         2.347177e+00\n",
       "CouncilArea_Wyndham City Council            4.552140e+00\n",
       "CouncilArea_Yarra City Council              2.959786e+00\n",
       "CouncilArea_Yarra Ranges Shire Council      2.291156e+00\n",
       "Regionname_Eastern Victoria                 3.196275e+00\n",
       "Regionname_Northern Metropolitan            1.129810e+01\n",
       "Regionname_Northern Victoria                4.712763e+00\n",
       "Regionname_South-Eastern Metropolitan       6.355722e+00\n",
       "Regionname_Southern Metropolitan            1.184011e+01\n",
       "Regionname_Western Metropolitan             3.198360e+01\n",
       "Regionname_Western Victoria                 2.722090e+00"
      ]
     },
     "execution_count": 421,
     "metadata": {},
     "output_type": "execute_result"
    }
   ],
   "source": [
    "from statsmodels.stats.outliers_influence import variance_inflation_factor\n",
    "vif = [variance_inflation_factor(X_train.values, i) for i in range(X_train.shape[1])]\n",
    "pd.DataFrame({'vif': vif}, index=X_train.columns)"
   ]
  },
  {
   "cell_type": "code",
   "execution_count": 422,
   "metadata": {},
   "outputs": [
    {
     "name": "stdout",
     "output_type": "stream",
     "text": [
      "['Rooms', 'Distance', 'Bedroom2', 'Bathroom', 'Car', 'Landsize', 'Lattitude', 'Longtitude', 'Type_t', 'Type_u', 'Method_S', 'Method_SP', 'CouncilArea_Bayside City Council', 'CouncilArea_Boroondara City Council', 'CouncilArea_Brimbank City Council', 'CouncilArea_Cardinia Shire Council', 'CouncilArea_Casey City Council', 'CouncilArea_Darebin City Council', 'CouncilArea_Frankston City Council', 'CouncilArea_Glen Eira City Council', 'CouncilArea_Greater Dandenong City Council', 'CouncilArea_Hume City Council', 'CouncilArea_Kingston City Council', 'CouncilArea_Knox City Council', 'CouncilArea_Macedon Ranges Shire Council', 'CouncilArea_Manningham City Council', 'CouncilArea_Maribyrnong City Council', 'CouncilArea_Maroondah City Council', 'CouncilArea_Melbourne City Council', 'CouncilArea_Melton City Council', 'CouncilArea_Mitchell Shire Council', 'CouncilArea_Monash City Council', 'CouncilArea_Moonee Valley City Council', 'CouncilArea_Moreland City Council', 'CouncilArea_Port Phillip City Council', 'CouncilArea_Stonnington City Council', 'CouncilArea_Whitehorse City Council', 'CouncilArea_Wyndham City Council', 'CouncilArea_Yarra City Council', 'CouncilArea_Yarra Ranges Shire Council', 'Regionname_Northern Metropolitan', 'Regionname_South-Eastern Metropolitan', 'Regionname_Southern Metropolitan', 'Regionname_Western Metropolitan', 'Regionname_Western Victoria']\n"
     ]
    }
   ],
   "source": [
    "cols = X_train.columns.tolist()\n",
    "pmax=1\n",
    "\n",
    "while (len(cols)>0):\n",
    "    X_1 = X_train[cols]\n",
    "    model = sm.OLS(y_train, X_1).fit()\n",
    "    p = pd.Series(model.pvalues.values, index=cols)\n",
    "    pmax = max(p)\n",
    "    feature_max_p = p.idxmax()\n",
    "    if (pmax>0.05):\n",
    "        cols.remove(feature_max_p)\n",
    "    else:\n",
    "        break\n",
    "            \n",
    "selected_features_BE = cols\n",
    "print(selected_features_BE)"
   ]
  },
  {
   "cell_type": "code",
   "execution_count": 423,
   "metadata": {},
   "outputs": [
    {
     "data": {
      "text/plain": [
       "45"
      ]
     },
     "execution_count": 423,
     "metadata": {},
     "output_type": "execute_result"
    }
   ],
   "source": [
    "len(selected_features_BE)"
   ]
  },
  {
   "cell_type": "code",
   "execution_count": 424,
   "metadata": {},
   "outputs": [
    {
     "name": "stdout",
     "output_type": "stream",
     "text": [
      "R2 on the test set:   0.6611135596414413\n"
     ]
    }
   ],
   "source": [
    "from sklearn.metrics import r2_score\n",
    "\n",
    "lin_reg=sm.OLS(y_train, X_train[selected_features_BE])\n",
    "result = lin_reg.fit()\n",
    "#print(result.summary())\n",
    "\n",
    "y_pred = result.predict(X_test[selected_features_BE])\n",
    "\n",
    "print('R2 on the test set:  ', r2_score(y_test, y_pred))"
   ]
  },
  {
   "cell_type": "markdown",
   "metadata": {},
   "source": [
    "### Linear Regression - ML"
   ]
  },
  {
   "cell_type": "code",
   "execution_count": 425,
   "metadata": {},
   "outputs": [],
   "source": [
    "X_train, X_test, y_train, y_test = train_test_split(X, y, \n",
    "                                        test_size=0.30, random_state=42)"
   ]
  },
  {
   "cell_type": "code",
   "execution_count": 426,
   "metadata": {},
   "outputs": [
    {
     "name": "stdout",
     "output_type": "stream",
     "text": [
      "R2 of Train:  0.6716232073195503\n",
      "RMSE of Train:  247993.33384140034\n",
      "\n",
      "\n",
      "R2 of Test:  0.6609676019630021\n",
      "RMSE of Test:  252549.94300438795\n"
     ]
    }
   ],
   "source": [
    "from sklearn.linear_model import LinearRegression\n",
    "from sklearn.metrics import r2_score, mean_squared_error\n",
    "\n",
    "lr = LinearRegression(fit_intercept=True)\n",
    "\n",
    "lr.fit(X_train, y_train)\n",
    "y_pred_train = lr.predict(X_train)\n",
    "\n",
    "print('R2 of Train: ', r2_score(y_train, y_pred_train))\n",
    "print('RMSE of Train: ', np.sqrt(mean_squared_error(y_train, y_pred_train)))\n",
    "\n",
    "y_pred_test = lr.predict(X_test)\n",
    "\n",
    "print('\\n')\n",
    "print('R2 of Test: ', r2_score(y_test, y_pred_test))\n",
    "print('RMSE of Test: ', np.sqrt(mean_squared_error(y_test, y_pred_test)))"
   ]
  },
  {
   "cell_type": "code",
   "execution_count": 427,
   "metadata": {},
   "outputs": [
    {
     "data": {
      "text/html": [
       "<div>\n",
       "<style scoped>\n",
       "    .dataframe tbody tr th:only-of-type {\n",
       "        vertical-align: middle;\n",
       "    }\n",
       "\n",
       "    .dataframe tbody tr th {\n",
       "        vertical-align: top;\n",
       "    }\n",
       "\n",
       "    .dataframe thead th {\n",
       "        text-align: right;\n",
       "    }\n",
       "</style>\n",
       "<table border=\"1\" class=\"dataframe\">\n",
       "  <thead>\n",
       "    <tr style=\"text-align: right;\">\n",
       "      <th></th>\n",
       "      <th>coefs</th>\n",
       "    </tr>\n",
       "  </thead>\n",
       "  <tbody>\n",
       "    <tr>\n",
       "      <th>Rooms</th>\n",
       "      <td>180009.940965</td>\n",
       "    </tr>\n",
       "    <tr>\n",
       "      <th>Distance</th>\n",
       "      <td>-29231.360436</td>\n",
       "    </tr>\n",
       "    <tr>\n",
       "      <th>Bedroom2</th>\n",
       "      <td>-31107.119304</td>\n",
       "    </tr>\n",
       "    <tr>\n",
       "      <th>Bathroom</th>\n",
       "      <td>63614.291937</td>\n",
       "    </tr>\n",
       "    <tr>\n",
       "      <th>Car</th>\n",
       "      <td>9888.764783</td>\n",
       "    </tr>\n",
       "    <tr>\n",
       "      <th>Landsize</th>\n",
       "      <td>103.583591</td>\n",
       "    </tr>\n",
       "    <tr>\n",
       "      <th>Lattitude</th>\n",
       "      <td>-186007.215865</td>\n",
       "    </tr>\n",
       "    <tr>\n",
       "      <th>Longtitude</th>\n",
       "      <td>-58480.068948</td>\n",
       "    </tr>\n",
       "    <tr>\n",
       "      <th>Propertycount</th>\n",
       "      <td>-0.833357</td>\n",
       "    </tr>\n",
       "    <tr>\n",
       "      <th>Type_t</th>\n",
       "      <td>-205059.223396</td>\n",
       "    </tr>\n",
       "    <tr>\n",
       "      <th>Type_u</th>\n",
       "      <td>-431311.664822</td>\n",
       "    </tr>\n",
       "    <tr>\n",
       "      <th>Method_S</th>\n",
       "      <td>58761.665943</td>\n",
       "    </tr>\n",
       "    <tr>\n",
       "      <th>Method_SA</th>\n",
       "      <td>18990.090589</td>\n",
       "    </tr>\n",
       "    <tr>\n",
       "      <th>Method_SP</th>\n",
       "      <td>32914.521574</td>\n",
       "    </tr>\n",
       "    <tr>\n",
       "      <th>Method_VB</th>\n",
       "      <td>2961.952725</td>\n",
       "    </tr>\n",
       "    <tr>\n",
       "      <th>CouncilArea_Bayside City Council</th>\n",
       "      <td>538494.743594</td>\n",
       "    </tr>\n",
       "    <tr>\n",
       "      <th>CouncilArea_Boroondara City Council</th>\n",
       "      <td>443840.922129</td>\n",
       "    </tr>\n",
       "    <tr>\n",
       "      <th>CouncilArea_Brimbank City Council</th>\n",
       "      <td>-242771.526363</td>\n",
       "    </tr>\n",
       "    <tr>\n",
       "      <th>CouncilArea_Cardinia Shire Council</th>\n",
       "      <td>471146.039794</td>\n",
       "    </tr>\n",
       "    <tr>\n",
       "      <th>CouncilArea_Casey City Council</th>\n",
       "      <td>192515.237627</td>\n",
       "    </tr>\n",
       "    <tr>\n",
       "      <th>CouncilArea_Darebin City Council</th>\n",
       "      <td>108459.471956</td>\n",
       "    </tr>\n",
       "    <tr>\n",
       "      <th>CouncilArea_Frankston City Council</th>\n",
       "      <td>416400.631432</td>\n",
       "    </tr>\n",
       "    <tr>\n",
       "      <th>CouncilArea_Glen Eira City Council</th>\n",
       "      <td>321649.513477</td>\n",
       "    </tr>\n",
       "    <tr>\n",
       "      <th>CouncilArea_Greater Dandenong City Council</th>\n",
       "      <td>164250.505161</td>\n",
       "    </tr>\n",
       "    <tr>\n",
       "      <th>CouncilArea_Hobsons Bay City Council</th>\n",
       "      <td>-22735.883698</td>\n",
       "    </tr>\n",
       "    <tr>\n",
       "      <th>CouncilArea_Hume City Council</th>\n",
       "      <td>-96717.883515</td>\n",
       "    </tr>\n",
       "    <tr>\n",
       "      <th>CouncilArea_Kingston City Council</th>\n",
       "      <td>325842.779980</td>\n",
       "    </tr>\n",
       "    <tr>\n",
       "      <th>CouncilArea_Knox City Council</th>\n",
       "      <td>51844.080553</td>\n",
       "    </tr>\n",
       "    <tr>\n",
       "      <th>CouncilArea_Macedon Ranges Shire Council</th>\n",
       "      <td>452079.690090</td>\n",
       "    </tr>\n",
       "    <tr>\n",
       "      <th>CouncilArea_Manningham City Council</th>\n",
       "      <td>180948.961079</td>\n",
       "    </tr>\n",
       "    <tr>\n",
       "      <th>CouncilArea_Maribyrnong City Council</th>\n",
       "      <td>-133546.043056</td>\n",
       "    </tr>\n",
       "    <tr>\n",
       "      <th>CouncilArea_Maroondah City Council</th>\n",
       "      <td>132209.289600</td>\n",
       "    </tr>\n",
       "    <tr>\n",
       "      <th>CouncilArea_Melbourne City Council</th>\n",
       "      <td>215336.300335</td>\n",
       "    </tr>\n",
       "    <tr>\n",
       "      <th>CouncilArea_Melton City Council</th>\n",
       "      <td>-242872.494167</td>\n",
       "    </tr>\n",
       "    <tr>\n",
       "      <th>CouncilArea_Mitchell Shire Council</th>\n",
       "      <td>228721.271282</td>\n",
       "    </tr>\n",
       "    <tr>\n",
       "      <th>CouncilArea_Monash City Council</th>\n",
       "      <td>268001.674753</td>\n",
       "    </tr>\n",
       "    <tr>\n",
       "      <th>CouncilArea_Moonee Valley City Council</th>\n",
       "      <td>54592.873503</td>\n",
       "    </tr>\n",
       "    <tr>\n",
       "      <th>CouncilArea_Moorabool Shire Council</th>\n",
       "      <td>58157.580663</td>\n",
       "    </tr>\n",
       "    <tr>\n",
       "      <th>CouncilArea_Moreland City Council</th>\n",
       "      <td>67259.465723</td>\n",
       "    </tr>\n",
       "    <tr>\n",
       "      <th>CouncilArea_Nillumbik Shire Council</th>\n",
       "      <td>-114639.603469</td>\n",
       "    </tr>\n",
       "    <tr>\n",
       "      <th>CouncilArea_Port Phillip City Council</th>\n",
       "      <td>275189.179330</td>\n",
       "    </tr>\n",
       "    <tr>\n",
       "      <th>CouncilArea_Stonnington City Council</th>\n",
       "      <td>386947.683359</td>\n",
       "    </tr>\n",
       "    <tr>\n",
       "      <th>CouncilArea_Whitehorse City Council</th>\n",
       "      <td>196637.382808</td>\n",
       "    </tr>\n",
       "    <tr>\n",
       "      <th>CouncilArea_Whittlesea City Council</th>\n",
       "      <td>8353.386155</td>\n",
       "    </tr>\n",
       "    <tr>\n",
       "      <th>CouncilArea_Wyndham City Council</th>\n",
       "      <td>-334072.055581</td>\n",
       "    </tr>\n",
       "    <tr>\n",
       "      <th>CouncilArea_Yarra City Council</th>\n",
       "      <td>236305.367270</td>\n",
       "    </tr>\n",
       "    <tr>\n",
       "      <th>CouncilArea_Yarra Ranges Shire Council</th>\n",
       "      <td>138456.617011</td>\n",
       "    </tr>\n",
       "    <tr>\n",
       "      <th>Regionname_Eastern Victoria</th>\n",
       "      <td>-33600.063457</td>\n",
       "    </tr>\n",
       "    <tr>\n",
       "      <th>Regionname_Northern Metropolitan</th>\n",
       "      <td>-178667.662759</td>\n",
       "    </tr>\n",
       "    <tr>\n",
       "      <th>Regionname_Northern Victoria</th>\n",
       "      <td>81626.012314</td>\n",
       "    </tr>\n",
       "    <tr>\n",
       "      <th>Regionname_South-Eastern Metropolitan</th>\n",
       "      <td>-89804.273740</td>\n",
       "    </tr>\n",
       "    <tr>\n",
       "      <th>Regionname_Southern Metropolitan</th>\n",
       "      <td>-91814.110037</td>\n",
       "    </tr>\n",
       "    <tr>\n",
       "      <th>Regionname_Western Metropolitan</th>\n",
       "      <td>-55780.930477</td>\n",
       "    </tr>\n",
       "    <tr>\n",
       "      <th>Regionname_Western Victoria</th>\n",
       "      <td>111118.641125</td>\n",
       "    </tr>\n",
       "  </tbody>\n",
       "</table>\n",
       "</div>"
      ],
      "text/plain": [
       "                                                    coefs\n",
       "Rooms                                       180009.940965\n",
       "Distance                                    -29231.360436\n",
       "Bedroom2                                    -31107.119304\n",
       "Bathroom                                     63614.291937\n",
       "Car                                           9888.764783\n",
       "Landsize                                       103.583591\n",
       "Lattitude                                  -186007.215865\n",
       "Longtitude                                  -58480.068948\n",
       "Propertycount                                   -0.833357\n",
       "Type_t                                     -205059.223396\n",
       "Type_u                                     -431311.664822\n",
       "Method_S                                     58761.665943\n",
       "Method_SA                                    18990.090589\n",
       "Method_SP                                    32914.521574\n",
       "Method_VB                                     2961.952725\n",
       "CouncilArea_Bayside City Council            538494.743594\n",
       "CouncilArea_Boroondara City Council         443840.922129\n",
       "CouncilArea_Brimbank City Council          -242771.526363\n",
       "CouncilArea_Cardinia Shire Council          471146.039794\n",
       "CouncilArea_Casey City Council              192515.237627\n",
       "CouncilArea_Darebin City Council            108459.471956\n",
       "CouncilArea_Frankston City Council          416400.631432\n",
       "CouncilArea_Glen Eira City Council          321649.513477\n",
       "CouncilArea_Greater Dandenong City Council  164250.505161\n",
       "CouncilArea_Hobsons Bay City Council        -22735.883698\n",
       "CouncilArea_Hume City Council               -96717.883515\n",
       "CouncilArea_Kingston City Council           325842.779980\n",
       "CouncilArea_Knox City Council                51844.080553\n",
       "CouncilArea_Macedon Ranges Shire Council    452079.690090\n",
       "CouncilArea_Manningham City Council         180948.961079\n",
       "CouncilArea_Maribyrnong City Council       -133546.043056\n",
       "CouncilArea_Maroondah City Council          132209.289600\n",
       "CouncilArea_Melbourne City Council          215336.300335\n",
       "CouncilArea_Melton City Council            -242872.494167\n",
       "CouncilArea_Mitchell Shire Council          228721.271282\n",
       "CouncilArea_Monash City Council             268001.674753\n",
       "CouncilArea_Moonee Valley City Council       54592.873503\n",
       "CouncilArea_Moorabool Shire Council          58157.580663\n",
       "CouncilArea_Moreland City Council            67259.465723\n",
       "CouncilArea_Nillumbik Shire Council        -114639.603469\n",
       "CouncilArea_Port Phillip City Council       275189.179330\n",
       "CouncilArea_Stonnington City Council        386947.683359\n",
       "CouncilArea_Whitehorse City Council         196637.382808\n",
       "CouncilArea_Whittlesea City Council           8353.386155\n",
       "CouncilArea_Wyndham City Council           -334072.055581\n",
       "CouncilArea_Yarra City Council              236305.367270\n",
       "CouncilArea_Yarra Ranges Shire Council      138456.617011\n",
       "Regionname_Eastern Victoria                 -33600.063457\n",
       "Regionname_Northern Metropolitan           -178667.662759\n",
       "Regionname_Northern Victoria                 81626.012314\n",
       "Regionname_South-Eastern Metropolitan       -89804.273740\n",
       "Regionname_Southern Metropolitan            -91814.110037\n",
       "Regionname_Western Metropolitan             -55780.930477\n",
       "Regionname_Western Victoria                 111118.641125"
      ]
     },
     "execution_count": 427,
     "metadata": {},
     "output_type": "execute_result"
    }
   ],
   "source": [
    "pd.DataFrame(lr.coef_, index=X_train.columns, columns=['coefs'])"
   ]
  },
  {
   "cell_type": "markdown",
   "metadata": {},
   "source": [
    "#### Feature Selection - RFE"
   ]
  },
  {
   "cell_type": "code",
   "execution_count": 428,
   "metadata": {},
   "outputs": [],
   "source": [
    "from sklearn.feature_selection import RFE"
   ]
  },
  {
   "cell_type": "code",
   "execution_count": 429,
   "metadata": {},
   "outputs": [
    {
     "data": {
      "text/plain": [
       "[<matplotlib.lines.Line2D at 0x29216a85ba8>]"
      ]
     },
     "execution_count": 429,
     "metadata": {},
     "output_type": "execute_result"
    },
    {
     "data": {
      "image/png": "[encoded data removed]",
      "text/plain": [
       "<Figure size 432x288 with 1 Axes>"
      ]
     },
     "metadata": {},
     "output_type": "display_data"
    }
   ],
   "source": [
    "noof_list=54\n",
    "score_list=[]\n",
    "\n",
    "for n in range(noof_list):\n",
    "    X_train, X_test, y_train, y_test = train_test_split(X, y, \n",
    "                                test_size=0.30, random_state=42)\n",
    "    model = LinearRegression()\n",
    "    rfe = RFE(model, n+1)\n",
    "    X_train_rfe = rfe.fit_transform(X_train, y_train)\n",
    "    X_test_rfe = rfe.transform(X_test)\n",
    "    model.fit(X_train_rfe, y_train)\n",
    "    score = model.score(X_test_rfe, y_test)\n",
    "    score_list.append(score)\n",
    "\n",
    "plt.plot(score_list)"
   ]
  },
  {
   "cell_type": "code",
   "execution_count": 430,
   "metadata": {},
   "outputs": [
    {
     "data": {
      "text/plain": [
       "[0.030429126832904548,\n",
       " 0.05094305422993883,\n",
       " 0.051302116676710474,\n",
       " 0.0564621498394946,\n",
       " 0.06373919724262511,\n",
       " 0.2520558047570627,\n",
       " 0.31550709208569494,\n",
       " 0.338403979826161,\n",
       " 0.3600807187750371,\n",
       " 0.3922875476484832,\n",
       " 0.3974281845248869,\n",
       " 0.41402076563496926,\n",
       " 0.4149028266221257,\n",
       " 0.44469587485971884,\n",
       " 0.44669511100910664,\n",
       " 0.4516526418603017,\n",
       " 0.4571546355383862,\n",
       " 0.46737289721660186,\n",
       " 0.47932518488643333,\n",
       " 0.49000883077286944,\n",
       " 0.5016659891408073,\n",
       " 0.5019732242131675,\n",
       " 0.50665646126836,\n",
       " 0.5160777253002091,\n",
       " 0.5161117678518348,\n",
       " 0.5946797137350512,\n",
       " 0.5987435199409934,\n",
       " 0.600729696468594,\n",
       " 0.6084933292778525,\n",
       " 0.6088775758781042,\n",
       " 0.6091079379260634,\n",
       " 0.6100197867453794,\n",
       " 0.6115706339983973,\n",
       " 0.6119475886460533,\n",
       " 0.6130512694568573,\n",
       " 0.613162215480934,\n",
       " 0.6141294407453677,\n",
       " 0.6141845046419769,\n",
       " 0.6142607709007293,\n",
       " 0.6141762431908684,\n",
       " 0.619232983431206,\n",
       " 0.6193059088827106,\n",
       " 0.6218142078110382,\n",
       " 0.6220503182903045,\n",
       " 0.6217636608990398,\n",
       " 0.6558474673193615,\n",
       " 0.6558052021720236,\n",
       " 0.6558201282828963,\n",
       " 0.656609420440992,\n",
       " 0.6572871918673742,\n",
       " 0.6573084614304187,\n",
       " 0.6572981699117021,\n",
       " 0.6609714513428117,\n",
       " 0.6609676019630021]"
      ]
     },
     "execution_count": 430,
     "metadata": {},
     "output_type": "execute_result"
    }
   ],
   "source": [
    "score_list"
   ]
  },
  {
   "cell_type": "code",
   "execution_count": 434,
   "metadata": {},
   "outputs": [
    {
     "name": "stdout",
     "output_type": "stream",
     "text": [
      "['Rooms', 'Distance', 'Bathroom', 'Lattitude', 'Longtitude', 'Type_t', 'Type_u', 'Method_S', 'Method_SP', 'CouncilArea_Bayside City Council', 'CouncilArea_Boroondara City Council', 'CouncilArea_Brimbank City Council', 'CouncilArea_Cardinia Shire Council', 'CouncilArea_Casey City Council', 'CouncilArea_Darebin City Council', 'CouncilArea_Frankston City Council', 'CouncilArea_Glen Eira City Council', 'CouncilArea_Greater Dandenong City Council', 'CouncilArea_Hume City Council', 'CouncilArea_Kingston City Council', 'CouncilArea_Knox City Council', 'CouncilArea_Macedon Ranges Shire Council', 'CouncilArea_Manningham City Council', 'CouncilArea_Maribyrnong City Council', 'CouncilArea_Maroondah City Council', 'CouncilArea_Melbourne City Council', 'CouncilArea_Melton City Council', 'CouncilArea_Mitchell Shire Council', 'CouncilArea_Monash City Council', 'CouncilArea_Moonee Valley City Council', 'CouncilArea_Moorabool Shire Council', 'CouncilArea_Moreland City Council', 'CouncilArea_Nillumbik Shire Council', 'CouncilArea_Port Phillip City Council', 'CouncilArea_Stonnington City Council', 'CouncilArea_Whitehorse City Council', 'CouncilArea_Wyndham City Council', 'CouncilArea_Yarra City Council', 'CouncilArea_Yarra Ranges Shire Council', 'Regionname_Eastern Victoria', 'Regionname_Northern Metropolitan', 'Regionname_Northern Victoria', 'Regionname_South-Eastern Metropolitan', 'Regionname_Southern Metropolitan', 'Regionname_Western Metropolitan', 'Regionname_Western Victoria']\n"
     ]
    }
   ],
   "source": [
    "cols=list(X_train.columns)\n",
    "model = LinearRegression()\n",
    "rfe = RFE(model, 46)\n",
    "X_train_rfe = rfe.fit_transform(X_train, y_train)\n",
    "model.fit(X_train_rfe, y_train)\n",
    "temp = pd.Series(rfe.support_, index=cols)\n",
    "selected_features = list(temp[temp==True].index)\n",
    "\n",
    "print(selected_features)"
   ]
  },
  {
   "cell_type": "code",
   "execution_count": 436,
   "metadata": {},
   "outputs": [
    {
     "name": "stdout",
     "output_type": "stream",
     "text": [
      "R2 of Train:  0.6671531963969286\n",
      "RMSE of Train:  249675.52627205252\n",
      "\n",
      "\n",
      "R2 of Test:  0.6558474673193615\n",
      "RMSE of Test:  254449.82649120997\n"
     ]
    }
   ],
   "source": [
    "from sklearn.linear_model import LinearRegression\n",
    "from sklearn.metrics import r2_score, mean_squared_error\n",
    "\n",
    "lr = LinearRegression(fit_intercept=True)\n",
    "\n",
    "lr.fit(X_train[selected_features], y_train)\n",
    "y_pred_train = lr.predict(X_train[selected_features])\n",
    "\n",
    "print('R2 of Train: ', r2_score(y_train, y_pred_train))\n",
    "print('RMSE of Train: ', np.sqrt(mean_squared_error(y_train, y_pred_train)))\n",
    "\n",
    "y_pred_test = lr.predict(X_test[selected_features])\n",
    "\n",
    "print('\\n')\n",
    "print('R2 of Test: ', r2_score(y_test, y_pred_test))\n",
    "print('RMSE of Test: ', np.sqrt(mean_squared_error(y_test, y_pred_test)))"
   ]
  },
  {
   "cell_type": "code",
   "execution_count": null,
   "metadata": {},
   "outputs": [],
   "source": []
  }
 ],
 "metadata": {
  "kernelspec": {
   "display_name": "Python 3",
   "language": "python",
   "name": "python3"
  },
  "language_info": {
   "codemirror_mode": {
    "name": "ipython",
    "version": 3
   },
   "file_extension": ".py",
   "mimetype": "text/x-python",
   "name": "python",
   "nbconvert_exporter": "python",
   "pygments_lexer": "ipython3",
   "version": "3.6.5"
  }
 },
 "nbformat": 4,
 "nbformat_minor": 2
}
